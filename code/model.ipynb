{
 "cells": [
  {
   "cell_type": "code",
   "execution_count": 1,
   "metadata": {},
   "outputs": [],
   "source": [
    "import torch as t\n",
    "import torch.nn as nn\n",
    "import matplotlib.pyplot as plt\n",
    "from torch.utils.data import Dataset"
   ]
  },
  {
   "cell_type": "code",
   "execution_count": null,
   "metadata": {},
   "outputs": [],
   "source": [
    "class ResBlock(nn.Module):\n",
    "    def __init__(self, input_channels) -> None: #input image should be a 64x64 I THINK IM NOT SURE\n",
    "        super(ResBlock, self).__init__()\n",
    "        self.nonlinearity = nn.ReLU()\n",
    "        self.padding = nn.ReflectionPad2d(1)\n",
    "        self.convolution = nn.Conv2d(input_channels, input_channels, 3)#(64 + 2)/3 + 1 = 23\n",
    "        self.normalization = nn.InstanceNorm2d(input_channels)\n",
    "    \n",
    "    def forward(self, x):\n",
    "        firstPadding = self.padding(x)\n",
    "        firstConv = self.convolution(firstPadding)\n",
    "        firstNormalization = self.normalization(firstConv)\n",
    "        firstNonLinearity = self.nonlinearity(firstNormalization)\n",
    "\n",
    "        secondPadding = self.padding(firstNonLinearity)\n",
    "        secondConv = self.convolution(secondPadding)\n",
    "        secondNormalization = self.normalization(secondConv)\n",
    "        finalNonLinearity = self.nonlinearity(secondNormalization)\n",
    "        return finalNonLinearity + x\n",
    "\n",
    "         "
   ]
  }
 ],
 "metadata": {
  "kernelspec": {
   "display_name": "Python 3",
   "language": "python",
   "name": "python3"
  },
  "language_info": {
   "codemirror_mode": {
    "name": "ipython",
    "version": 3
   },
   "file_extension": ".py",
   "mimetype": "text/x-python",
   "name": "python",
   "nbconvert_exporter": "python",
   "pygments_lexer": "ipython3",
   "version": "3.7.16"
  },
  "orig_nbformat": 4
 },
 "nbformat": 4,
 "nbformat_minor": 2
}
