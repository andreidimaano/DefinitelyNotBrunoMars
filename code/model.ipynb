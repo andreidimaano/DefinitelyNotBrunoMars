{
 "cells": [
  {
   "cell_type": "code",
   "execution_count": 1,
   "metadata": {},
   "outputs": [],
   "source": [
    "import torch as t\n",
    "import torch.nn as nn\n",
    "import matplotlib.pyplot as plt\n",
    "from torch.utils.data import Dataset"
   ]
  },
  {
   "cell_type": "code",
   "execution_count": null,
   "metadata": {},
   "outputs": [],
   "source": [
    "class DownSample(nn.Module):\n",
    "    def __init__(self, input_channels, output_channels, input_dims) -> None:\n",
    "        super(DownSample,self).__init__()\n",
    "        self.conv = nn.Sequential(nn.Conv2d(in_channels=input_channels, out_channels=output_channels, kernel_size=5, stride=2), nn.ZeroPad2d(2))\n",
    "        self.upscale = nn.PixelShuffle(2)\n",
    "        self.nonlinearity = nn.GLU(dim=1)\n",
    "        self.norm = nn.InstanceNorm2d(input_dims)\n",
    "\n",
    "    def forward(self, x):\n",
    "        conv = self.conv(x)\n",
    "        normalize = self.norm(conv)\n",
    "        upscale = self.upscale(normalize)\n",
    "        finalOutput = self.nonlinearity(upscale)\n",
    "        return finalOutput"
   ]
  },
  {
   "cell_type": "code",
   "execution_count": null,
   "metadata": {},
   "outputs": [],
   "source": [
    "class UpSample(nn.Module):\n",
    "    def __init__(self, input_channels, output_channels, input_dims) -> None:\n",
    "        super(UpSample,self).__init__()\n",
    "        self.conv = nn.Sequential(nn.Conv2d(in_channels=input_channels, out_channels=output_channels, kernel_size=5, stride=1), nn.ZeroPad2d(2))\n",
    "        self.nonlinearity = nn.GLU(dim=1)\n",
    "        self.norm = nn.InstanceNorm2d(input_dims)\n",
    "\n",
    "    def forward(self, x):\n",
    "        conv = self.conv(x)\n",
    "        normalize = self.norm(conv)\n",
    "        finalOutput = self.nonlinearity(normalize)\n",
    "        return finalOutput"
   ]
  },
  {
   "cell_type": "code",
   "execution_count": null,
   "metadata": {},
   "outputs": [],
   "source": [
    "class ResBlock(nn.Module):\n",
    "    def __init__(self, input_dims) -> None: #input image should be a 64x64 I THINK IM NOT SURE\n",
    "        super(ResBlock, self).__init__()\n",
    "        self.nonlinearity = nn.GLU(dim=1)\n",
    "        self.conv1 = nn.Sequential(nn.Conv2d(in_channels=256, out_channels=512, kernel_size=(1,3)), nn.ZeroPad2d((0,0,1,1)))\n",
    "        self.conv2 = nn.Sequential(nn.Conv2d(in_channels=256, out_channels=256, kernel_size=(1,3)), nn.ZeroPad2d((0,0,1,1)))\n",
    "        self.norm = nn.InstanceNorm2d(input_dims)\n",
    "\n",
    "    \n",
    "    def forward(self, x):\n",
    "        firstConv = self.conv1(x)\n",
    "        firstNorm = self.norm(firstConv)\n",
    "        firstNonLinearity = self.nonlinearity(firstNorm)\n",
    "\n",
    "        secondConv = self.conv2(firstNonLinearity)\n",
    "        finalOutput = self.norm(secondConv)\n",
    "        return finalOutput + x \n",
    "\n",
    "         "
   ]
  }
 ],
 "metadata": {
  "kernelspec": {
   "display_name": "Python 3",
   "language": "python",
   "name": "python3"
  },
  "language_info": {
   "codemirror_mode": {
    "name": "ipython",
    "version": 3
   },
   "file_extension": ".py",
   "mimetype": "text/x-python",
   "name": "python",
   "nbconvert_exporter": "python",
   "pygments_lexer": "ipython3",
   "version": "3.7.16"
  },
  "orig_nbformat": 4
 },
 "nbformat": 4,
 "nbformat_minor": 2
}
