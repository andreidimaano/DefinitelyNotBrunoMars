{
 "cells": [
  {
   "cell_type": "code",
   "execution_count": 1,
   "metadata": {},
   "outputs": [],
   "source": [
    "import torch as t\n",
    "import torch.nn as nn\n",
    "import matplotlib.pyplot as plt\n",
    "from torch.utils.data import Dataset"
   ]
  },
  {
   "cell_type": "code",
   "execution_count": null,
   "metadata": {},
   "outputs": [],
   "source": [
    "class DownSample(nn.Module):\n",
    "    def __init__(self, input_channels, output_channels) -> None:\n",
    "        super(DownSample,self).__init__()\n",
    "        self.conv = nn.Sequential(nn.Conv2d(in_channels=input_channels, out_channels=output_channels, kernel_size=5, stride=2), nn.ReflectionPad2d(2))\n",
    "        self.upscale = nn.PixelShuffle(2)\n",
    "        self.nonlinearity = nn.GLU(dim=1)\n",
    "\n",
    "    def forward(self, x):\n",
    "        normFunc = nn.InstanceNorm2d(x.shape[1])\n",
    "        conv = self.conv(x)\n",
    "        normalize = normFunc(conv)\n",
    "        upscale = self.upscale(normalize)\n",
    "        finalOutput = self.nonlinearity(upscale)\n",
    "        return finalOutput"
   ]
  },
  {
   "cell_type": "code",
   "execution_count": null,
   "metadata": {},
   "outputs": [],
   "source": [
    "class UpSample(nn.Module):\n",
    "    def __init__(self, input_channels, output_channels) -> None:\n",
    "        super(UpSample,self).__init__()\n",
    "        self.conv = nn.Sequential(nn.Conv2d(in_channels=input_channels, out_channels=output_channels, kernel_size=5, stride=1), nn.ReflectionPad2d(2))\n",
    "        self.nonlinearity = nn.GLU(dim=1)\n",
    "\n",
    "    def forward(self, x):\n",
    "        normFunc = nn.InstanceNorm2d(x.shape[1])\n",
    "        conv = self.conv(x)\n",
    "        normalize = normFunc(conv)\n",
    "        finalOutput = self.nonlinearity(normalize)\n",
    "        return finalOutput"
   ]
  },
  {
   "cell_type": "code",
   "execution_count": null,
   "metadata": {},
   "outputs": [],
   "source": [
    "class ResBlock(nn.Module):\n",
    "    def __init__(self) -> None: #input image should be a 64x96 I THINK IM NOT SURE\n",
    "        super(ResBlock, self).__init__()\n",
    "        self.nonlinearity = nn.GLU(dim=1)\n",
    "        self.conv1 = nn.Sequential(nn.Conv2d(in_channels=256, out_channels=512, kernel_size=(1,3)), nn.ZeroPad2d((0,0,1,1)))\n",
    "        self.conv2 = nn.Sequential(nn.Conv2d(in_channels=256, out_channels=256, kernel_size=(1,3)), nn.ZeroPad2d((0,0,1,1)))\n",
    "\n",
    "    \n",
    "    def forward(self, x):\n",
    "        normFunc = nn.InstanceNorm2d(x.shape[1])\n",
    "        firstConv = self.conv1(x)\n",
    "        firstNorm = self.norm(firstConv)\n",
    "        firstNonLinearity = self.nonlinearity(firstNorm)\n",
    "\n",
    "        secondConv = self.conv2(firstNonLinearity)\n",
    "        finalOutput = self.norm(secondConv)\n",
    "        return finalOutput + x \n",
    "\n",
    "         "
   ]
  },
  {
   "cell_type": "code",
   "execution_count": null,
   "metadata": {},
   "outputs": [],
   "source": [
    "class Discriminator(nn.Module):\n",
    "    def __init__(self, width, height) -> None:\n",
    "        super().__init__(Discriminator, self)\n",
    "        self.nonlinearity = nn.GLU(dim=1)\n",
    "        self.conv1 = nn.Sequential(nn.Conv2d(in_channels=1, out_channels=128, kernel_size=3), nn.ReflectionPad2d(1))\n",
    "        self.downsample1 = DownSample(input_channels=64, output_channels=256)\n",
    "        self.downsample2 = DownSample(input_channels=128, output_channels=512)\n",
    "        self.downsample3 = DownSample(input_channels=256, output_channels=1024)\n",
    "        self.conv2 = nn.Sequential(nn.Conv2d(in_channels=512, out_channels=1024, kernel_size=(1,5)), nn.ReflectionPad2d((0,0,2,2)))\n",
    "        self.conv3 = nn.Sequential(nn.Conv2d(in_channels=512, out_channels=1, kernel_size=(1,3)), nn.ReflectionPad2d((0,0,1,1)))\n",
    "        self.fc = nn.Linear(((width+7)/8).item() * ((height+7)/8).item(), 1)\n",
    "\n",
    "    def forward(self, x):\n",
    "        normFunc = nn.InstanceNorm2d(x.shape[1])\n",
    "        firstConv = self.conv1(x)\n",
    "        firstNonlinearity = self.nonlinearity(firstConv)\n",
    "        downs1 = self.downsample1(firstNonlinearity)\n",
    "        downs2 = self.downsample2(downs1)\n",
    "        downs3 = self.downsample3(downs2)\n",
    "\n",
    "        secondConv = self.conv2(downs3)\n",
    "        firstNorm = normFunc(secondConv)\n",
    "        secondNonlinearity = self.nonlinearity(firstNorm)\n",
    "\n",
    "        thirdConv = self.conv3(secondNonlinearity)\n",
    "        thirdConv = thirdConv.view(x.shape[0], -1)\n",
    "        finalOutput = self.fc(thirdConv)\n",
    "        return nn.Sigmoid()(finalOutput)\n"
   ]
  }
 ],
 "metadata": {
  "kernelspec": {
   "display_name": "Python 3",
   "language": "python",
   "name": "python3"
  },
  "language_info": {
   "codemirror_mode": {
    "name": "ipython",
    "version": 3
   },
   "file_extension": ".py",
   "mimetype": "text/x-python",
   "name": "python",
   "nbconvert_exporter": "python",
   "pygments_lexer": "ipython3",
   "version": "3.7.16"
  },
  "orig_nbformat": 4
 },
 "nbformat": 4,
 "nbformat_minor": 2
}
