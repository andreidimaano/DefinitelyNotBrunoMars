{
 "cells": [
  {
   "cell_type": "code",
   "execution_count": 2,
   "metadata": {},
   "outputs": [],
   "source": [
    "import torch as t\n",
    "import torch.nn as nn\n",
    "import matplotlib.pyplot as plt\n",
    "from torch.utils.data import Dataset\n",
    "import h5py\n",
    "import numpy as np\n",
    "import librosa"
   ]
  },
  {
   "cell_type": "code",
   "execution_count": 5,
   "metadata": {},
   "outputs": [],
   "source": [
    "class ArtistDataset(Dataset):\n",
    "    def __init__(self, data, distribution = [], sr=22050):\n",
    "        self.data = data\n",
    "        self.sr = 22050\n",
    "        self.distribution = distribution\n",
    "\n",
    "    def __len__(self):\n",
    "        return self.data.shape[0]\n",
    "\n",
    "    def __getitem__(self, index):\n",
    "        x = self.data[index]\n",
    "        return t.from_numpy(x)\n",
    "    \n",
    "    def get_key(self):\n",
    "        pass\n",
    "    \n",
    "    def select_from_distribution(self):\n",
    "       weighted_elements = np.arange(len(self.distribution))\n",
    "       random_element = np.random.choice(weighted_elements, p=self.distribution)\n",
    "       return random_element\n",
    "       \n",
    "    def time_stretch(self, data, factor):\n",
    "        audio_stretched = librosa.effects.time_stretch(data, factor)\n",
    "        audio_stretched_resampled = librosa.resample(audio_stretched,  len(audio_stretched), len(data))\n",
    "        return audio_stretched_resampled\n",
    "\n",
    "    \n",
    "    def pitch_shift(self, data, steps):\n",
    "        # from IU's songs calculate the most frequent frequencies\n",
    "        # from this probability distribution we randomly select a pitch to shift up to\n",
    "        \n",
    "        \n",
    "        return librosa.effects.pitch_shift(data, sr=self.sr, n_steps=steps)\n",
    "\n",
    "    def close(self):\n",
    "        self.file.close()"
   ]
  },
  {
   "cell_type": "code",
   "execution_count": 6,
   "metadata": {},
   "outputs": [],
   "source": [
    "iu_h5 = h5py.File(\"iu.h5\", 'r')\n",
    "bruno_h5 = h5py.File(\"bruno.h5\", 'r')\n",
    "\n",
    "iu_dataset = iu_h5[\"audio\"]\n",
    "bruno_dataset = bruno_h5[\"audio\"]\n",
    "\n",
    "iu_dataset = np.array(iu_dataset)\n",
    "bruno_dataset = np.array(bruno_dataset)\n",
    "\n",
    "iu_data = ArtistDataset(iu_dataset)\n",
    "bruno_mars_data = ArtistDataset(bruno_dataset)\n",
    "\n",
    "iu_h5.close()\n",
    "bruno_h5.close()"
   ]
  },
  {
   "cell_type": "code",
   "execution_count": 8,
   "metadata": {},
   "outputs": [],
   "source": [
    "class UpSample(nn.Module):\n",
    "    def __init__(self, input_channels, output_channels) -> None:\n",
    "        super(UpSample,self).__init__()\n",
    "        self.conv = nn.Sequential(nn.ReflectionPad2d(2), nn.Conv2d(in_channels=input_channels, out_channels=output_channels, kernel_size=5, stride=1))\n",
    "        self.upscale = nn.PixelShuffle(2)\n",
    "        self.nonlinearity = nn.GLU(dim=1)\n",
    "\n",
    "    def forward(self, x):\n",
    "        normFunc = nn.InstanceNorm2d(x.shape[1])\n",
    "        conv = self.conv(x)\n",
    "        normalize = normFunc(conv)\n",
    "        upscale = self.upscale(normalize)\n",
    "        finalOutput = self.nonlinearity(upscale)\n",
    "        return finalOutput"
   ]
  },
  {
   "cell_type": "code",
   "execution_count": 9,
   "metadata": {},
   "outputs": [],
   "source": [
    "class DownSample(nn.Module):\n",
    "    def __init__(self, input_channels, output_channels) -> None:\n",
    "        super(DownSample,self).__init__()\n",
    "        self.conv = nn.Sequential(nn.ReflectionPad2d(2), nn.Conv2d(in_channels=input_channels, out_channels=output_channels, kernel_size=5, stride=2))\n",
    "        self.nonlinearity = nn.GLU(dim=1)\n",
    "\n",
    "    def forward(self, x):\n",
    "        normFunc = nn.InstanceNorm2d(x.shape[1])\n",
    "        conv = self.conv(x)\n",
    "        normalize = normFunc(conv)\n",
    "        finalOutput = self.nonlinearity(normalize)\n",
    "        return finalOutput"
   ]
  },
  {
   "cell_type": "code",
   "execution_count": 10,
   "metadata": {},
   "outputs": [],
   "source": [
    "class ResBlock(nn.Module):\n",
    "    def __init__(self) -> None: #input image should be a 64x94 I THINK IM NOT SURE\n",
    "        super(ResBlock, self).__init__()\n",
    "        self.nonlinearity = nn.GLU(dim=1)\n",
    "        self.conv1 = nn.Sequential(nn.ZeroPad2d((0,0,1,1)), nn.Conv2d(in_channels=256, out_channels=512, kernel_size=(1,3)))\n",
    "        self.conv2 = nn.Sequential(nn.ZeroPad2d((0,0,1,1)), nn.Conv2d(in_channels=256, out_channels=256, kernel_size=(1,3)))\n",
    "\n",
    "    \n",
    "    def forward(self, x):\n",
    "        firstConv = self.conv1(x)\n",
    "        normFunc = nn.InstanceNorm2d(firstConv.shape[1])\n",
    "        firstNorm = normFunc(firstConv)\n",
    "        firstNonLinearity = self.nonlinearity(firstNorm)\n",
    "\n",
    "        secondConv = self.conv2(firstNonLinearity)\n",
    "        normFunc = nn.InstanceNorm2d(secondConv.shape[1])\n",
    "        finalOutput = normFunc(secondConv)\n",
    "        return finalOutput + x \n",
    "\n",
    "         "
   ]
  },
  {
   "cell_type": "code",
   "execution_count": 19,
   "metadata": {},
   "outputs": [],
   "source": [
    "class Generator(nn.Module):\n",
    "    def __init__(self, features) -> None:\n",
    "        super(Generator, self).__init__()\n",
    "        self.nonlinearity = nn.GLU(dim=1)\n",
    "        self.conv1 = nn.Sequential(nn.ReflectionPad2d(2,2,7,7), nn.Conv2d(in_channels=1, out_channels=128, kernel_size=(5, 15)))\n",
    "        self.downsample1 = DownSample(input_channels=64, output_channels=256)\n",
    "        self.downsample2 = DownSample(input_channels=128, output_channels=512)\n",
    "        self.conv2 = nn.Conv2d(in_channels=( ((features+1)//2 + 1)//2*256), out_channels=256, kernel_size=1)\n",
    "        for i in range(6):\n",
    "            self.add_module(f\"resblock{i+1}\", ResBlock())\n",
    "        self.conv3 = nn.Conv2d(in_channels=( ((features+1)//2 + 1)//2*256), out_channels=256, kernel_size=1)\n",
    "        self.upsample1 = UpSample(input_channels=256, output_channels=1024)\n",
    "        self.upsample2 = UpSample(input_channels=128, output_channels=512)\n",
    "        self.conv4 = nn.Sequential(nn.ReflectionPad2d(2,2,7,7), nn.Conv2d(in_channels=64, out_channels=features, kernel_size=(5, 15)))\n",
    "        self.conv5 = nn.Sequential(nn.ReflectionPad2d(2,2,7,7), nn.Conv2d(in_channels= ((features+1)//2 + 1)//2*4, kernel_size=(5,15), out_channels=1))\n",
    "\n",
    "    def forward(self, x):\n",
    "        firstConv = self.conv1(x)\n",
    "        firstNonLinearity = self.nonlinearity(firstConv)\n",
    "        firstDown = self.downsample1(firstNonLinearity)\n",
    "        secondDown = self.downsample2(firstDown)\n",
    "        secondDown = secondDown.reshape((secondDown.shape[0], -1,((secondDown.shape[2]+1)//2 + 1)//2, 1))\n",
    "\n",
    "        secondConv = self.conv2(secondDown)\n",
    "        normFunc = nn.InstanceNorm2d(secondConv.shape[1])\n",
    "        secondNorm = normFunc(secondConv)\n",
    "        for i in range(6):\n",
    "            secondNorm = self.__getattr__(f\"resblock{i+1}\")(secondNorm)\n",
    "        \n",
    "        thirdConv = self.conv3(secondNorm)\n",
    "        normFunc = nn.InstanceNorm2d(thirdConv.shape[1])\n",
    "        thirdNorm = normFunc(thirdConv)\n",
    "        thirdNorm = thirdNorm.reshape(thirdNorm.shape[0], -1, ((thirdNorm.shape[2]+1)//2 + 1)//2, ((thirdNorm.shape[3]+1)//2 + 1)//2)\n",
    "        \n",
    "        ups1 = self.upsample1(thirdNorm)\n",
    "        ups2 = self.upsample2(ups1)\n",
    "\n",
    "        fourthConv = self.conv4(ups2)\n",
    "        fourthConv = fourthConv.reshape(fourthConv.shape[0],fourthConv.shape[3],fourthConv.shape[2],fourthConv.shape[1])\n",
    "\n",
    "        return self.conv5(fourthConv)\n",
    "\n"
   ]
  },
  {
   "cell_type": "code",
   "execution_count": 16,
   "metadata": {},
   "outputs": [],
   "source": [
    "class Discriminator(nn.Module):\n",
    "    def __init__(self, width, height) -> None:\n",
    "        super(Discriminator, self).__init__()\n",
    "        self.nonlinearity = nn.GLU(dim=1)\n",
    "        self.conv1 = nn.Sequential(nn.ReflectionPad2d(1), nn.Conv2d(in_channels=1, out_channels=128, kernel_size=3))\n",
    "        self.downsample1 = DownSample(input_channels=64, output_channels=256)\n",
    "        self.downsample2 = DownSample(input_channels=128, output_channels=512)\n",
    "        self.downsample3 = DownSample(input_channels=256, output_channels=1024)\n",
    "        self.conv2 = nn.Sequential(nn.ReflectionPad2d((0,0,2,2)), nn.Conv2d(in_channels=512, out_channels=1024, kernel_size=(1,5)))\n",
    "        self.conv3 = nn.Sequential(nn.ReflectionPad2d((0,0,1,1)), nn.Conv2d(in_channels=512, out_channels=1, kernel_size=(1,3)))\n",
    "        self.fc = nn.Linear(((width+7)//8) * ((height+7)//8), 1)\n",
    "\n",
    "    def forward(self, x):\n",
    "        firstConv = self.conv1(x)\n",
    "        firstNonlinearity = self.nonlinearity(firstConv)\n",
    "        downs1 = self.downsample1(firstNonlinearity)\n",
    "        downs2 = self.downsample2(downs1)\n",
    "        downs3 = self.downsample3(downs2)\n",
    "\n",
    "        secondConv = self.conv2(downs3)\n",
    "        normFunc = nn.InstanceNorm2d(secondConv.shape[1])\n",
    "        firstNorm = normFunc(secondConv)\n",
    "        secondNonlinearity = self.nonlinearity(firstNorm)\n",
    "\n",
    "        thirdConv = self.conv3(secondNonlinearity)\n",
    "        thirdConv = thirdConv.view(thirdConv.shape[0], -1)\n",
    "        finalOutput = self.fc(thirdConv)\n",
    "        return nn.Sigmoid()(finalOutput)\n"
   ]
  },
  {
   "cell_type": "code",
   "execution_count": 20,
   "metadata": {},
   "outputs": [],
   "source": [
    "test = Generator(94)"
   ]
  },
  {
   "cell_type": "code",
   "execution_count": 21,
   "metadata": {},
   "outputs": [
    {
     "ename": "",
     "evalue": "",
     "output_type": "error",
     "traceback": [
      "\u001b[1;31mThe Kernel crashed while executing code in the the current cell or a previous cell. Please review the code in the cell(s) to identify a possible cause of the failure. Click <a href='https://aka.ms/vscodeJupyterKernelCrash'>here</a> for more info. View Jupyter <a href='command:jupyter.viewOutput'>log</a> for further details."
     ]
    }
   ],
   "source": [
    "test2 = Discriminator(1,1)"
   ]
  },
  {
   "cell_type": "code",
   "execution_count": null,
   "metadata": {},
   "outputs": [],
   "source": []
  }
 ],
 "metadata": {
  "kernelspec": {
   "display_name": "Python 3",
   "language": "python",
   "name": "python3"
  },
  "language_info": {
   "codemirror_mode": {
    "name": "ipython",
    "version": 3
   },
   "file_extension": ".py",
   "mimetype": "text/x-python",
   "name": "python",
   "nbconvert_exporter": "python",
   "pygments_lexer": "ipython3",
   "version": "3.11.3"
  },
  "orig_nbformat": 4
 },
 "nbformat": 4,
 "nbformat_minor": 2
}
