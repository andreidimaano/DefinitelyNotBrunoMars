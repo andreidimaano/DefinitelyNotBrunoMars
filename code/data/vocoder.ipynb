{
 "cells": [
  {
   "cell_type": "code",
   "execution_count": 9,
   "metadata": {},
   "outputs": [],
   "source": [
    "from melgan.model.generator import Generator\n",
    "from melgan.utils.hparams import HParam\n",
    "import torch\n",
    "import soundfile as sf\n",
    "import os\n",
    "import librosa\n",
    "import numpy as np"
   ]
  },
  {
   "cell_type": "code",
   "execution_count": 43,
   "metadata": {},
   "outputs": [],
   "source": [
    "def audio_to_spectrogram(src_dir):\n",
    "    spectrogram = []\n",
    "    for root, _, files in os.walk(src_dir, topdown=False):\n",
    "        for file_name in files:\n",
    "            if file_name.endswith('.flac') or file_name.endswith('.mp3'):\n",
    "                try:\n",
    "                    print(file_name)\n",
    "                    input_file = os.path.join(root, file_name)\n",
    "                    audio, sr = librosa.load(input_file, sr=22050)\n",
    "                    mel_spectrogram = librosa.feature.melspectrogram(y=audio, sr=sr, n_fft=1024, hop_length=256, n_mels=80)\n",
    "                    log_mel_spectrogram = librosa.power_to_db(mel_spectrogram, ref=np.max)\n",
    "                    if log_mel_spectrogram.shape[-1] >= 64:    # training sample consists of 64 randomly cropped frames\n",
    "                        return log_mel_spectrogram\n",
    "                except AttributeError as e:\n",
    "                    print(f\"Error processing file: {file_name} - {e}\")\n",
    "                    continue\n",
    "    return spectrogram"
   ]
  },
  {
   "cell_type": "code",
   "execution_count": 48,
   "metadata": {},
   "outputs": [
    {
     "name": "stdout",
     "output_type": "stream",
     "text": [
      "How Far I_ll Go.mp3\n",
      "tensor([ -1771,  -7859, -14237,  ...,     30,     10,    -27], device='cuda:0',\n",
      "       dtype=torch.int16)\n"
     ]
    }
   ],
   "source": [
    "checkpoint = torch.load(\"./nvidia_tacotron2_LJ11_epoch6400.pt\") \n",
    "hp = HParam(\"./melgan/config/default.yaml\")\n",
    "\n",
    "vocoder = Generator(hp.audio.n_mel_channels).cuda()\n",
    "vocoder.load_state_dict(checkpoint[\"model_g\"])\n",
    "vocoder.eval()\n",
    "# mel = torch.randn(1, 80, 234) # use your own mel-spectrogram here\n",
    "# print(mel.shape)\n",
    "spec = librosa.db_to_power(audio_to_spectrogram('../iu'))\n",
    "mel = torch.from_numpy(spec[np.newaxis,:])\n",
    "\n",
    "if torch.cuda.is_available():\n",
    "    vocoder = vocoder.cuda()\n",
    "    mel = mel.cuda()\n",
    "\n",
    "with torch.no_grad():\n",
    "    audio = vocoder.inference(mel)\n",
    "    \n",
    "print(audio)\n",
    "sf.write(\"audio2.wav\", librosa.feature.inverse.mel_to_audio(spec, sr=22050, n_fft=1024, hop_length=256), 22050)\n",
    "sf.write(\"audio.wav\", audio.cpu().numpy(), 22050)"
   ]
  },
  {
   "attachments": {},
   "cell_type": "markdown",
   "metadata": {},
   "source": [
    "## Conclusion: librosa sounds best"
   ]
  },
  {
   "attachments": {},
   "cell_type": "markdown",
   "metadata": {},
   "source": []
  }
 ],
 "metadata": {
  "kernelspec": {
   "display_name": "Python 3",
   "language": "python",
   "name": "python3"
  },
  "language_info": {
   "codemirror_mode": {
    "name": "ipython",
    "version": 3
   },
   "file_extension": ".py",
   "mimetype": "text/x-python",
   "name": "python",
   "nbconvert_exporter": "python",
   "pygments_lexer": "ipython3",
   "version": "3.11.3"
  },
  "orig_nbformat": 4
 },
 "nbformat": 4,
 "nbformat_minor": 2
}
