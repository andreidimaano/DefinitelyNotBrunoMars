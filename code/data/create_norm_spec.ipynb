{
 "cells": [
  {
   "cell_type": "code",
   "execution_count": 1,
   "metadata": {},
   "outputs": [],
   "source": [
    "from preprocess_data import audio_to_spectrogram\n",
    "from augmentation import *"
   ]
  },
  {
   "cell_type": "code",
   "execution_count": 2,
   "metadata": {},
   "outputs": [],
   "source": [
    "# audio_to_spectrogram(\"../../training-data/iu-training/\", \"training_data/iu\")\n",
    "# audio_to_spectrogram(\"../../training-data/bruno-mars-train\", \"training_data/bruno_mars\")\n",
    "# audio_to_spectrogram(\"../../training-data/iu-testing/\", \"testing_data/iu_test\")\n",
    "# audio_to_spectrogram(\"../../training-data/bruno-mars-test\", \"testing_data/bruno_mars_test\")"
   ]
  },
  {
   "cell_type": "code",
   "execution_count": 3,
   "metadata": {},
   "outputs": [],
   "source": [
    "# timeList = [0.9,1.1,1.2]\n",
    "# for timeFactor in timeList:\n",
    "#     audio_to_spectrogram(\"../../training-data/iu-training/\", f'training_data/iu_train_timestretch_{timeFactor}', [time_stretch], audioFac=timeFactor)\n",
    "#     audio_to_spectrogram(\"../../training-data/bruno-mars-train/\", f'training_data/bruno_mars_train_timestretch_{timeFactor}', [time_stretch], audioFac=timeFactor)\n",
    "#     audio_to_spectrogram(\"../../og-training-data/vcc2018_training/VCC2SF3/\", f'training_data/VCC2SF3_train_timestretch_{timeFactor}', [time_stretch], audioFac=timeFactor)\n",
    "#     audio_to_spectrogram(\"../../og-training-data/vcc2018_training/VCC2SM3/\", f'training_data/VCC2SM3_train_timestretch_{timeFactor}', [time_stretch], audioFac=timeFactor)\n",
    "#     audio_to_spectrogram(\"../../og-training-data/vcc2018_training/VCC2TF1/\", f'training_data/VCC2TF1_train_timestretch_{timeFactor}', [time_stretch], audioFac=timeFactor)\n",
    "#     audio_to_spectrogram(\"../../og-training-data/vcc2018_training/VCC2TM1/\", f'training_data/VCC2TM1_train_timestretch_{timeFactor}', [time_stretch], audioFac=timeFactor)"
   ]
  },
  {
   "cell_type": "code",
   "execution_count": null,
   "metadata": {},
   "outputs": [],
   "source": [
    "pitchList = [-2,-1,1,2]\n",
    "\n",
    "for pitchFactor in pitchList:\n",
    "    # audio_to_spectrogram(\"../../training-data/iu-training/\", f'training_data/iu_train_pitchshift_{pitchFactor}',  audioAug=[pitch_shift], audioFac=pitchFactor)\n",
    "    # audio_to_spectrogram(\"../../training-data/bruno-mars-train/\", f'training_data/bruno_mars_train_pitchshift_{pitchFactor}', audioAug=[pitch_shift], audioFac=pitchFactor)\n",
    "    audio_to_spectrogram(\"../../og-training-data/vcc2018_training/VCC2SF3/\", f'training_data/VCC2SF3_train_pitchshift_{pitchFactor}', audioAug=[pitch_shift], audioFac=pitchFactor)\n",
    "    audio_to_spectrogram(\"../../og-training-data/vcc2018_training/VCC2SM3/\", f'training_data/VCC2SM3_train_pitchshift_{pitchFactor}',  audioAug=[pitch_shift], audioFac=pitchFactor)\n",
    "    audio_to_spectrogram(\"../../og-training-data/vcc2018_training/VCC2TF1/\", f'training_data/VCC2TF1_train_pitchshift_{pitchFactor}',   audioAug=[pitch_shift], audioFac=pitchFactor)\n",
    "    audio_to_spectrogram(\"../../og-training-data/vcc2018_training/VCC2TM1/\", f'training_data/VCC2TM1_train_pitchshift_{pitchFactor}', audioAug=[pitch_shift], audioFac=pitchFactor)"
   ]
  },
  {
   "cell_type": "code",
   "execution_count": 5,
   "metadata": {},
   "outputs": [],
   "source": [
    "# audio_to_spectrogram(\"../../training-data/iu-training/\", f\"training_data/iu_train_harmdist\", audioAug=[harm_distort], audioFac=None)\n",
    "# audio_to_spectrogram(\"../../training-data/bruno-mars-train/\", f'training_data/bruno_mars_train_harmdist', audioAug=[harm_distort], audioFac=None)\n",
    "# audio_to_spectrogram(\"../../og-training-data/vcc2018_training/VCC2SF3/\", f'training_data/VCC2SF3_train_harmdist', audioAug=[harm_distort], audioFac=None)\n",
    "# audio_to_spectrogram(\"../../og-training-data/vcc2018_training/VCC2SM3/\", f'training_data/VCC2SM3_train_harmdist', audioAug=[harm_distort], audioFac=None)\n",
    "# audio_to_spectrogram(\"../../og-training-data/vcc2018_training/VCC2TF1/\", f'training_data/VCC2TF1_train_harmdist', audioAug=[harm_distort], audioFac=None)\n",
    "# audio_to_spectrogram(\"../../og-training-data/vcc2018_training/VCC2TM1/\", f'training_data/VCC2TM1_train_harmdist', audioAug=[harm_distort], audioFac=None)"
   ]
  },
  {
   "cell_type": "code",
   "execution_count": 10,
   "metadata": {},
   "outputs": [],
   "source": [
    "# noiseList = [0.1,0.2,0.3]\n",
    "# for noiseFactor in noiseList:\n",
    "#     audio_to_spectrogram(\"../../training-data/iu-training/\", f\"training_data/iu_train_noise_{noiseFactor}\", [white_noise], audioFac=noiseFactor)\n",
    "#     audio_to_spectrogram(\"../../training-data/bruno-mars-train/\", f'training_data/bruno_mars_train_noise_{noiseFactor}', [white_noise], audioFac=noiseFactor)\n",
    "#     audio_to_spectrogram(\"../../og-training-data/vcc2018_training/VCC2SF3/\", f'training_data/VCC2SF3_train_noise_{noiseFactor}', [white_noise], audioFac=noiseFactor)\n",
    "#     audio_to_spectrogram(\"../../og-training-data/vcc2018_training/VCC2SM3/\", f'training_data/VCC2SM3_train_noise_{noiseFactor}', [white_noise], audioFac=noiseFactor)\n",
    "#     audio_to_spectrogram(\"../../og-training-data/vcc2018_training/VCC2TF1/\", f'training_data/VCC2TF1_train_noise_{noiseFactor}', [white_noise], audioFac=noiseFactor)\n",
    "#     audio_to_spectrogram(\"../../og-training-data/vcc2018_training/VCC2TM1/\", f'training_data/VCC2TM1_train_noise_{noiseFactor}', [white_noise], audioFac=noiseFactor)"
   ]
  },
  {
   "cell_type": "code",
   "execution_count": null,
   "metadata": {},
   "outputs": [],
   "source": [
    "# timeList = [0.9,1.1,1.2]\n",
    "# pitchList = [-2,-1,1,2]\n",
    "# noiseList = [0.1,0.2,0.3]\n",
    "# for time in timeList:\n",
    "#     for pitch in pitchList:\n",
    "#         paird = [time,pitch]\n",
    "#         audio_to_spectrogram(\"../../training-data/iu-training/\", f'training_data/iu_train_timepitch_{paird[0]}{paird[1]}', audioAug=[time_stretch, pitch_shift], augment_type=\"combine\", audioFac=paird)\n",
    "#         audio_to_spectrogram(\"../../training-data/bruno-mars-train/\", f'training_data/bruno_mars_train_timepitch_{paird[0]}{paird[1]}', [time_stretch, pitch_shift], augment_type=\"combine\", audioFac=paird)\n",
    "#         audio_to_spectrogram(\"../../og-training-data/vcc2018_training/VCC2SF3/\", f'training_data/VCC2SF3_train_timepitch_{paird[0]}{paird[1]}', [time_stretch, pitch_shift], augment_type=\"combine\", audioFac=paird)\n",
    "#         audio_to_spectrogram(\"../../og-training-data/vcc2018_training/VCC2SM3/\", f'training_data/VCC2SM3_train_timepitch_{paird[0]}{paird[1]}', [time_stretch, pitch_shift], augment_type=\"combine\", audioFac=paird)\n",
    "#         audio_to_spectrogram(\"../../og-training-data/vcc2018_training/VCC2TF1/\", f'training_data/VCC2TF1_train_timepitch_{paird[0]}{paird[1]}', [time_stretch, pitch_shift], augment_type=\"combine\", audioFac=paird)\n",
    "#         audio_to_spectrogram(\"../../og-training-data/vcc2018_training/VCC2TM1/\", f'training_data/VCC2TM1_train_timepitch_{paird[0]}{paird[1]}', [time_stretch, pitch_shift], augment_type=\"combine\", audioFac=paird)"
   ]
  },
  {
   "cell_type": "code",
   "execution_count": null,
   "metadata": {},
   "outputs": [],
   "source": [
    "audio_to_spectrogram(\"../../og-training-data/vcc2018_training/VCC2SF3/\", \"training_data/VCC2SF3_train\")\n",
    "audio_to_spectrogram(\"../../og-training-data/vcc2018_training/VCC2SM3/\", \"training_data/VCC2SM3_train\")\n",
    "audio_to_spectrogram(\"../../og-training-data/vcc2018_training/VCC2TF1/\", \"training_data/VCC2TF1_train\")\n",
    "audio_to_spectrogram(\"../../og-training-data/vcc2018_training/VCC2TM1/\", \"training_data/VCC2TM1_train\")\n",
    "audio_to_spectrogram(\"../../og-training-data/vcc2018_reference/VCC2SF3/\", \"testing_data/VCC2SF3_test\")\n",
    "audio_to_spectrogram(\"../../og-training-data/vcc2018_reference/VCC2SM3/\", \"testing_data/VCC2SM3_test\")\n",
    "audio_to_spectrogram(\"../../og-training-data/vcc2018_reference/VCC2TF1/\", \"testing_data/VCC2TF1_test\")\n",
    "audio_to_spectrogram(\"../../og-training-data/vcc2018_reference/VCC2TM1/\", \"testing_data/VCC2TM1_test\")"
   ]
  }
 ],
 "metadata": {
  "kernelspec": {
   "display_name": "CS228",
   "language": "python",
   "name": "python3"
  },
  "language_info": {
   "codemirror_mode": {
    "name": "ipython",
    "version": 3
   },
   "file_extension": ".py",
   "mimetype": "text/x-python",
   "name": "python",
   "nbconvert_exporter": "python",
   "pygments_lexer": "ipython3",
   "version": "3.11.3"
  },
  "orig_nbformat": 4
 },
 "nbformat": 4,
 "nbformat_minor": 2
}
