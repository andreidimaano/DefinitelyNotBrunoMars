{
 "cells": [
  {
   "cell_type": "code",
   "execution_count": null,
   "metadata": {},
   "outputs": [],
   "source": [
    "from preprocess_data import audio_to_spectrogram\n",
    "from augmentation import *"
   ]
  },
  {
   "cell_type": "code",
   "execution_count": null,
   "metadata": {},
   "outputs": [],
   "source": [
    "#audio_to_spectrogram(\"../../bruno_mars\", \"bruno_mars\")\n",
    "#audio_to_spectrogram(\"../../iu\", \"iu\")"
   ]
  },
  {
   "cell_type": "code",
   "execution_count": null,
   "metadata": {},
   "outputs": [],
   "source": [
    "#audio_to_spectrogram(\"../../iu_test\", \"iu_test\")\n",
    "#audio_to_spectrogram(\"../../bruno_mars_test\", \"bruno_mars_test\")"
   ]
  },
  {
   "cell_type": "code",
   "execution_count": null,
   "metadata": {},
   "outputs": [],
   "source": [
    "audio_to_spectrogram(\"../../IU\", f\"iu_none\")"
   ]
  },
  {
   "cell_type": "code",
   "execution_count": 15,
   "metadata": {},
   "outputs": [
    {
     "name": "stdout",
     "output_type": "stream",
     "text": [
      "4. Feel So Good.flac ../../IU/4. Feel So Good.flac\n",
      "0 done\n",
      "5. Every Sweet Day.flac ../../IU/5. Every Sweet Day.flac\n",
      "6. A Lost Child (미아) [Instrumental].flac ../../IU/6. A Lost Child (미아) [Instrumental].flac\n",
      "1. Ugly Duckling (미운오리).flac ../../IU/1. Ugly Duckling (미운오리).flac\n",
      "3. Hey (있잖아 [Feat Mario 마리오]).flac ../../IU/3. Hey (있잖아 [Feat Mario 마리오]).flac\n",
      "2. A Lost Child (미아).flac ../../IU/2. A Lost Child (미아).flac\n",
      "bruh\n",
      "4. Feel So Good.flac ../../IU/4. Feel So Good.flac\n",
      "0 done\n",
      "5. Every Sweet Day.flac ../../IU/5. Every Sweet Day.flac\n",
      "6. A Lost Child (미아) [Instrumental].flac ../../IU/6. A Lost Child (미아) [Instrumental].flac\n",
      "1. Ugly Duckling (미운오리).flac ../../IU/1. Ugly Duckling (미운오리).flac\n",
      "3. Hey (있잖아 [Feat Mario 마리오]).flac ../../IU/3. Hey (있잖아 [Feat Mario 마리오]).flac\n",
      "2. A Lost Child (미아).flac ../../IU/2. A Lost Child (미아).flac\n",
      "bruh\n",
      "4. Feel So Good.flac ../../IU/4. Feel So Good.flac\n",
      "0 done\n",
      "5. Every Sweet Day.flac ../../IU/5. Every Sweet Day.flac\n",
      "6. A Lost Child (미아) [Instrumental].flac ../../IU/6. A Lost Child (미아) [Instrumental].flac\n",
      "1. Ugly Duckling (미운오리).flac ../../IU/1. Ugly Duckling (미운오리).flac\n",
      "3. Hey (있잖아 [Feat Mario 마리오]).flac ../../IU/3. Hey (있잖아 [Feat Mario 마리오]).flac\n",
      "2. A Lost Child (미아).flac ../../IU/2. A Lost Child (미아).flac\n"
     ]
    }
   ],
   "source": [
    "timeList = [[.5],[1.5],[3]]\n",
    "for timeFactor in timeList:\n",
    "    audio_to_spectrogram(\"../../IU\", f\"iu_stretch{timeFactor}\", [time_stretch], audioFac=timeFactor)"
   ]
  },
  {
   "cell_type": "code",
   "execution_count": null,
   "metadata": {},
   "outputs": [],
   "source": [
    "pitchList = [[-.5],[-4],[6]]\n",
    "for pitchFactor in pitchList:\n",
    "    audio_to_spectrogram(\"../../IU\", f\"iu_pitch{pitchFactor}\", [pitch_shift], audioFac=pitchFactor)"
   ]
  },
  {
   "cell_type": "code",
   "execution_count": null,
   "metadata": {},
   "outputs": [],
   "source": [
    "noiseList = [[.2],[.5],[.8]]\n",
    "for noiseFactor in noiseList:\n",
    "    audio_to_spectrogram(\"../../IU\", f\"iu_noise{pitchFactor}\", [white_noise], audioFac=noiseFactor)"
   ]
  },
  {
   "cell_type": "code",
   "execution_count": null,
   "metadata": {},
   "outputs": [],
   "source": [
    "audio_to_spectrogram(\"../../IU\", f\"iu_harm_dist\", audioAug=[harm_distort], audioFac=[None])"
   ]
  },
  {
   "cell_type": "code",
   "execution_count": null,
   "metadata": {},
   "outputs": [],
   "source": [
    "audio_to_spectrogram(\"../../IU\", f\"iu_freq_mask\", signalAug=[freq_mask])\n",
    "audio_to_spectrogram(\"../../IU\", f\"iu_time_mask\", signalAug=[time_mask])"
   ]
  },
  {
   "cell_type": "code",
   "execution_count": 14,
   "metadata": {},
   "outputs": [
    {
     "name": "stdout",
     "output_type": "stream",
     "text": [
      "[0.5, -0.5]\n",
      "4. Feel So Good.flac ../../IU/4. Feel So Good.flac\n",
      "0 done\n",
      "5. Every Sweet Day.flac ../../IU/5. Every Sweet Day.flac\n",
      "6. A Lost Child (미아) [Instrumental].flac ../../IU/6. A Lost Child (미아) [Instrumental].flac\n",
      "1. Ugly Duckling (미운오리).flac ../../IU/1. Ugly Duckling (미운오리).flac\n",
      "3. Hey (있잖아 [Feat Mario 마리오]).flac ../../IU/3. Hey (있잖아 [Feat Mario 마리오]).flac\n",
      "2. A Lost Child (미아).flac ../../IU/2. A Lost Child (미아).flac\n",
      "bruh\n",
      "[0.5, -4]\n",
      "4. Feel So Good.flac ../../IU/4. Feel So Good.flac\n",
      "0 done\n",
      "5. Every Sweet Day.flac ../../IU/5. Every Sweet Day.flac\n",
      "6. A Lost Child (미아) [Instrumental].flac ../../IU/6. A Lost Child (미아) [Instrumental].flac\n",
      "1. Ugly Duckling (미운오리).flac ../../IU/1. Ugly Duckling (미운오리).flac\n",
      "3. Hey (있잖아 [Feat Mario 마리오]).flac ../../IU/3. Hey (있잖아 [Feat Mario 마리오]).flac\n",
      "2. A Lost Child (미아).flac ../../IU/2. A Lost Child (미아).flac\n",
      "bruh\n",
      "[0.5, 6]\n",
      "4. Feel So Good.flac ../../IU/4. Feel So Good.flac\n",
      "0 done\n",
      "5. Every Sweet Day.flac ../../IU/5. Every Sweet Day.flac\n",
      "6. A Lost Child (미아) [Instrumental].flac ../../IU/6. A Lost Child (미아) [Instrumental].flac\n",
      "1. Ugly Duckling (미운오리).flac ../../IU/1. Ugly Duckling (미운오리).flac\n",
      "3. Hey (있잖아 [Feat Mario 마리오]).flac ../../IU/3. Hey (있잖아 [Feat Mario 마리오]).flac\n",
      "2. A Lost Child (미아).flac ../../IU/2. A Lost Child (미아).flac\n",
      "bruh\n",
      "[1.5, -0.5]\n",
      "4. Feel So Good.flac ../../IU/4. Feel So Good.flac\n",
      "0 done\n",
      "5. Every Sweet Day.flac ../../IU/5. Every Sweet Day.flac\n",
      "6. A Lost Child (미아) [Instrumental].flac ../../IU/6. A Lost Child (미아) [Instrumental].flac\n",
      "1. Ugly Duckling (미운오리).flac ../../IU/1. Ugly Duckling (미운오리).flac\n",
      "3. Hey (있잖아 [Feat Mario 마리오]).flac ../../IU/3. Hey (있잖아 [Feat Mario 마리오]).flac\n",
      "2. A Lost Child (미아).flac ../../IU/2. A Lost Child (미아).flac\n",
      "bruh\n",
      "[1.5, -4]\n",
      "4. Feel So Good.flac ../../IU/4. Feel So Good.flac\n",
      "0 done\n",
      "5. Every Sweet Day.flac ../../IU/5. Every Sweet Day.flac\n",
      "6. A Lost Child (미아) [Instrumental].flac ../../IU/6. A Lost Child (미아) [Instrumental].flac\n",
      "1. Ugly Duckling (미운오리).flac ../../IU/1. Ugly Duckling (미운오리).flac\n",
      "3. Hey (있잖아 [Feat Mario 마리오]).flac ../../IU/3. Hey (있잖아 [Feat Mario 마리오]).flac\n",
      "2. A Lost Child (미아).flac ../../IU/2. A Lost Child (미아).flac\n",
      "bruh\n",
      "[1.5, 6]\n",
      "4. Feel So Good.flac ../../IU/4. Feel So Good.flac\n",
      "0 done\n",
      "5. Every Sweet Day.flac ../../IU/5. Every Sweet Day.flac\n",
      "6. A Lost Child (미아) [Instrumental].flac ../../IU/6. A Lost Child (미아) [Instrumental].flac\n",
      "1. Ugly Duckling (미운오리).flac ../../IU/1. Ugly Duckling (미운오리).flac\n",
      "3. Hey (있잖아 [Feat Mario 마리오]).flac ../../IU/3. Hey (있잖아 [Feat Mario 마리오]).flac\n",
      "2. A Lost Child (미아).flac ../../IU/2. A Lost Child (미아).flac\n",
      "bruh\n",
      "[3, -0.5]\n",
      "4. Feel So Good.flac ../../IU/4. Feel So Good.flac\n",
      "0 done\n",
      "5. Every Sweet Day.flac ../../IU/5. Every Sweet Day.flac\n",
      "6. A Lost Child (미아) [Instrumental].flac ../../IU/6. A Lost Child (미아) [Instrumental].flac\n",
      "1. Ugly Duckling (미운오리).flac ../../IU/1. Ugly Duckling (미운오리).flac\n",
      "3. Hey (있잖아 [Feat Mario 마리오]).flac ../../IU/3. Hey (있잖아 [Feat Mario 마리오]).flac\n",
      "2. A Lost Child (미아).flac ../../IU/2. A Lost Child (미아).flac\n",
      "bruh\n",
      "[3, -4]\n",
      "4. Feel So Good.flac ../../IU/4. Feel So Good.flac\n",
      "0 done\n",
      "5. Every Sweet Day.flac ../../IU/5. Every Sweet Day.flac\n",
      "6. A Lost Child (미아) [Instrumental].flac ../../IU/6. A Lost Child (미아) [Instrumental].flac\n",
      "1. Ugly Duckling (미운오리).flac ../../IU/1. Ugly Duckling (미운오리).flac\n",
      "3. Hey (있잖아 [Feat Mario 마리오]).flac ../../IU/3. Hey (있잖아 [Feat Mario 마리오]).flac\n",
      "2. A Lost Child (미아).flac ../../IU/2. A Lost Child (미아).flac\n",
      "bruh\n",
      "[3, 6]\n",
      "4. Feel So Good.flac ../../IU/4. Feel So Good.flac\n",
      "0 done\n",
      "5. Every Sweet Day.flac ../../IU/5. Every Sweet Day.flac\n",
      "6. A Lost Child (미아) [Instrumental].flac ../../IU/6. A Lost Child (미아) [Instrumental].flac\n",
      "1. Ugly Duckling (미운오리).flac ../../IU/1. Ugly Duckling (미운오리).flac\n",
      "3. Hey (있잖아 [Feat Mario 마리오]).flac ../../IU/3. Hey (있잖아 [Feat Mario 마리오]).flac\n",
      "2. A Lost Child (미아).flac ../../IU/2. A Lost Child (미아).flac\n",
      "bruh\n"
     ]
    }
   ],
   "source": [
    "for time in timeList:\n",
    "    for pitch in pitchList:\n",
    "        paird = [time[0],pitch[0]]\n",
    "        print(paird)\n",
    "        audio_to_spectrogram(\"../../IU\", f\"iu_stretch_pitch{paird}\", [time_stretch, pitch_shift], audioFac=paird)"
   ]
  },
  {
   "cell_type": "code",
   "execution_count": 11,
   "metadata": {},
   "outputs": [
    {
     "name": "stdout",
     "output_type": "stream",
     "text": [
      "4. Feel So Good.flac ../../IU/4. Feel So Good.flac\n",
      "0 done\n",
      "5. Every Sweet Day.flac ../../IU/5. Every Sweet Day.flac\n",
      "6. A Lost Child (미아) [Instrumental].flac ../../IU/6. A Lost Child (미아) [Instrumental].flac\n",
      "1. Ugly Duckling (미운오리).flac ../../IU/1. Ugly Duckling (미운오리).flac\n",
      "3. Hey (있잖아 [Feat Mario 마리오]).flac ../../IU/3. Hey (있잖아 [Feat Mario 마리오]).flac\n",
      "2. A Lost Child (미아).flac ../../IU/2. A Lost Child (미아).flac\n",
      "bruh\n",
      "4. Feel So Good.flac ../../IU/4. Feel So Good.flac\n",
      "0 done\n",
      "5. Every Sweet Day.flac ../../IU/5. Every Sweet Day.flac\n",
      "6. A Lost Child (미아) [Instrumental].flac ../../IU/6. A Lost Child (미아) [Instrumental].flac\n",
      "1. Ugly Duckling (미운오리).flac ../../IU/1. Ugly Duckling (미운오리).flac\n",
      "3. Hey (있잖아 [Feat Mario 마리오]).flac ../../IU/3. Hey (있잖아 [Feat Mario 마리오]).flac\n",
      "2. A Lost Child (미아).flac ../../IU/2. A Lost Child (미아).flac\n",
      "bruh\n",
      "4. Feel So Good.flac ../../IU/4. Feel So Good.flac\n",
      "0 done\n",
      "5. Every Sweet Day.flac ../../IU/5. Every Sweet Day.flac\n",
      "6. A Lost Child (미아) [Instrumental].flac ../../IU/6. A Lost Child (미아) [Instrumental].flac\n",
      "1. Ugly Duckling (미운오리).flac ../../IU/1. Ugly Duckling (미운오리).flac\n",
      "3. Hey (있잖아 [Feat Mario 마리오]).flac ../../IU/3. Hey (있잖아 [Feat Mario 마리오]).flac\n",
      "2. A Lost Child (미아).flac ../../IU/2. A Lost Child (미아).flac\n",
      "bruh\n"
     ]
    }
   ],
   "source": [
    "timeList = [[.5],[1.5],[3]]\n",
    "for timeFactor in timeList:\n",
    "    audio_to_spectrogram(\"../../IU\", f\"iu_ts_fm{timeFactor}\", audioAug=[time_stretch], audioFac=timeFactor, signalAug=[freq_mask])\n"
   ]
  },
  {
   "cell_type": "code",
   "execution_count": 12,
   "metadata": {},
   "outputs": [
    {
     "name": "stdout",
     "output_type": "stream",
     "text": [
      "4. Feel So Good.flac ../../IU/4. Feel So Good.flac\n",
      "0 done\n",
      "5. Every Sweet Day.flac ../../IU/5. Every Sweet Day.flac\n",
      "6. A Lost Child (미아) [Instrumental].flac ../../IU/6. A Lost Child (미아) [Instrumental].flac\n",
      "1. Ugly Duckling (미운오리).flac ../../IU/1. Ugly Duckling (미운오리).flac\n",
      "3. Hey (있잖아 [Feat Mario 마리오]).flac ../../IU/3. Hey (있잖아 [Feat Mario 마리오]).flac\n",
      "2. A Lost Child (미아).flac ../../IU/2. A Lost Child (미아).flac\n",
      "bruh\n"
     ]
    },
    {
     "data": {
      "text/plain": [
       "[array([[-2.7480674, -2.7480674, -2.7480674, ..., -2.7480674, -2.7480674,\n",
       "         -2.7480674],\n",
       "        [-3.676099 , -3.676099 , -3.676099 , ..., -3.676099 , -3.676099 ,\n",
       "         -3.676099 ],\n",
       "        [-4.513144 , -4.513144 , -4.513144 , ..., -3.9399269, -4.370679 ,\n",
       "         -4.513144 ],\n",
       "        ...,\n",
       "        [-1.6802207, -1.6802207, -1.6802207, ..., -1.6802207, -1.6802207,\n",
       "         -1.6802207],\n",
       "        [-1.6728879, -1.6728879, -1.6728879, ..., -1.6728879, -1.6728879,\n",
       "         -1.6728879],\n",
       "        [-1.4352926, -1.4352926, -1.4352926, ..., -1.4352926, -1.4352926,\n",
       "         -1.4352926]], dtype=float32),\n",
       " array([[-2.7480674, -2.7480674, -2.7480674, ..., -2.7480674, -2.7480674,\n",
       "         -2.7480674],\n",
       "        [-3.676099 , -3.676099 , -3.676099 , ..., -3.676099 , -3.676099 ,\n",
       "         -3.676099 ],\n",
       "        [-4.513144 , -4.513144 , -4.513144 , ..., -4.513144 , -4.513144 ,\n",
       "         -4.513144 ],\n",
       "        ...,\n",
       "        [-1.6802207, -1.6802207, -1.6802207, ..., -1.6802207, -1.6802207,\n",
       "         -1.6802207],\n",
       "        [-1.6728879, -1.6728879, -1.6728879, ..., -1.6728879, -1.6728879,\n",
       "         -1.6728879],\n",
       "        [-1.4352926, -1.4352926, -1.4352926, ..., -1.4352926, -1.4352926,\n",
       "         -1.4352926]], dtype=float32),\n",
       " array([[-2.7480674, -2.7480674, -2.7480674, ..., -2.7480674, -2.7480674,\n",
       "         -2.7480674],\n",
       "        [-3.676099 , -3.676099 , -3.676099 , ..., -3.676099 , -3.676099 ,\n",
       "         -3.676099 ],\n",
       "        [-4.513144 , -4.513144 , -4.513144 , ..., -4.513144 , -4.513144 ,\n",
       "         -4.513144 ],\n",
       "        ...,\n",
       "        [-1.6802207, -1.6802207, -1.6802207, ..., -1.6802207, -1.6802207,\n",
       "         -1.6802207],\n",
       "        [-1.6728879, -1.6728879, -1.6728879, ..., -1.6728879, -1.6728879,\n",
       "         -1.6728879],\n",
       "        [-1.4352926, -1.4352926, -1.4352926, ..., -1.4352926, -1.4352926,\n",
       "         -1.4352926]], dtype=float32),\n",
       " array([[-2.7480674, -2.7480674, -2.7480674, ..., -2.7480674, -2.7480674,\n",
       "         -2.7480674],\n",
       "        [-3.676099 , -3.676099 , -3.676099 , ..., -3.676099 , -3.676099 ,\n",
       "         -3.676099 ],\n",
       "        [-4.513144 , -4.513144 , -4.513144 , ..., -4.513144 , -4.513144 ,\n",
       "         -4.513144 ],\n",
       "        ...,\n",
       "        [-1.6802207, -1.6802207, -1.6802207, ..., -1.6802207, -1.6802207,\n",
       "         -1.6802207],\n",
       "        [-1.6728879, -1.6728879, -1.6728879, ..., -1.6728879, -1.6728879,\n",
       "         -1.6728879],\n",
       "        [-1.4352926, -1.4352926, -1.4352926, ..., -1.4352926, -1.4352926,\n",
       "         -1.4352926]], dtype=float32),\n",
       " array([[-2.7480674, -2.7480674, -2.7480674, ..., -2.7480674, -2.7480674,\n",
       "         -2.7480674],\n",
       "        [-3.676099 , -3.676099 , -3.676099 , ..., -3.676099 , -3.676099 ,\n",
       "         -3.676099 ],\n",
       "        [-4.513144 , -4.513144 , -4.513144 , ..., -4.513144 , -4.513144 ,\n",
       "         -4.513144 ],\n",
       "        ...,\n",
       "        [-1.6802207, -1.6802207, -1.6802207, ..., -1.6802207, -1.6802207,\n",
       "         -1.6802207],\n",
       "        [-1.6728879, -1.6728879, -1.6728879, ..., -1.6728879, -1.6728879,\n",
       "         -1.6728879],\n",
       "        [-1.4352926, -1.4352926, -1.4352926, ..., -1.4352926, -1.4352926,\n",
       "         -1.4352926]], dtype=float32),\n",
       " array([[-2.7480674, -2.7480674, -2.7480674, ..., -2.7480674, -2.7480674,\n",
       "         -2.7480674],\n",
       "        [-3.676099 , -3.676099 , -3.676099 , ..., -3.676099 , -3.676099 ,\n",
       "         -3.676099 ],\n",
       "        [-4.513144 , -4.513144 , -4.513144 , ..., -4.513144 , -4.513144 ,\n",
       "         -4.513144 ],\n",
       "        ...,\n",
       "        [-1.6802207, -1.6802207, -1.6802207, ..., -1.6802207, -1.6802207,\n",
       "         -1.6802207],\n",
       "        [-1.6728879, -1.6728879, -1.6728879, ..., -1.6728879, -1.6728879,\n",
       "         -1.6728879],\n",
       "        [-1.4352926, -1.4352926, -1.4352926, ..., -1.4352926, -1.4352926,\n",
       "         -1.4352926]], dtype=float32)]"
      ]
     },
     "execution_count": 12,
     "metadata": {},
     "output_type": "execute_result"
    }
   ],
   "source": [
    "audio_to_spectrogram(\"../../IU\", f\"iu_tm_fm\", signalAug=[time_mask, freq_mask])\n"
   ]
  },
  {
   "cell_type": "code",
   "execution_count": null,
   "metadata": {},
   "outputs": [],
   "source": []
  }
 ],
 "metadata": {
  "kernelspec": {
   "display_name": "CS228",
   "language": "python",
   "name": "python3"
  },
  "language_info": {
   "codemirror_mode": {
    "name": "ipython",
    "version": 3
   },
   "file_extension": ".py",
   "mimetype": "text/x-python",
   "name": "python",
   "nbconvert_exporter": "python",
   "pygments_lexer": "ipython3",
   "version": "3.7.16"
  },
  "orig_nbformat": 4
 },
 "nbformat": 4,
 "nbformat_minor": 2
}
