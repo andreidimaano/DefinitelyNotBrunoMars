{
 "cells": [
  {
   "cell_type": "code",
   "execution_count": 1,
   "metadata": {},
   "outputs": [],
   "source": [
    "from train import MaskCycleGANVCTraining\n",
    "from mask_test import MaskCycleGANVCTesting as m1\n",
    "from mask_test2 import MaskCycleGANVCTesting as m2\n",
    "import pickle\n",
    "import numpy as np\n",
    "import pandas as pd\n",
    "import matplotlib.pylab as plt"
   ]
  },
  {
   "cell_type": "code",
   "execution_count": 2,
   "metadata": {},
   "outputs": [],
   "source": [
    "def loadPickleFile(fileName):\n",
    "    \"\"\"Loads a Pickle file.\n",
    "\n",
    "    Args:\n",
    "        fileName (str): pickle file path\n",
    "\n",
    "    Returns:\n",
    "        file object: The loaded pickle file object\n",
    "    \"\"\"\n",
    "    with open(fileName, 'rb') as f:\n",
    "        return pickle.load(f)\n",
    "    \n",
    "def get_top_3_indices(arr):\n",
    "    indices = np.argsort(arr)[:3]\n",
    "    return indices\n",
    "\n",
    "def plot_loss(load_id):\n",
    "    data = pd.read_csv(f'outputs/loss_csv/{load_id}.csv')\n",
    "\n",
    "    gloss= data['Generator Loss']\n",
    "    dloss = data['Discriminator Loss']\n",
    "\n",
    "    plt.plot(gloss, label=\"gloss\")\n",
    "    plt.plot(dloss, label=\"dloss\")\n",
    "    plt.title('Loss over Training')\n",
    "    plt.xlabel('Iterations')\n",
    "    plt.ylabel('Loss')\n",
    "    plt.legend()\n",
    "    plt.show()"
   ]
  },
  {
   "cell_type": "code",
   "execution_count": 3,
   "metadata": {},
   "outputs": [],
   "source": [
    "timeList = [0.9,1.1,1.2]\n",
    "pitchList = [-2,-1,1,2]\n",
    "noiseList = [0.1,0.2,0.3]\n",
    "timePitchList= ['0.9-2', '0.9-1', '0.91', '0.92', '1.1-2', '1.1-1', '1.11', '1.12', '1.2-2', '1.2-1', '1.21', '1.22']"
   ]
  },
  {
   "cell_type": "code",
   "execution_count": 4,
   "metadata": {},
   "outputs": [],
   "source": [
    "# mcdsFM = [0] * 8\n",
    "# glossesFM = [0] * 8\n",
    "# dlossesFM = [0] * 8\n",
    "glossesFM = [2.2283271479766795, 2.207811973689341, 2.380725363283749, 2.278054367819524, 2.168506850260415, 0.31281769275665283, 0.23123151063919067, 0]\n",
    "dlossesFM = [2.2283271479766795, 0.21292302012443542, 0.3295247554779053, 0.31994837522506714, 0.4232684373855591, 0, 0, 0]\n",
    "mcdsFM = [46.079803, 45.794754, 45.54554, 45.51956, 46.53347, 47.059517, 46.192196, 0]"
   ]
  },
  {
   "attachments": {},
   "cell_type": "markdown",
   "metadata": {},
   "source": [
    "### Train 8 Augment types on Original Dataset\n",
    "1. None\n",
    "2. Time stretch timestretch\n",
    "3. Pitch Shift pitchshift\n",
    "4. Harmonic Distortion harmdist\n",
    "5. White Noise noise\n",
    "6. Frequency Mask freqmask=true\n",
    "7. Time Stretch + Pitch Shift timepitch\n",
    "8. Time Stretch + Freq Mask"
   ]
  },
  {
   "attachments": {},
   "cell_type": "markdown",
   "metadata": {},
   "source": [
    "#### VCC2SF3 => VCC2TM1"
   ]
  },
  {
   "cell_type": "code",
   "execution_count": 5,
   "metadata": {},
   "outputs": [],
   "source": [
    "# no augments\n",
    "train_id = 0\n",
    "speakerA = \"VCC2SF3\"\n",
    "speakerB = \"VCC2TM1\"\n",
    "cycleGAN = MaskCycleGANVCTraining(\n",
    "    speakerA=speakerA,\n",
    "    speakerB=speakerB,\n",
    "    datasetA_spec=loadPickleFile(f'data/training_data/{speakerA}_train_spec.pickle'),\n",
    "    datasetB_spec=loadPickleFile(f'data/training_data/{speakerB}_train_spec.pickle'),\n",
    "    train_id=train_id,\n",
    "    num_epochs=0\n",
    "    # num_epochs=130,\n",
    "    freq_mask=False,\n",
    "    augment_type=None,\n",
    "    aug_list=None,\n",
    "    load_id=None,\n",
    "    load_model=False\n",
    "    )\n",
    "loss0 = cycleGAN.train()\n",
    "glossesFM[0] = loss0[0][-1]\n",
    "dlossesFM[0] = loss0[0][-1]\n",
    "print(cycleGAN.get_training_time())"
   ]
  },
  {
   "cell_type": "code",
   "execution_count": null,
   "metadata": {},
   "outputs": [],
   "source": [
    "plot_loss(0)"
   ]
  },
  {
   "cell_type": "code",
   "execution_count": null,
   "metadata": {},
   "outputs": [],
   "source": [
    "load_id = 0\n",
    "speakerA = \"VCC2SF3\"\n",
    "speakerB = \"VCC2TM1\"\n",
    "test = m2(speakerA, speakerB, load_id)\n",
    "mcds0 = test.test()\n",
    "mcdsFM[0] = np.mean(mcds0)"
   ]
  },
  {
   "cell_type": "code",
   "execution_count": null,
   "metadata": {},
   "outputs": [],
   "source": [
    "# time stretch\n",
    "train_id = 1\n",
    "speakerA = \"VCC2SF3\"\n",
    "speakerB = \"VCC2TM1\"\n",
    "cycleGAN = MaskCycleGANVCTraining(\n",
    "    speakerA=speakerA,\n",
    "    speakerB=speakerB,\n",
    "    datasetA_spec=loadPickleFile(f'data/training_data/{speakerA}_train_spec.pickle'),\n",
    "    datasetB_spec=loadPickleFile(f'data/training_data/{speakerB}_train_spec.pickle'),\n",
    "    train_id=train_id,\n",
    "    num_epochs=130,\n",
    "    freq_mask=False,\n",
    "    augment_type=\"timestretch\",\n",
    "    aug_list=timeList,\n",
    "    load_id=None,\n",
    "    load_model=False\n",
    "    )\n",
    "loss1 = cycleGAN.train()\n",
    "glossesFM[1] = loss1[0][-1]\n",
    "dlossesFM[1] = loss1[1][-1]\n",
    "print(cycleGAN.get_training_time())"
   ]
  },
  {
   "cell_type": "code",
   "execution_count": null,
   "metadata": {},
   "outputs": [],
   "source": [
    "plot_loss(1)"
   ]
  },
  {
   "cell_type": "code",
   "execution_count": null,
   "metadata": {},
   "outputs": [],
   "source": [
    "load_id = 1\n",
    "speakerA = \"VCC2SF3\"\n",
    "speakerB = \"VCC2TM1\"\n",
    "test = m2(speakerA, speakerB, load_id)\n",
    "mcds1 = test.test()\n",
    "mcdsFM[1] = np.mean(mcds1)"
   ]
  },
  {
   "cell_type": "code",
   "execution_count": null,
   "metadata": {},
   "outputs": [],
   "source": [
    "# pitch shift\n",
    "train_id = 2\n",
    "speakerA = \"VCC2SF3\"\n",
    "speakerB = \"VCC2TM1\"\n",
    "cycleGAN = MaskCycleGANVCTraining(\n",
    "    speakerA=speakerA,\n",
    "    speakerB=speakerB,\n",
    "    datasetA_spec=loadPickleFile(f'data/training_data/{speakerA}_train_spec.pickle'),\n",
    "    datasetB_spec=loadPickleFile(f'data/training_data/{speakerB}_train_spec.pickle'),\n",
    "    train_id=train_id,\n",
    "    num_epochs=130,\n",
    "    freq_mask=False,\n",
    "    augment_type=\"pitchshift\",\n",
    "    aug_list=pitchList,\n",
    "    load_id=None,\n",
    "    load_model=False\n",
    "    )\n",
    "loss2 = cycleGAN.train()\n",
    "glossesFM[2] = loss2[0][-1]\n",
    "dlossesFM[2] = loss2[1][-1]\n",
    "print(cycleGAN.get_training_time())"
   ]
  },
  {
   "cell_type": "code",
   "execution_count": null,
   "metadata": {},
   "outputs": [],
   "source": [
    "plot_loss(2)"
   ]
  },
  {
   "cell_type": "code",
   "execution_count": null,
   "metadata": {},
   "outputs": [],
   "source": [
    "load_id = 2\n",
    "speakerA = \"VCC2SF3\"\n",
    "speakerB = \"VCC2TM1\"\n",
    "test = m2(speakerA, speakerB, load_id)\n",
    "mcds2 = test.test()\n",
    "mcdsFM[2] = np.mean(mcds2)"
   ]
  },
  {
   "cell_type": "code",
   "execution_count": null,
   "metadata": {},
   "outputs": [],
   "source": [
    "# pitch shift\n",
    "train_id = 3\n",
    "speakerA = \"VCC2SF3\"\n",
    "speakerB = \"VCC2TM1\"\n",
    "cycleGAN = MaskCycleGANVCTraining(\n",
    "    speakerA=speakerA,\n",
    "    speakerB=speakerB,\n",
    "    datasetA_spec=loadPickleFile(f'data/training_data/{speakerA}_train_spec.pickle'),\n",
    "    datasetB_spec=loadPickleFile(f'data/training_data/{speakerB}_train_spec.pickle'),\n",
    "    train_id=train_id,\n",
    "    num_epochs=130,\n",
    "    freq_mask=False,\n",
    "    augment_type=\"harmdist\",\n",
    "    aug_list=None,\n",
    "    load_id=None,\n",
    "    load_model=False\n",
    "    )\n",
    "loss3 = cycleGAN.train()\n",
    "glossesFM[3] = loss3[0][-1]\n",
    "dlossesFM[3] = loss3[1][-1]\n",
    "print(cycleGAN.get_training_time())"
   ]
  },
  {
   "cell_type": "code",
   "execution_count": null,
   "metadata": {},
   "outputs": [],
   "source": [
    "plot_loss(3)"
   ]
  },
  {
   "cell_type": "code",
   "execution_count": null,
   "metadata": {},
   "outputs": [],
   "source": [
    "load_id = 3\n",
    "speakerA = \"VCC2SF3\"\n",
    "speakerB = \"VCC2TM1\"\n",
    "test = m2(speakerA, speakerB, load_id)\n",
    "mcds3 = test.test()\n",
    "mcdsFM[3] = np.mean(mcds3)"
   ]
  },
  {
   "cell_type": "code",
   "execution_count": null,
   "metadata": {},
   "outputs": [],
   "source": [
    "# white noise\n",
    "train_id = 4\n",
    "speakerA = \"VCC2SF3\"\n",
    "speakerB = \"VCC2TM1\"\n",
    "cycleGAN = MaskCycleGANVCTraining(\n",
    "    speakerA=speakerA,\n",
    "    speakerB=speakerB,\n",
    "    datasetA_spec=loadPickleFile(f'data/training_data/{speakerA}_train_spec.pickle'),\n",
    "    datasetB_spec=loadPickleFile(f'data/training_data/{speakerB}_train_spec.pickle'),\n",
    "    train_id=train_id,\n",
    "    num_epochs=130,\n",
    "    freq_mask=False,\n",
    "    augment_type=\"noise\",\n",
    "    aug_list=noiseList,\n",
    "    load_id=None,\n",
    "    load_model=False\n",
    "    )\n",
    "loss4 = cycleGAN.train()\n",
    "glossesFM[4] = loss4[0][-1]\n",
    "dlossesFM[4] = loss4[1][-1]\n",
    "print(cycleGAN.get_training_time())"
   ]
  },
  {
   "cell_type": "code",
   "execution_count": null,
   "metadata": {},
   "outputs": [],
   "source": [
    "plot_loss(4)"
   ]
  },
  {
   "cell_type": "code",
   "execution_count": null,
   "metadata": {},
   "outputs": [],
   "source": [
    "load_id = 4\n",
    "speakerA = \"VCC2SF3\"\n",
    "speakerB = \"VCC2TM1\"\n",
    "test = m2(speakerA, speakerB, load_id)\n",
    "mcds4 = test.test()\n",
    "mcdsFM[4] = np.mean(mcds4)"
   ]
  },
  {
   "cell_type": "code",
   "execution_count": null,
   "metadata": {},
   "outputs": [],
   "source": [
    "# pitch shift\n",
    "train_id = 5\n",
    "speakerA = \"VCC2SF3\"\n",
    "speakerB = \"VCC2TM1\"\n",
    "cycleGAN = MaskCycleGANVCTraining(\n",
    "    speakerA=speakerA,\n",
    "    speakerB=speakerB,\n",
    "    datasetA_spec=loadPickleFile(f'data/training_data/{speakerA}_train_spec.pickle'),\n",
    "    datasetB_spec=loadPickleFile(f'data/training_data/{speakerB}_train_spec.pickle'),\n",
    "    train_id=train_id,\n",
    "    num_epochs=130,\n",
    "    freq_mask=True,\n",
    "    augment_type=None,\n",
    "    aug_list=None,\n",
    "    load_id=None,\n",
    "    load_model=False\n",
    "    )\n",
    "loss5 = cycleGAN.train()\n",
    "glossesFM[5] = loss5[0][-1]\n",
    "glossesFM[5] = loss5[1][-1]\n",
    "print(cycleGAN.get_training_time())"
   ]
  },
  {
   "cell_type": "code",
   "execution_count": null,
   "metadata": {},
   "outputs": [],
   "source": [
    "plot_loss(5)"
   ]
  },
  {
   "cell_type": "code",
   "execution_count": null,
   "metadata": {},
   "outputs": [],
   "source": [
    "load_id = 5\n",
    "speakerA = \"VCC2SF3\"\n",
    "speakerB = \"VCC2TM1\"\n",
    "test = m2(speakerA, speakerB, load_id)\n",
    "mcds5 = test.test()\n",
    "mcdsFM[5] = np.mean(mcds5)"
   ]
  },
  {
   "cell_type": "code",
   "execution_count": null,
   "metadata": {},
   "outputs": [],
   "source": [
    "# Time stretch Pitch Shift\n",
    "train_id = 6\n",
    "speakerA = \"VCC2SF3\"\n",
    "speakerB = \"VCC2TM1\"\n",
    "cycleGAN = MaskCycleGANVCTraining(\n",
    "    speakerA=speakerA,\n",
    "    speakerB=speakerB,\n",
    "    datasetA_spec=loadPickleFile(f'data/training_data/{speakerA}_train_spec.pickle'),\n",
    "    datasetB_spec=loadPickleFile(f'data/training_data/{speakerB}_train_spec.pickle'),\n",
    "    train_id=train_id,\n",
    "    num_epochs=130,\n",
    "    freq_mask=False,\n",
    "    augment_type=\"timepitch\",\n",
    "    aug_list=timePitchList,\n",
    "    load_id=None,\n",
    "    load_model=False\n",
    "    )\n",
    "loss6 = cycleGAN.train()\n",
    "glossesFM[6] = loss6[0][-1]\n",
    "glossesFM[6] = loss6[1][-1]\n",
    "print(cycleGAN.get_training_time())"
   ]
  },
  {
   "cell_type": "code",
   "execution_count": null,
   "metadata": {},
   "outputs": [],
   "source": [
    "plot_loss(6)"
   ]
  },
  {
   "cell_type": "code",
   "execution_count": null,
   "metadata": {},
   "outputs": [],
   "source": [
    "load_id = 6\n",
    "speakerA = \"VCC2SF3\"\n",
    "speakerB = \"VCC2TM1\"\n",
    "test = m2(speakerA, speakerB, load_id)\n",
    "mcds6 = test.test()\n",
    "mcdsFM[6] = np.mean(mcds6)"
   ]
  },
  {
   "cell_type": "code",
   "execution_count": null,
   "metadata": {},
   "outputs": [],
   "source": [
    "# Time stretch Pitch Shift\n",
    "train_id = 7\n",
    "speakerA = \"VCC2SF3\"\n",
    "speakerB = \"VCC2TM1\"\n",
    "cycleGAN = MaskCycleGANVCTraining(\n",
    "    speakerA=speakerA,\n",
    "    speakerB=speakerB,\n",
    "    datasetA_spec=loadPickleFile(f'data/training_data/{speakerA}_train_spec.pickle'),\n",
    "    datasetB_spec=loadPickleFile(f'data/training_data/{speakerB}_train_spec.pickle'),\n",
    "    train_id=train_id,\n",
    "    num_epochs=130,\n",
    "    freq_mask=True,\n",
    "    augment_type=\"timestretch\",\n",
    "    aug_list=timeList,\n",
    "    load_id=None,\n",
    "    load_model=False\n",
    "    )\n",
    "loss7 = cycleGAN.train()\n",
    "glossesFM[7] = loss7[0][-1]\n",
    "dlossesFM[7] = loss7[1][-1]\n",
    "print(cycleGAN.get_training_time())"
   ]
  },
  {
   "cell_type": "code",
   "execution_count": null,
   "metadata": {},
   "outputs": [],
   "source": [
    "load_id = 7\n",
    "speakerA = \"VCC2SF3\"\n",
    "speakerB = \"VCC2TM1\"\n",
    "test = m2(speakerA, speakerB, load_id)\n",
    "mcds7 = test.test()\n",
    "mcdsFM[7] = np.mean(mcds7)"
   ]
  },
  {
   "cell_type": "code",
   "execution_count": null,
   "metadata": {},
   "outputs": [],
   "source": [
    "augment_names = [\"None\", \"Time Stretch\", \"Pitch Shift\", \"Harmonic Distortion\", \"White Noise\", \"Frequency Mask\", \"Time Stretch and Pitch Shift\", \"Time Stretch and Frequency Mask\"]\n",
    "augments = [None, \"timestretch\", \"pitchshift\", \"harmdist\", \"noise\", None, \"timepitch\", \"timestretch\"]\n",
    "freqmasks = [False, False, False, False, False, True, False, True]\n",
    "auglists = [None, timeList, pitchList, None, None, None,timePitchList,timeList]"
   ]
  },
  {
   "cell_type": "code",
   "execution_count": null,
   "metadata": {},
   "outputs": [],
   "source": [
    "print(glossesFM)\n",
    "print(dlossesFM)\n",
    "print(mcdsFM)"
   ]
  },
  {
   "cell_type": "code",
   "execution_count": null,
   "metadata": {},
   "outputs": [],
   "source": [
    "fm_top = get_top_3_indices(mcdsFM)\n",
    "mcdsV1 = [0] * 3\n",
    "glossesV1 = [0] * 3\n",
    "dlossesV1 = [0] * 3"
   ]
  },
  {
   "cell_type": "code",
   "execution_count": null,
   "metadata": {},
   "outputs": [],
   "source": [
    "#FM 1\n",
    "train_id = 16\n",
    "speakerA = \"iu\"\n",
    "speakerB = \"bruno_mars\"\n",
    "cycleGAN = MaskCycleGANVCTraining(\n",
    "    speakerA=speakerA,\n",
    "    speakerB=speakerB,\n",
    "    datasetA_spec=loadPickleFile(f'data/training_data/{speakerA}_train_spec.pickle'),\n",
    "    datasetB_spec=loadPickleFile(f'data/training_data/{speakerB}_train_spec.pickle'),\n",
    "    train_id=train_id,\n",
    "    num_epochs=1500,\n",
    "    freq_mask=freqmasks[fm_top[0]],\n",
    "    augment_type=augments[fm_top[0]],\n",
    "    aug_list=auglists[fm_top[0]],\n",
    "    load_id=None,\n",
    "    load_model=False\n",
    "    )\n",
    "loss0 = cycleGAN.train()\n",
    "glossesV1[0] = loss0[0][-1]\n",
    "dlossesV1[0] = loss0[1][-1]\n",
    "print(cycleGAN.get_training_time())"
   ]
  },
  {
   "cell_type": "code",
   "execution_count": null,
   "metadata": {},
   "outputs": [],
   "source": [
    "load_id = 16\n",
    "speakerA = \"iu\"\n",
    "speakerB = \"bruno_mars\"\n",
    "test = m1(speakerA, speakerB, load_id)\n",
    "mcds0 = test.test()\n",
    "mcdsV1[0] = np.mean(mcds0)"
   ]
  },
  {
   "cell_type": "code",
   "execution_count": null,
   "metadata": {},
   "outputs": [],
   "source": [
    "#FM 2\n",
    "train_id = 17\n",
    "speakerA = \"iu\"\n",
    "speakerB = \"bruno_mars\"\n",
    "cycleGAN = MaskCycleGANVCTraining(\n",
    "    speakerA=speakerA,\n",
    "    speakerB=speakerB,\n",
    "    datasetA_spec=loadPickleFile(f'data/training_data/{speakerA}_train_spec.pickle'),\n",
    "    datasetB_spec=loadPickleFile(f'data/training_data/{speakerB}_train_spec.pickle'),\n",
    "    train_id=train_id,\n",
    "    num_epochs=500,\n",
    "    freq_mask=freqmasks[fm_top[1]],\n",
    "    augment_type=augments[fm_top[1]],\n",
    "    aug_list=auglists[fm_top[1]],\n",
    "    load_id=None,\n",
    "    load_model=False\n",
    "    )\n",
    "loss0 = cycleGAN.train()\n",
    "glossesV1[1] = loss0[0][-1]\n",
    "dlossesV1[1] = loss0[1][-1]\n",
    "print(cycleGAN.get_training_time())"
   ]
  },
  {
   "cell_type": "code",
   "execution_count": null,
   "metadata": {},
   "outputs": [],
   "source": [
    "load_id = 17\n",
    "speakerA = \"iu\"\n",
    "speakerB = \"bruno_mars\"\n",
    "test = m1(speakerA, speakerB, load_id)\n",
    "mcds1 = test.test()\n",
    "mcdsV1[1] = np.mean(mcds1)"
   ]
  },
  {
   "cell_type": "code",
   "execution_count": null,
   "metadata": {},
   "outputs": [],
   "source": [
    "#FM 3\n",
    "train_id = 18\n",
    "speakerA = \"iu\"\n",
    "speakerB = \"bruno_mars\"\n",
    "cycleGAN = MaskCycleGANVCTraining(\n",
    "    speakerA=speakerA,\n",
    "    speakerB=speakerB,\n",
    "    datasetA_spec=loadPickleFile(f'data/training_data/{speakerA}_train_spec.pickle'),\n",
    "    datasetB_spec=loadPickleFile(f'data/training_data/{speakerB}_train_spec.pickle'),\n",
    "    train_id=train_id,\n",
    "    num_epochs=500,\n",
    "    freq_mask=freqmasks[fm_top[2]],\n",
    "    augment_type=augments[fm_top[2]],\n",
    "    aug_list=auglists[fm_top[2]],\n",
    "    load_id=None,\n",
    "    load_model=False\n",
    "    )\n",
    "loss0 = cycleGAN.train()\n",
    "glossesV1[2] = loss0[0][-1]\n",
    "dlossesV1[2] = loss0[1][-1]\n",
    "print(cycleGAN.get_training_time())"
   ]
  },
  {
   "cell_type": "code",
   "execution_count": null,
   "metadata": {},
   "outputs": [],
   "source": [
    "load_id = 18\n",
    "speakerA = \"iu\"\n",
    "speakerB = \"bruno_mars\"\n",
    "test = m1(speakerA, speakerB, load_id)\n",
    "mcds1 = test.test()\n",
    "mcdsV1[2] = np.mean(mcds1)"
   ]
  },
  {
   "attachments": {},
   "cell_type": "markdown",
   "metadata": {},
   "source": [
    "### VCC2M3 => VCCTF1"
   ]
  },
  {
   "cell_type": "code",
   "execution_count": null,
   "metadata": {},
   "outputs": [],
   "source": [
    "mcdsMF = [0] * 8\n",
    "glossesMF = [0] * 8\n",
    "dlossesMF = [0] * 8"
   ]
  },
  {
   "cell_type": "code",
   "execution_count": null,
   "metadata": {},
   "outputs": [],
   "source": [
    "# no augments\n",
    "train_id = 8\n",
    "speakerA = \"VCC2SM3\"\n",
    "speakerB = \"VCC2TF1\"\n",
    "cycleGAN = MaskCycleGANVCTraining(\n",
    "    speakerA=speakerA,\n",
    "    speakerB=speakerB,\n",
    "    datasetA_spec=loadPickleFile(f'data/training_data/{speakerA}_train_spec.pickle'),\n",
    "    datasetB_spec=loadPickleFile(f'data/training_data/{speakerB}_train_spec.pickle'),\n",
    "    train_id=train_id,\n",
    "    num_epochs=130,\n",
    "    freq_mask=False,\n",
    "    augment_type=None,\n",
    "    aug_list=None,\n",
    "    load_id=None,\n",
    "    load_model=False\n",
    "    )\n",
    "loss0 = cycleGAN.train()\n",
    "glossesMF[0] = loss0[0][-1]\n",
    "dlossesMF[0] = loss0[0][-1]\n",
    "print(cycleGAN.get_training_time())"
   ]
  },
  {
   "cell_type": "code",
   "execution_count": null,
   "metadata": {},
   "outputs": [],
   "source": [
    "load_id = 8\n",
    "speakerA = \"VCC2SM3\"\n",
    "speakerB = \"VCC2TF1\"\n",
    "test = m2(speakerA, speakerB, load_id)\n",
    "mcds0 = test.test()\n",
    "mcdsMF[0] = np.mean(mcds0)"
   ]
  },
  {
   "cell_type": "code",
   "execution_count": null,
   "metadata": {},
   "outputs": [],
   "source": [
    "# time stretch\n",
    "train_id = 9\n",
    "speakerA = \"VCC2SM3\"\n",
    "speakerB = \"VCC2TF1\"\n",
    "cycleGAN = MaskCycleGANVCTraining(\n",
    "    speakerA=speakerA,\n",
    "    speakerB=speakerB,\n",
    "    datasetA_spec=loadPickleFile(f'data/training_data/{speakerA}_train_spec.pickle'),\n",
    "    datasetB_spec=loadPickleFile(f'data/training_data/{speakerB}_train_spec.pickle'),\n",
    "    train_id=train_id,\n",
    "    num_epochs=130,\n",
    "    freq_mask=False,\n",
    "    augment_type=\"timestretch\",\n",
    "    aug_list=timeList,\n",
    "    load_id=None,\n",
    "    load_model=False\n",
    "    )\n",
    "loss1 = cycleGAN.train()\n",
    "glossesMF[1] = loss1[0][-1]\n",
    "dlossesMF[1] = loss1[0][-1]\n",
    "print(cycleGAN.get_training_time())"
   ]
  },
  {
   "cell_type": "code",
   "execution_count": null,
   "metadata": {},
   "outputs": [],
   "source": [
    "load_id = 9\n",
    "speakerA = \"VCC2SM3\"\n",
    "speakerB = \"VCC2TF1\"\n",
    "test = m2(speakerA, speakerB, load_id)\n",
    "mcds1 = test.test()\n",
    "mcdsMF[1] = np.mean(mcds1)"
   ]
  },
  {
   "cell_type": "code",
   "execution_count": null,
   "metadata": {},
   "outputs": [],
   "source": [
    "# pitch shift\n",
    "train_id = 10\n",
    "speakerA = \"VCC2SM3\"\n",
    "speakerB = \"VCC2TF1\"\n",
    "cycleGAN = MaskCycleGANVCTraining(\n",
    "    speakerA=speakerA,\n",
    "    speakerB=speakerB,\n",
    "    datasetA_spec=loadPickleFile(f'data/training_data/{speakerA}_train_spec.pickle'),\n",
    "    datasetB_spec=loadPickleFile(f'data/training_data/{speakerB}_train_spec.pickle'),\n",
    "    train_id=train_id,\n",
    "    num_epochs=130,\n",
    "    freq_mask=False,\n",
    "    augment_type=\"pitchshift\",\n",
    "    aug_list=pitchList,\n",
    "    load_id=None,\n",
    "    load_model=False\n",
    "    )\n",
    "loss2 = cycleGAN.train()\n",
    "glossesMF[2] = loss2[0][-1]\n",
    "dlossesMF[2] = loss2[1][-1]\n",
    "print(cycleGAN.get_training_time())"
   ]
  },
  {
   "cell_type": "code",
   "execution_count": null,
   "metadata": {},
   "outputs": [],
   "source": [
    "load_id = 10\n",
    "speakerA = \"VCC2SM3\"\n",
    "speakerB = \"VCC2TF1\"\n",
    "test = m2(speakerA, speakerB, load_id)\n",
    "mcds2 = test.test()\n",
    "mcdsMF[2] = np.mean(mcds1)"
   ]
  },
  {
   "cell_type": "code",
   "execution_count": null,
   "metadata": {},
   "outputs": [],
   "source": [
    "train_id = 11\n",
    "speakerA = \"VCC2SM3\"\n",
    "speakerB = \"VCC2TF1\"\n",
    "cycleGAN = MaskCycleGANVCTraining(\n",
    "    speakerA=speakerA,\n",
    "    speakerB=speakerB,\n",
    "    datasetA_spec=loadPickleFile(f'data/training_data/{speakerA}_train_spec.pickle'),\n",
    "    datasetB_spec=loadPickleFile(f'data/training_data/{speakerB}_train_spec.pickle'),\n",
    "    train_id=train_id,\n",
    "    num_epochs=130,\n",
    "    freq_mask=False,\n",
    "    augment_type=\"harmdist\",\n",
    "    aug_list=None,\n",
    "    load_id=None,\n",
    "    load_model=False\n",
    "    )\n",
    "loss3 = cycleGAN.train()\n",
    "glossesMF[3] = loss3[0][-1]\n",
    "dlossesMF[3] = loss3[1][-1]\n",
    "print(cycleGAN.get_training_time())"
   ]
  },
  {
   "cell_type": "code",
   "execution_count": null,
   "metadata": {},
   "outputs": [],
   "source": [
    "load_id = 11\n",
    "speakerA = \"VCC2SM3\"\n",
    "speakerB = \"VCC2TF1\"\n",
    "test = m2(speakerA, speakerB, load_id)\n",
    "mcds3 = test.test()\n",
    "mcdsMF[3] = np.mean(mcds3)"
   ]
  },
  {
   "cell_type": "code",
   "execution_count": null,
   "metadata": {},
   "outputs": [],
   "source": [
    "# pitch shift\n",
    "train_id = 12\n",
    "speakerA = \"VCC2SM3\"\n",
    "speakerB = \"VCC2TF1\"\n",
    "cycleGAN = MaskCycleGANVCTraining(\n",
    "    speakerA=speakerA,\n",
    "    speakerB=speakerB,\n",
    "    datasetA_spec=loadPickleFile(f'data/training_data/{speakerA}_train_spec.pickle'),\n",
    "    datasetB_spec=loadPickleFile(f'data/training_data/{speakerB}_train_spec.pickle'),\n",
    "    train_id=train_id,\n",
    "    num_epochs=130,\n",
    "    freq_mask=False,\n",
    "    augment_type=\"noise\",\n",
    "    aug_list=noiseList,\n",
    "    load_id=None,\n",
    "    load_model=False\n",
    "    )\n",
    "loss4 = cycleGAN.train()\n",
    "glossesMF[4] = loss4[0][-1]\n",
    "dlossesMF[4] = loss4[1][-1]\n",
    "print(cycleGAN.get_training_time())"
   ]
  },
  {
   "cell_type": "code",
   "execution_count": null,
   "metadata": {},
   "outputs": [],
   "source": [
    "load_id = 12\n",
    "speakerA = \"VCC2SM3\"\n",
    "speakerB = \"VCC2TF1\"\n",
    "test = m2(speakerA, speakerB, load_id)\n",
    "mcds4 = test.test()\n",
    "mcdsMF[4] = np.mean(mcds4)"
   ]
  },
  {
   "cell_type": "code",
   "execution_count": null,
   "metadata": {},
   "outputs": [],
   "source": [
    "# pitch shift\n",
    "train_id = 13\n",
    "speakerA = \"VCC2SM3\"\n",
    "speakerB = \"VCC2TF1\"\n",
    "cycleGAN = MaskCycleGANVCTraining(\n",
    "    speakerA=speakerA,\n",
    "    speakerB=speakerB,\n",
    "    datasetA_spec=loadPickleFile(f'data/training_data/{speakerA}_train_spec.pickle'),\n",
    "    datasetB_spec=loadPickleFile(f'data/training_data/{speakerB}_train_spec.pickle'),\n",
    "    train_id=train_id,\n",
    "    num_epochs=130,\n",
    "    freq_mask=True,\n",
    "    augment_type=None,\n",
    "    aug_list=None,\n",
    "    load_id=None,\n",
    "    load_model=False\n",
    "    )\n",
    "loss5 = cycleGAN.train()\n",
    "glossesFM[5] = loss5[0][-1]\n",
    "glossesFM[5] = loss5[1][-1]\n",
    "print(cycleGAN.get_training_time())"
   ]
  },
  {
   "cell_type": "code",
   "execution_count": null,
   "metadata": {},
   "outputs": [],
   "source": [
    "load_id = 13\n",
    "speakerA = \"VCC2SM3\"\n",
    "speakerB = \"VCC2TF1\"\n",
    "test = m2(speakerA, speakerB, load_id)\n",
    "mcds5 = test.test()\n",
    "mcdsMF[5] = np.mean(mcds5)"
   ]
  },
  {
   "cell_type": "code",
   "execution_count": null,
   "metadata": {},
   "outputs": [],
   "source": [
    "# Time stretch Pitch Shift\n",
    "train_id = 14\n",
    "speakerA = \"VCC2SM3\"\n",
    "speakerB = \"VCC2TF1\"\n",
    "cycleGAN = MaskCycleGANVCTraining(\n",
    "    speakerA=speakerA,\n",
    "    speakerB=speakerB,\n",
    "    datasetA_spec=loadPickleFile(f'data/training_data/{speakerA}_train_spec.pickle'),\n",
    "    datasetB_spec=loadPickleFile(f'data/training_data/{speakerB}_train_spec.pickle'),\n",
    "    train_id=train_id,\n",
    "    num_epochs=130,\n",
    "    freq_mask=False,\n",
    "    augment_type=\"timepitch\",\n",
    "    aug_list=timePitchList,\n",
    "    load_id=None,\n",
    "    load_model=False\n",
    "    )\n",
    "loss6 = cycleGAN.train()\n",
    "glossesMF[6] = loss6[0][-1]\n",
    "glossesMF[6] = loss6[1][-1]\n",
    "print(cycleGAN.get_training_time())"
   ]
  },
  {
   "cell_type": "code",
   "execution_count": null,
   "metadata": {},
   "outputs": [],
   "source": [
    "load_id = 14\n",
    "speakerA = \"VCC2SM3\"\n",
    "speakerB = \"VCC2TF1\"\n",
    "test = m2(speakerA, speakerB, load_id)\n",
    "mcds6 = test.test()\n",
    "mcdsMF[6] = np.mean(mcds6)"
   ]
  },
  {
   "cell_type": "code",
   "execution_count": null,
   "metadata": {},
   "outputs": [],
   "source": [
    "# Time stretch Pitch Shift\n",
    "train_id = 15\n",
    "speakerA = \"VCC2SM3\"\n",
    "speakerB = \"VCC2TF1\"\n",
    "cycleGAN = MaskCycleGANVCTraining(\n",
    "    speakerA=speakerA,\n",
    "    speakerB=speakerB,\n",
    "    datasetA_spec=loadPickleFile(f'data/training_data/{speakerA}_train_spec.pickle'),\n",
    "    datasetB_spec=loadPickleFile(f'data/training_data/{speakerB}_train_spec.pickle'),\n",
    "    train_id=train_id,\n",
    "    num_epochs=130,\n",
    "    freq_mask=True,\n",
    "    augment_type=\"timestretch\",\n",
    "    aug_list=timeList,\n",
    "    load_id=None,\n",
    "    load_model=False\n",
    "    )\n",
    "loss7 = cycleGAN.train()\n",
    "glossesMF[7] = loss7[0][-1]\n",
    "dlossesMF[7] = loss7[1][-1]\n",
    "print(cycleGAN.get_training_time())"
   ]
  },
  {
   "cell_type": "code",
   "execution_count": null,
   "metadata": {},
   "outputs": [],
   "source": [
    "load_id = 15\n",
    "speakerA = \"VCC2SM3\"\n",
    "speakerB = \"VCC2TF1\"\n",
    "test = m2(speakerA, speakerB, load_id)\n",
    "mcds7 = test.test()\n",
    "mcdsMF[7] = np.mean(mcds7)"
   ]
  },
  {
   "cell_type": "code",
   "execution_count": null,
   "metadata": {},
   "outputs": [],
   "source": [
    "mf_top = get_top_3_indices(mcdsMF)\n",
    "mcdsV2 = [0] * 3\n",
    "glossesV2 = [0] * 3\n",
    "dlossesV2 = [0] * 3"
   ]
  },
  {
   "cell_type": "code",
   "execution_count": null,
   "metadata": {},
   "outputs": [],
   "source": [
    "print(mcdsMF)"
   ]
  },
  {
   "cell_type": "code",
   "execution_count": null,
   "metadata": {},
   "outputs": [],
   "source": [
    "#MF 1\n",
    "train_id = 19\n",
    "speakerA = \"bruno_mars\"\n",
    "speakerB = \"iu\"\n",
    "cycleGAN = MaskCycleGANVCTraining(\n",
    "    speakerA=speakerA,\n",
    "    speakerB=speakerB,\n",
    "    datasetA_spec=loadPickleFile(f'data/training_data/{speakerA}_train_spec.pickle'),\n",
    "    datasetB_spec=loadPickleFile(f'data/training_data/{speakerB}_train_spec.pickle'),\n",
    "    train_id=train_id,\n",
    "    num_epochs=500,\n",
    "    freq_mask=freqmasks[mf_top[0]],\n",
    "    augment_type=augments[mf_top[0]],\n",
    "    aug_list=auglists[mf_top[0]],\n",
    "    load_id=None,\n",
    "    load_model=False\n",
    "    )\n",
    "loss0 = cycleGAN.train()\n",
    "glossesV2[0] = loss0[0][-1]\n",
    "dlossesV2[0] = loss0[1][-1]\n",
    "print(cycleGAN.get_training_time())"
   ]
  },
  {
   "cell_type": "code",
   "execution_count": null,
   "metadata": {},
   "outputs": [],
   "source": [
    "load_id = 19\n",
    "speakerA = \"bruno_mars\"\n",
    "speakerB = \"iu\"\n",
    "test = m1(speakerA, speakerB, load_id)\n",
    "mcds1 = test.test()\n",
    "mcdsV2[0] = np.mean(mcds1)"
   ]
  },
  {
   "cell_type": "code",
   "execution_count": null,
   "metadata": {},
   "outputs": [],
   "source": [
    "#MF 2\n",
    "train_id = 20\n",
    "speakerA = \"bruno_mars\"\n",
    "speakerB = \"iu\"\n",
    "cycleGAN = MaskCycleGANVCTraining(\n",
    "    speakerA=speakerA,\n",
    "    speakerB=speakerB,\n",
    "    datasetA_spec=loadPickleFile(f'data/training_data/{speakerA}_train_spec.pickle'),\n",
    "    datasetB_spec=loadPickleFile(f'data/training_data/{speakerB}_train_spec.pickle'),\n",
    "    train_id=train_id,\n",
    "    num_epochs=500,\n",
    "    freq_mask=freqmasks[mf_top[1]],\n",
    "    augment_type=augments[mf_top[1]],\n",
    "    aug_list=auglists[mf_top[1]],\n",
    "    load_id=None,\n",
    "    load_model=False\n",
    "    )\n",
    "loss0 = cycleGAN.train()\n",
    "glossesV2[1] = loss0[0][-1]\n",
    "dlossesV2[1] = loss0[1][-1]\n",
    "print(cycleGAN.get_training_time())"
   ]
  },
  {
   "cell_type": "code",
   "execution_count": null,
   "metadata": {},
   "outputs": [],
   "source": [
    "load_id = 20\n",
    "speakerA = \"bruno_mars\"\n",
    "speakerB = \"iu\"\n",
    "test = m1(speakerA, speakerB, load_id)\n",
    "mcds1 = test.test()\n",
    "mcdsV2[1] = np.mean(mcds1)"
   ]
  },
  {
   "cell_type": "code",
   "execution_count": null,
   "metadata": {},
   "outputs": [],
   "source": [
    "#MF 3\n",
    "train_id = 21\n",
    "speakerA = \"bruno_mars\"\n",
    "speakerB = \"iu\"\n",
    "cycleGAN = MaskCycleGANVCTraining(\n",
    "    speakerA=speakerA,\n",
    "    speakerB=speakerB,\n",
    "    datasetA_spec=loadPickleFile(f'data/training_data/{speakerA}_train_spec.pickle'),\n",
    "    datasetB_spec=loadPickleFile(f'data/training_data/{speakerB}_train_spec.pickle'),\n",
    "    train_id=train_id,\n",
    "    num_epochs=500,\n",
    "    freq_mask=freqmasks[mf_top[2]],\n",
    "    augment_type=augments[mf_top[2]],\n",
    "    aug_list=auglists[mf_top[2]],\n",
    "    load_id=None,\n",
    "    load_model=False\n",
    "    )\n",
    "loss0 = cycleGAN.train()\n",
    "glossesV2[2] = loss0[0][-1]\n",
    "dlossesV2[2] = loss0[1][-1]\n",
    "print(cycleGAN.get_training_time())"
   ]
  },
  {
   "cell_type": "code",
   "execution_count": null,
   "metadata": {},
   "outputs": [],
   "source": [
    "load_id = 21\n",
    "speakerA = \"bruno_mars\"\n",
    "speakerB = \"iu\"\n",
    "test = m1(speakerA, speakerB, load_id)\n",
    "mcds2 = test.test()\n",
    "mcdsV2[2] = np.mean(mcds2)"
   ]
  },
  {
   "cell_type": "code",
   "execution_count": null,
   "metadata": {},
   "outputs": [],
   "source": [
    "print(mcdsV1, mcdsV2)"
   ]
  },
  {
   "cell_type": "code",
   "execution_count": null,
   "metadata": {},
   "outputs": [],
   "source": [
    "for i in range(3):\n",
    "    print(augments[mf_top[i]])\n",
    "    \n",
    "for i in range(3):\n",
    "    print(augments[fm_top[i]])"
   ]
  }
 ],
 "metadata": {
  "kernelspec": {
   "display_name": "Python 3",
   "language": "python",
   "name": "python3"
  },
  "language_info": {
   "codemirror_mode": {
    "name": "ipython",
    "version": 3
   },
   "file_extension": ".py",
   "mimetype": "text/x-python",
   "name": "python",
   "nbconvert_exporter": "python",
   "pygments_lexer": "ipython3",
   "version": "3.11.3"
  },
  "orig_nbformat": 4
 },
 "nbformat": 4,
 "nbformat_minor": 2
}
