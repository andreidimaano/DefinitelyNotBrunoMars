{
 "cells": [
  {
   "cell_type": "code",
   "execution_count": 55,
   "metadata": {},
   "outputs": [],
   "source": [
    "import os\n",
    "import librosa\n",
    "import matplotlib.pyplot as plt\n",
    "import numpy as np\n",
    "from pydub import AudioSegment\n",
    "import h5py\n",
    "import soundfile as sf\n",
    "import torch"
   ]
  },
  {
   "cell_type": "code",
   "execution_count": 64,
   "metadata": {},
   "outputs": [],
   "source": [
    "example_log_spec = None\n",
    "example_sr = None\n",
    "\n",
    "def plot_mfcc_spectrogram(log_mel_spectrogram, sr):\n",
    "    plt.figure(figsize=(10, 5))\n",
    "    librosa.display.specshow(log_mel_spectrogram, sr=sr, hop_length=256, x_axis='time', y_axis='mel')\n",
    "    print(log_mel_spectrogram.shape)\n",
    "    plt.colorbar(format='%+2.0f dB')\n",
    "    plt.title('Log Mel Spectrogram')\n",
    "    plt.show()\n",
    "\n",
    "def audio_to_spectrogram(src_dir, dest_dir):\n",
    "    h5_arr = []\n",
    "    j = 0\n",
    "    with h5py.File(dest_dir, 'w') as hf:\n",
    "        # Iterate over the FLAC files in the source directory\n",
    "        print(src_dir)\n",
    "        for root, _, files in os.walk(src_dir, topdown=False):\n",
    "            print('going')\n",
    "            for file_name in files:\n",
    "                if file_name.endswith('.flac') or file_name.endswith('.mp3'):\n",
    "                    try:\n",
    "                        # Load the FLAC file\n",
    "                        input_file = os.path.join(root, file_name)\n",
    "                        audio, sr = librosa.load(input_file, sr=48000)\n",
    "                        print(sr)\n",
    "                        sec = sr * 20\n",
    "\n",
    "                        # Generate the spectrogram batches\n",
    "                        for i in range(audio.shape[0]//(sec)):\n",
    "                            batch = audio[i*sec:(i+1)*sec]\n",
    "                            \n",
    "                            mel_spectrogram = librosa.feature.melspectrogram(y=batch, sr=sr, n_fft=1024, hop_length=256, n_mels=80)\n",
    "                            \n",
    "                            log_mel_spectrogram = librosa.power_to_db(mel_spectrogram, ref=np.max)\n",
    "                            h5_arr.append(log_mel_spectrogram)\n",
    "                            \n",
    "                            # testing\n",
    "                            # if j == 0:\n",
    "                            #     print(batch.shape)\n",
    "                            #     print(mel_spectrogram.shape)\n",
    "                            #     print(log_mel_spectrogram.shape)\n",
    "                            #     global example_log_spec\n",
    "                            #     example_log_spec = log_mel_spectrogram\n",
    "                            #     global example_sr \n",
    "                            #     example_sr = sr;\n",
    "                                # mel_spectrogram_linear = librosa.db_to_power(log_mel_spectrogram, ref=np.max)\n",
    "                                # stft =  np.abs(librosa.stft(mel_spectrogram_linear))\n",
    "                                # spectral_centroids = librosa.feature.spectral_centroid(S=stft, sr=22050)\n",
    "                                # print(np.mean(spectral_centroids))\n",
    "                                # j += 1\n",
    "                            ## larger nfft better for frequency resolution\n",
    "                            ## higher hop length for time resolution\n",
    "                    except AttributeError as e:\n",
    "                        print(f\"Error processing file: {file_name} - {e}\")\n",
    "                        continue\n",
    "        h5_arr = np.array(h5_arr)\n",
    "        print(h5_arr.shape)\n",
    "        hf.create_dataset(\"audio\", data=h5_arr)\n"
   ]
  },
  {
   "cell_type": "code",
   "execution_count": null,
   "metadata": {},
   "outputs": [],
   "source": [
    "## windows\n",
    "cwd = os.getcwd()\n",
    "parent_dir = os.path.dirname(cwd)\n",
    "audio_to_spectrogram(os.path.join(parent_dir, 'code', 'iu'),'iu3.h5')\n",
    "audio_to_spectrogram(os.path.join(parent_dir, 'bruno_mars'),'bruno3.h5')\n",
    "plot_mfcc_spectrogram(example_log_spec, example_sr)"
   ]
  },
  {
   "cell_type": "code",
   "execution_count": null,
   "metadata": {},
   "outputs": [],
   "source": [
    "print(example_log_spec.shape)\n",
    "waveform = librosa.feature.inverse.mel_to_audio(librosa.db_to_power(example_log_spec), sr=example_sr, n_fft=1024, hop_length=256)\n",
    "\n",
    "# Save the reconstructed waveform as a .wav file\n",
    "output_path = 'reconstructed_audio.wav'\n",
    "#librosa.output.write_wav(output_path, waveform, example_sr)\n",
    "sf.write(output_path, waveform, example_sr)"
   ]
  },
  {
   "cell_type": "code",
   "execution_count": 70,
   "metadata": {},
   "outputs": [],
   "source": [
    "def spectrogram_to_wav(spectrogram):\n",
    "    waveform = librosa.feature.inverse.mel_to_audio(librosa.db_to_power(example_log_spec), sr=example_sr, n_fft=1024, hop_length=256)\n",
    "\n",
    "    # Save the reconstructed waveform as a .wav file\n",
    "    output_path = 'reconstructed_audio.wav'\n",
    "    #librosa.output.write_wav(output_path, waveform, example_sr)\n",
    "    sf.write(output_path, waveform, example_sr)\n",
    "    return waveform"
   ]
  },
  {
   "cell_type": "code",
   "execution_count": null,
   "metadata": {},
   "outputs": [],
   "source": [
    "# for debuggging\n",
    "\n",
    "num_frames = 100\n",
    "num_bins = 128\n",
    "spectrogram = np.random.rand(num_bins, num_frames)  # Replace this with your actual spectrogram data\n",
    "\n",
    "# Plot the spectrogram\n",
    "plt.figure(figsize=(10, 6))\n",
    "plt.imshow(spectrogram, aspect='auto', origin='lower', cmap='jet')\n",
    "\n",
    "# Set labels and title\n",
    "plt.xlabel('Frame')\n",
    "plt.ylabel('Frequency Bin')\n",
    "plt.title('Dummy Spectrogram')\n",
    "\n",
    "# Add a colorbar\n",
    "plt.colorbar(format='%+2.0f dB')\n",
    "\n",
    "# Show the plot\n",
    "plt.show()"
   ]
  }
 ],
 "metadata": {
  "kernelspec": {
   "display_name": "CS228",
   "language": "python",
   "name": "python3"
  },
  "language_info": {
   "codemirror_mode": {
    "name": "ipython",
    "version": 3
   },
   "file_extension": ".py",
   "mimetype": "text/x-python",
   "name": "python",
   "nbconvert_exporter": "python",
   "pygments_lexer": "ipython3",
   "version": "3.11.0"
  },
  "orig_nbformat": 4
 },
 "nbformat": 4,
 "nbformat_minor": 2
}
