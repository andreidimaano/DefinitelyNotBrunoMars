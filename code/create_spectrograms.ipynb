{
 "cells": [
  {
   "cell_type": "code",
   "execution_count": 55,
   "metadata": {},
   "outputs": [],
   "source": [
    "import os\n",
    "import librosa\n",
    "import matplotlib.pyplot as plt\n",
    "import numpy as np\n",
    "from pydub import AudioSegment\n",
    "import h5py\n",
    "import torch"
   ]
  },
  {
   "cell_type": "code",
   "execution_count": 4,
   "metadata": {},
   "outputs": [],
   "source": [
    "example_log_spec = None\n",
    "example_sr = None\n",
    "\n",
    "def plot_mfcc_spectrogram(log_mel_spectrogram, sr):\n",
    "    plt.figure(figsize=(10, 5))\n",
    "    librosa.display.specshow(log_mel_spectrogram, sr=sr, hop_length=256, x_axis='time', y_axis='mel')\n",
    "    print(log_mel_spectrogram.shape)\n",
    "    plt.colorbar(format='%+2.0f dB')\n",
    "    plt.title('Log Mel Spectrogram')\n",
    "    plt.show()\n",
    "\n",
    "def audio_to_spectrogram(src_dir, dest_dir):\n",
    "    h5_arr = list()\n",
    "    with h5py.File(dest_dir, 'w') as hf:\n",
    "        # Iterate over the FLAC files in the source directory\n",
    "        print(src_dir)\n",
    "        for root, _, files in os.walk(src_dir, topdown=False):\n",
    "            print('going')\n",
    "            for file_name in files:\n",
    "                if file_name.endswith('.flac') or file_name.endswith('.mp3'):\n",
    "                    try:\n",
    "                        input_file = os.path.join(root, file_name)\n",
    "                        audio, sr = librosa.load(input_file, sr=22050)\n",
    "                        mel_spectrogram = librosa.feature.melspectrogram(y=audio, sr=sr, n_fft=4096, hop_length=512, n_mels=80)\n",
    "                        log_mel_spectrogram = librosa.power_to_db(mel_spectrogram, ref=np.max)\n",
    "                        if log_mel_spectrogram.shape[-1] >= 64:    # training sample consists of 64 randomly cropped frames\n",
    "                            h5_arr.append(log_mel_spectrogram)\n",
    "                        # larger nfft better for frequency resolution\n",
    "                        # higher hop length for time resolution\n",
    "                    except AttributeError as e:\n",
    "                        print(f\"Error processing file: {file_name} - {e}\")\n",
    "                        continue\n",
    "    \n",
    "    mel_concatenated = np.concatenate(h5_arr, axis=1)\n",
    "    mel_mean = np.mean(mel_concatenated, axis=1, keepdims=True)\n",
    "    mel_std = np.std(mel_concatenated, axis=1, keepdims=True) + 1e-9\n",
    "\n",
    "    mel_normalized = list()\n",
    "    for mel in h5_arr:\n",
    "        assert mel.shape[-1] >= 64, f\"Mel spectogram length must be greater than 64 frames, but was {mel.shape[-1]}\"\n",
    "        app = (mel - mel_mean) / mel_std\n",
    "        mel_normalized.append(app)\n",
    "\n",
    "    # save to pickle instead of h5.\n",
    "    # h5_arr = np.array(h5_arr)\n",
    "    # print(h5_arr.shape)\n",
    "    hf.create_dataset(\"audio\", data=h5_arr)"
   ]
  },
  {
   "cell_type": "code",
   "execution_count": null,
   "metadata": {},
   "outputs": [],
   "source": [
    "audio_to_spectrogram('../iu','iu_test.h5')\n",
    "audio_to_spectrogram('../bruno_mars','bruno_test.h5')"
   ]
  },
  {
   "cell_type": "code",
   "execution_count": 9,
   "metadata": {},
   "outputs": [],
   "source": [
    "SAMPLING_RATE = 22050  # Fixed sampling rate\n",
    "\n",
    "\n",
    "\n",
    "def normalize_mel(src_dir, dest_dir):\n",
    "    h5_arr = []\n",
    "    j = 0\n",
    "    vocoder = torch.hub.load(\"descriptinc/melgan-neurips\", 'load_melgan')\n",
    "    with h5py.File(dest_dir, 'w') as hf:\n",
    "        # Iterate over the FLAC files in the source directory\n",
    "        for root, _, files in os.walk(src_dir, topdown=False):\n",
    "            for file_name in files:\n",
    "                if file_name.endswith('.flac') or file_name.endswith('.mp3'):\n",
    "                    mel_list = list()\n",
    "                    try:\n",
    "                        # Load the FLAC file\n",
    "                        input_file = os.path.join(root, file_name)\n",
    "                        print(input_file)\n",
    "                        audio, _ = librosa.load(input_file, sr=22050, mono=True)\n",
    "                        spec_t, _ = vocoder(torch.tensor([audio]))\n",
    "                        spec = librosa.feature.melspectrogram(y=audio, sr=22050, n_fft=1024, win_length=1024, hop_length=256, n_mels=80)\n",
    "                        \n",
    "                        print(spec.shape)\n",
    "\n",
    "                        if spec.shape[-1] >= 64:    # training sample consists of 64 randomly cropped frames\n",
    "                            print(spec.detach().numpy()[0])\n",
    "                            mel_list.append(spec.cpu().detach().numpy()[0])\n",
    "                    \n",
    "                    except AttributeError as e:\n",
    "                        print(f\"Error processing file: {file_name} - {e}\")\n",
    "                        continue\n",
    "\n",
    "    mel_concatenated = np.concatenate(mel_list, axis=1)\n",
    "    mel_mean = np.mean(mel_concatenated, axis=1, keepdims=True)\n",
    "    mel_std = np.std(mel_concatenated, axis=1, keepdims=True) + 1e-9\n",
    "\n",
    "    mel_normalized = list()\n",
    "    for mel in mel_list:\n",
    "        assert mel.shape[-1] >= 64, f\"Mel spectogram length must be greater than 64 frames, but was {mel.shape[-1]}\"\n",
    "        app = (mel - mel_mean) / mel_std\n",
    "        mel_normalized.append(app)\n",
    "\n",
    "    hf.close()\n",
    "\n",
    "    return mel_normalized, mel_mean, mel_std"
   ]
  },
  {
   "cell_type": "code",
   "execution_count": null,
   "metadata": {},
   "outputs": [],
   "source": [
    "normalize_mel('../iu','aaaa')"
   ]
  }
 ],
 "metadata": {
  "kernelspec": {
   "display_name": "CS228",
   "language": "python",
   "name": "python3"
  },
  "language_info": {
   "codemirror_mode": {
    "name": "ipython",
    "version": 3
   },
   "file_extension": ".py",
   "mimetype": "text/x-python",
   "name": "python",
   "nbconvert_exporter": "python",
   "pygments_lexer": "ipython3",
   "version": "3.11.2"
  },
  "orig_nbformat": 4
 },
 "nbformat": 4,
 "nbformat_minor": 2
}
