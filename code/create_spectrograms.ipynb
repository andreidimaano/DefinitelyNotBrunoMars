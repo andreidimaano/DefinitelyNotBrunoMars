{
 "cells": [
  {
   "cell_type": "code",
   "execution_count": 3,
   "metadata": {},
   "outputs": [],
   "source": [
    "import os\n",
    "import librosa\n",
    "import matplotlib.pyplot as plt\n",
    "import numpy as np\n",
    "from pydub import AudioSegment\n",
    "import h5py"
   ]
  },
  {
   "cell_type": "code",
   "execution_count": 15,
   "metadata": {},
   "outputs": [],
   "source": [
    "def plot_mfcc_spectrogram(log_mel_spectrogram, sr):\n",
    "    plt.figure(figsize=(10, 5))\n",
    "    librosa.display.specshow(log_mel_spectrogram, sr=sr, hop_length=256, x_axis='time', y_axis='mel')\n",
    "    print(log_mel_spectrogram.shape)\n",
    "    plt.colorbar(format='%+2.0f dB')\n",
    "    plt.title('Log Mel Spectrogram')\n",
    "    plt.show()\n",
    "\n",
    "def audio_to_spectrogram(src_dir, dest_dir):\n",
    "    h5_arr = []\n",
    "    j = 0\n",
    "    with h5py.File(dest_dir, 'w') as hf:\n",
    "        # Iterate over the FLAC files in the source directory\n",
    "        for root, _, files in os.walk(src_dir, topdown=False):\n",
    "            for file_name in files:\n",
    "                if file_name.endswith('.flac') or file_name.endswith('.mp3'):\n",
    "                    try:\n",
    "                        # Load the FLAC file\n",
    "                        input_file = os.path.join(root, file_name)\n",
    "                        audio, sr = librosa.load(input_file, sr=22050)\n",
    "                        sec = sr * 3\n",
    "\n",
    "                        # Generate the spectrogram batches\n",
    "                        for i in range(audio.shape[0]//(sr * 3)):\n",
    "                            batch = audio[i*sec:(i+1)*sec]\n",
    "                            \n",
    "                            mel_spectrogram = librosa.feature.melspectrogram(y=batch, sr=sr, n_fft=4096, hop_length=512, n_mels=80)\n",
    "                            \n",
    "                            log_mel_spectrogram = librosa.power_to_db(mel_spectrogram, ref=np.max)\n",
    "                            h5_arr.append(log_mel_spectrogram)\n",
    "                            \n",
    "                            if j == 0:\n",
    "                                print(batch.shape)\n",
    "                                print(mel_spectrogram.shape)\n",
    "                                print(log_mel_spectrogram.shape)\n",
    "                                # mel_spectrogram_linear = librosa.db_to_power(log_mel_spectrogram, ref=np.max)\n",
    "                                # stft =  np.abs(librosa.stft(mel_spectrogram_linear))\n",
    "                                # spectral_centroids = librosa.feature.spectral_centroid(S=stft, sr=22050)\n",
    "                                # print(np.mean(spectral_centroids))\n",
    "                                j += 1\n",
    "                            ## larger nfft better for frequency resolution\n",
    "                            ## higher hop length for time resolution\n",
    "                    except AttributeError as e:\n",
    "                        print(f\"Error processing file: {file_name} - {e}\")\n",
    "                        continue\n",
    "        h5_arr = np.array(h5_arr)\n",
    "        print(h5_arr.shape)\n",
    "        hf.create_dataset(\"audio\", data=h5_arr)"
   ]
  },
  {
   "cell_type": "code",
   "execution_count": 16,
   "metadata": {},
   "outputs": [
    {
     "name": "stdout",
     "output_type": "stream",
     "text": [
      "(66150,)\n",
      "(80, 130)\n",
      "(80, 130)\n"
     ]
    },
    {
     "ename": "KeyboardInterrupt",
     "evalue": "",
     "output_type": "error",
     "traceback": [
      "\u001b[1;31m---------------------------------------------------------------------------\u001b[0m",
      "\u001b[1;31mKeyboardInterrupt\u001b[0m                         Traceback (most recent call last)",
      "Cell \u001b[1;32mIn[16], line 3\u001b[0m\n\u001b[0;32m      1\u001b[0m cwd \u001b[39m=\u001b[39m os\u001b[39m.\u001b[39mgetcwd()\n\u001b[0;32m      2\u001b[0m parent_dir \u001b[39m=\u001b[39m os\u001b[39m.\u001b[39mpath\u001b[39m.\u001b[39mdirname(cwd)\n\u001b[1;32m----> 3\u001b[0m audio_to_spectrogram(os\u001b[39m.\u001b[39;49mpath\u001b[39m.\u001b[39;49mjoin(parent_dir, \u001b[39m'\u001b[39;49m\u001b[39miu\u001b[39;49m\u001b[39m'\u001b[39;49m),\u001b[39m'\u001b[39;49m\u001b[39miu3.h5\u001b[39;49m\u001b[39m'\u001b[39;49m)\n\u001b[0;32m      4\u001b[0m audio_to_spectrogram(os\u001b[39m.\u001b[39mpath\u001b[39m.\u001b[39mjoin(parent_dir, \u001b[39m'\u001b[39m\u001b[39mbruno_mars\u001b[39m\u001b[39m'\u001b[39m),\u001b[39m'\u001b[39m\u001b[39mbruno3.h5\u001b[39m\u001b[39m'\u001b[39m)\n",
      "Cell \u001b[1;32mIn[15], line 27\u001b[0m, in \u001b[0;36maudio_to_spectrogram\u001b[1;34m(src_dir, dest_dir)\u001b[0m\n\u001b[0;32m     24\u001b[0m \u001b[39mfor\u001b[39;00m i \u001b[39min\u001b[39;00m \u001b[39mrange\u001b[39m(audio\u001b[39m.\u001b[39mshape[\u001b[39m0\u001b[39m]\u001b[39m/\u001b[39m\u001b[39m/\u001b[39m(sr \u001b[39m*\u001b[39m \u001b[39m3\u001b[39m)):\n\u001b[0;32m     25\u001b[0m     batch \u001b[39m=\u001b[39m audio[i\u001b[39m*\u001b[39msec:(i\u001b[39m+\u001b[39m\u001b[39m1\u001b[39m)\u001b[39m*\u001b[39msec]\n\u001b[1;32m---> 27\u001b[0m     mel_spectrogram \u001b[39m=\u001b[39m librosa\u001b[39m.\u001b[39;49mfeature\u001b[39m.\u001b[39;49mmelspectrogram(y\u001b[39m=\u001b[39;49mbatch, sr\u001b[39m=\u001b[39;49msr, n_fft\u001b[39m=\u001b[39;49m\u001b[39m4096\u001b[39;49m, hop_length\u001b[39m=\u001b[39;49m\u001b[39m512\u001b[39;49m, n_mels\u001b[39m=\u001b[39;49m\u001b[39m80\u001b[39;49m)\n\u001b[0;32m     29\u001b[0m     log_mel_spectrogram \u001b[39m=\u001b[39m librosa\u001b[39m.\u001b[39mpower_to_db(mel_spectrogram, ref\u001b[39m=\u001b[39mnp\u001b[39m.\u001b[39mmax)\n\u001b[0;32m     30\u001b[0m     h5_arr\u001b[39m.\u001b[39mappend(log_mel_spectrogram)\n",
      "File \u001b[1;32m~\\AppData\\Local\\Packages\\PythonSoftwareFoundation.Python.3.11_qbz5n2kfra8p0\\LocalCache\\local-packages\\Python311\\site-packages\\librosa\\feature\\spectral.py:2144\u001b[0m, in \u001b[0;36mmelspectrogram\u001b[1;34m(y, sr, S, n_fft, hop_length, win_length, window, center, pad_mode, power, **kwargs)\u001b[0m\n\u001b[0;32m   2021\u001b[0m \u001b[39mdef\u001b[39;00m \u001b[39mmelspectrogram\u001b[39m(\n\u001b[0;32m   2022\u001b[0m     \u001b[39m*\u001b[39m,\n\u001b[0;32m   2023\u001b[0m     y: Optional[np\u001b[39m.\u001b[39mndarray] \u001b[39m=\u001b[39m \u001b[39mNone\u001b[39;00m,\n\u001b[1;32m   (...)\u001b[0m\n\u001b[0;32m   2033\u001b[0m     \u001b[39m*\u001b[39m\u001b[39m*\u001b[39mkwargs: Any,\n\u001b[0;32m   2034\u001b[0m ) \u001b[39m-\u001b[39m\u001b[39m>\u001b[39m np\u001b[39m.\u001b[39mndarray:\n\u001b[0;32m   2035\u001b[0m \u001b[39m    \u001b[39m\u001b[39m\"\"\"Compute a mel-scaled spectrogram.\u001b[39;00m\n\u001b[0;32m   2036\u001b[0m \n\u001b[0;32m   2037\u001b[0m \u001b[39m    If a spectrogram input ``S`` is provided, then it is mapped directly onto\u001b[39;00m\n\u001b[1;32m   (...)\u001b[0m\n\u001b[0;32m   2141\u001b[0m \u001b[39m    >>> ax.set(title='Mel-frequency spectrogram')\u001b[39;00m\n\u001b[0;32m   2142\u001b[0m \u001b[39m    \"\"\"\u001b[39;00m\n\u001b[1;32m-> 2144\u001b[0m     S, n_fft \u001b[39m=\u001b[39m _spectrogram(\n\u001b[0;32m   2145\u001b[0m         y\u001b[39m=\u001b[39;49my,\n\u001b[0;32m   2146\u001b[0m         S\u001b[39m=\u001b[39;49mS,\n\u001b[0;32m   2147\u001b[0m         n_fft\u001b[39m=\u001b[39;49mn_fft,\n\u001b[0;32m   2148\u001b[0m         hop_length\u001b[39m=\u001b[39;49mhop_length,\n\u001b[0;32m   2149\u001b[0m         power\u001b[39m=\u001b[39;49mpower,\n\u001b[0;32m   2150\u001b[0m         win_length\u001b[39m=\u001b[39;49mwin_length,\n\u001b[0;32m   2151\u001b[0m         window\u001b[39m=\u001b[39;49mwindow,\n\u001b[0;32m   2152\u001b[0m         center\u001b[39m=\u001b[39;49mcenter,\n\u001b[0;32m   2153\u001b[0m         pad_mode\u001b[39m=\u001b[39;49mpad_mode,\n\u001b[0;32m   2154\u001b[0m     )\n\u001b[0;32m   2156\u001b[0m     \u001b[39m# Build a Mel filter\u001b[39;00m\n\u001b[0;32m   2157\u001b[0m     mel_basis \u001b[39m=\u001b[39m filters\u001b[39m.\u001b[39mmel(sr\u001b[39m=\u001b[39msr, n_fft\u001b[39m=\u001b[39mn_fft, \u001b[39m*\u001b[39m\u001b[39m*\u001b[39mkwargs)\n",
      "File \u001b[1;32m~\\AppData\\Local\\Packages\\PythonSoftwareFoundation.Python.3.11_qbz5n2kfra8p0\\LocalCache\\local-packages\\Python311\\site-packages\\librosa\\core\\spectrum.py:2838\u001b[0m, in \u001b[0;36m_spectrogram\u001b[1;34m(y, S, n_fft, hop_length, power, win_length, window, center, pad_mode)\u001b[0m\n\u001b[0;32m   2832\u001b[0m     \u001b[39mif\u001b[39;00m y \u001b[39mis\u001b[39;00m \u001b[39mNone\u001b[39;00m:\n\u001b[0;32m   2833\u001b[0m         \u001b[39mraise\u001b[39;00m ParameterError(\n\u001b[0;32m   2834\u001b[0m             \u001b[39m\"\u001b[39m\u001b[39mInput signal must be provided to compute a spectrogram\u001b[39m\u001b[39m\"\u001b[39m\n\u001b[0;32m   2835\u001b[0m         )\n\u001b[0;32m   2836\u001b[0m     S \u001b[39m=\u001b[39m (\n\u001b[0;32m   2837\u001b[0m         np\u001b[39m.\u001b[39mabs(\n\u001b[1;32m-> 2838\u001b[0m             stft(\n\u001b[0;32m   2839\u001b[0m                 y,\n\u001b[0;32m   2840\u001b[0m                 n_fft\u001b[39m=\u001b[39;49mn_fft,\n\u001b[0;32m   2841\u001b[0m                 hop_length\u001b[39m=\u001b[39;49mhop_length,\n\u001b[0;32m   2842\u001b[0m                 win_length\u001b[39m=\u001b[39;49mwin_length,\n\u001b[0;32m   2843\u001b[0m                 center\u001b[39m=\u001b[39;49mcenter,\n\u001b[0;32m   2844\u001b[0m                 window\u001b[39m=\u001b[39;49mwindow,\n\u001b[0;32m   2845\u001b[0m                 pad_mode\u001b[39m=\u001b[39;49mpad_mode,\n\u001b[0;32m   2846\u001b[0m             )\n\u001b[0;32m   2847\u001b[0m         )\n\u001b[0;32m   2848\u001b[0m         \u001b[39m*\u001b[39m\u001b[39m*\u001b[39m power\n\u001b[0;32m   2849\u001b[0m     )\n\u001b[0;32m   2851\u001b[0m \u001b[39mreturn\u001b[39;00m S, n_fft\n",
      "File \u001b[1;32m~\\AppData\\Local\\Packages\\PythonSoftwareFoundation.Python.3.11_qbz5n2kfra8p0\\LocalCache\\local-packages\\Python311\\site-packages\\librosa\\core\\spectrum.py:345\u001b[0m, in \u001b[0;36mstft\u001b[1;34m(y, n_fft, hop_length, win_length, window, center, dtype, pad_mode, out)\u001b[0m\n\u001b[0;32m    342\u001b[0m shape[\u001b[39m-\u001b[39m\u001b[39m1\u001b[39m] \u001b[39m+\u001b[39m\u001b[39m=\u001b[39m extra\n\u001b[0;32m    344\u001b[0m \u001b[39mif\u001b[39;00m out \u001b[39mis\u001b[39;00m \u001b[39mNone\u001b[39;00m:\n\u001b[1;32m--> 345\u001b[0m     stft_matrix \u001b[39m=\u001b[39m np\u001b[39m.\u001b[39mzeros(shape, dtype\u001b[39m=\u001b[39mdtype, order\u001b[39m=\u001b[39m\u001b[39m\"\u001b[39m\u001b[39mF\u001b[39m\u001b[39m\"\u001b[39m)\n\u001b[0;32m    346\u001b[0m \u001b[39melif\u001b[39;00m \u001b[39mnot\u001b[39;00m (np\u001b[39m.\u001b[39mallclose(out\u001b[39m.\u001b[39mshape[:\u001b[39m-\u001b[39m\u001b[39m1\u001b[39m], shape[:\u001b[39m-\u001b[39m\u001b[39m1\u001b[39m]) \u001b[39mand\u001b[39;00m out\u001b[39m.\u001b[39mshape[\u001b[39m-\u001b[39m\u001b[39m1\u001b[39m] \u001b[39m>\u001b[39m\u001b[39m=\u001b[39m shape[\u001b[39m-\u001b[39m\u001b[39m1\u001b[39m]):\n\u001b[0;32m    347\u001b[0m     \u001b[39mraise\u001b[39;00m ParameterError(\n\u001b[0;32m    348\u001b[0m         \u001b[39mf\u001b[39m\u001b[39m\"\u001b[39m\u001b[39mShape mismatch for provided output array out.shape=\u001b[39m\u001b[39m{\u001b[39;00mout\u001b[39m.\u001b[39mshape\u001b[39m}\u001b[39;00m\u001b[39m and target shape=\u001b[39m\u001b[39m{\u001b[39;00mshape\u001b[39m}\u001b[39;00m\u001b[39m\"\u001b[39m\n\u001b[0;32m    349\u001b[0m     )\n",
      "\u001b[1;31mKeyboardInterrupt\u001b[0m: "
     ]
    }
   ],
   "source": [
    "cwd = os.getcwd()\n",
    "parent_dir = os.path.dirname(cwd)\n",
    "audio_to_spectrogram(os.path.join(parent_dir, 'iu'),'iu3.h5')\n",
    "audio_to_spectrogram(os.path.join(parent_dir, 'bruno_mars'),'bruno3.h5')"
   ]
  },
  {
   "cell_type": "code",
   "execution_count": 52,
   "metadata": {},
   "outputs": [
    {
     "ename": "OSError",
     "evalue": "Unable to open file (file signature not found)",
     "output_type": "error",
     "traceback": [
      "\u001b[1;31m---------------------------------------------------------------------------\u001b[0m",
      "\u001b[1;31mOSError\u001b[0m                                   Traceback (most recent call last)",
      "Cell \u001b[1;32mIn[52], line 2\u001b[0m\n\u001b[0;32m      1\u001b[0m \u001b[39m# h5 = h5py.File(\"iu.h5\", 'r')\u001b[39;00m\n\u001b[1;32m----> 2\u001b[0m h5 \u001b[39m=\u001b[39m h5py\u001b[39m.\u001b[39;49mFile(\u001b[39m\"\u001b[39;49m\u001b[39miu_spec.h5\u001b[39;49m\u001b[39m\"\u001b[39;49m, \u001b[39m'\u001b[39;49m\u001b[39mr\u001b[39;49m\u001b[39m'\u001b[39;49m)\n\u001b[0;32m      3\u001b[0m h5\u001b[39m.\u001b[39mclose()\n",
      "File \u001b[1;32m~\\AppData\\Local\\Packages\\PythonSoftwareFoundation.Python.3.11_qbz5n2kfra8p0\\LocalCache\\local-packages\\Python311\\site-packages\\h5py\\_hl\\files.py:567\u001b[0m, in \u001b[0;36mFile.__init__\u001b[1;34m(self, name, mode, driver, libver, userblock_size, swmr, rdcc_nslots, rdcc_nbytes, rdcc_w0, track_order, fs_strategy, fs_persist, fs_threshold, fs_page_size, page_buf_size, min_meta_keep, min_raw_keep, locking, alignment_threshold, alignment_interval, meta_block_size, **kwds)\u001b[0m\n\u001b[0;32m    558\u001b[0m     fapl \u001b[39m=\u001b[39m make_fapl(driver, libver, rdcc_nslots, rdcc_nbytes, rdcc_w0,\n\u001b[0;32m    559\u001b[0m                      locking, page_buf_size, min_meta_keep, min_raw_keep,\n\u001b[0;32m    560\u001b[0m                      alignment_threshold\u001b[39m=\u001b[39malignment_threshold,\n\u001b[0;32m    561\u001b[0m                      alignment_interval\u001b[39m=\u001b[39malignment_interval,\n\u001b[0;32m    562\u001b[0m                      meta_block_size\u001b[39m=\u001b[39mmeta_block_size,\n\u001b[0;32m    563\u001b[0m                      \u001b[39m*\u001b[39m\u001b[39m*\u001b[39mkwds)\n\u001b[0;32m    564\u001b[0m     fcpl \u001b[39m=\u001b[39m make_fcpl(track_order\u001b[39m=\u001b[39mtrack_order, fs_strategy\u001b[39m=\u001b[39mfs_strategy,\n\u001b[0;32m    565\u001b[0m                      fs_persist\u001b[39m=\u001b[39mfs_persist, fs_threshold\u001b[39m=\u001b[39mfs_threshold,\n\u001b[0;32m    566\u001b[0m                      fs_page_size\u001b[39m=\u001b[39mfs_page_size)\n\u001b[1;32m--> 567\u001b[0m     fid \u001b[39m=\u001b[39m make_fid(name, mode, userblock_size, fapl, fcpl, swmr\u001b[39m=\u001b[39;49mswmr)\n\u001b[0;32m    569\u001b[0m \u001b[39mif\u001b[39;00m \u001b[39misinstance\u001b[39m(libver, \u001b[39mtuple\u001b[39m):\n\u001b[0;32m    570\u001b[0m     \u001b[39mself\u001b[39m\u001b[39m.\u001b[39m_libver \u001b[39m=\u001b[39m libver\n",
      "File \u001b[1;32m~\\AppData\\Local\\Packages\\PythonSoftwareFoundation.Python.3.11_qbz5n2kfra8p0\\LocalCache\\local-packages\\Python311\\site-packages\\h5py\\_hl\\files.py:231\u001b[0m, in \u001b[0;36mmake_fid\u001b[1;34m(name, mode, userblock_size, fapl, fcpl, swmr)\u001b[0m\n\u001b[0;32m    229\u001b[0m     \u001b[39mif\u001b[39;00m swmr \u001b[39mand\u001b[39;00m swmr_support:\n\u001b[0;32m    230\u001b[0m         flags \u001b[39m|\u001b[39m\u001b[39m=\u001b[39m h5f\u001b[39m.\u001b[39mACC_SWMR_READ\n\u001b[1;32m--> 231\u001b[0m     fid \u001b[39m=\u001b[39m h5f\u001b[39m.\u001b[39;49mopen(name, flags, fapl\u001b[39m=\u001b[39;49mfapl)\n\u001b[0;32m    232\u001b[0m \u001b[39melif\u001b[39;00m mode \u001b[39m==\u001b[39m \u001b[39m'\u001b[39m\u001b[39mr+\u001b[39m\u001b[39m'\u001b[39m:\n\u001b[0;32m    233\u001b[0m     fid \u001b[39m=\u001b[39m h5f\u001b[39m.\u001b[39mopen(name, h5f\u001b[39m.\u001b[39mACC_RDWR, fapl\u001b[39m=\u001b[39mfapl)\n",
      "File \u001b[1;32mh5py\\_objects.pyx:54\u001b[0m, in \u001b[0;36mh5py._objects.with_phil.wrapper\u001b[1;34m()\u001b[0m\n",
      "File \u001b[1;32mh5py\\_objects.pyx:55\u001b[0m, in \u001b[0;36mh5py._objects.with_phil.wrapper\u001b[1;34m()\u001b[0m\n",
      "File \u001b[1;32mh5py\\h5f.pyx:106\u001b[0m, in \u001b[0;36mh5py.h5f.open\u001b[1;34m()\u001b[0m\n",
      "\u001b[1;31mOSError\u001b[0m: Unable to open file (file signature not found)"
     ]
    }
   ],
   "source": [
    "# h5 = h5py.File(\"iu.h5\", 'r')\n",
    "h5 = h5py.File(\"iu_spec.h5\", 'r')\n",
    "h5.close()"
   ]
  },
  {
   "cell_type": "code",
   "execution_count": null,
   "metadata": {},
   "outputs": [],
   "source": []
  }
 ],
 "metadata": {
  "kernelspec": {
   "display_name": "CS228",
   "language": "python",
   "name": "python3"
  },
  "language_info": {
   "codemirror_mode": {
    "name": "ipython",
    "version": 3
   },
   "file_extension": ".py",
   "mimetype": "text/x-python",
   "name": "python",
   "nbconvert_exporter": "python",
   "pygments_lexer": "ipython3",
   "version": "3.11.3"
  },
  "orig_nbformat": 4
 },
 "nbformat": 4,
 "nbformat_minor": 2
}
