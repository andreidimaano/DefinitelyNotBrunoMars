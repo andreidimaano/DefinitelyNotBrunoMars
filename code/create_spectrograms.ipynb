{
 "cells": [
  {
   "cell_type": "code",
   "execution_count": 129,
   "metadata": {},
   "outputs": [],
   "source": [
    "import matplotlib.pyplot as plt\n",
    "import os\n",
    "import librosa\n",
    "import numpy as np\n",
    "from pydub import AudioSegment\n",
    "import h5py"
   ]
  },
  {
   "cell_type": "code",
   "execution_count": 165,
   "metadata": {},
   "outputs": [],
   "source": [
    "def plot_mfcc_spectrogram(log_mel_spectrogram, sr):\n",
    "    plt.figure(figsize=(10, 5))\n",
    "    librosa.display.specshow(log_mel_spectrogram, sr=sr, hop_length=256, x_axis='time', y_axis='mel')\n",
    "    print(log_mel_spectrogram.shape)\n",
    "    plt.colorbar(format='%+2.0f dB')\n",
    "    plt.title('Log Mel Spectrogram')\n",
    "    plt.show()\n",
    "\n",
    "def audio_to_spectrogram(dest_dir):\n",
    "    h5_arr = []\n",
    "    with h5py.File(dest_dir, 'w') as hf:\n",
    "        # Iterate over the FLAC files in the source directory\n",
    "        for root, _, files in os.walk(\"../iu\", topdown=False):\n",
    "            for file_name in files:\n",
    "                if file_name.endswith('.flac') or file_name.endswith('.mp3'):\n",
    "                    # Load the FLAC file\n",
    "                    input_file = os.path.join(root, file_name)\n",
    "                    audio, sr = librosa.load(input_file, sr=22050)\n",
    "                    sec = sr * 3\n",
    "\n",
    "                    # Generate the spectrogram batches\n",
    "                    for i in range(audio.shape[0]//(sr * 3)):\n",
    "                        batch = audio[i*sec:(i+1)*sec]\n",
    "                        mel_spectrogram = librosa.feature.melspectrogram(y=batch, sr=sr, n_fft=4096, hop_length=512, n_mels=80)\n",
    "                        log_mel_spectrogram = librosa.power_to_db(mel_spectrogram, ref=np.max)\n",
    "                        h5_arr.append(log_mel_spectrogram)\n",
    "                        ## hyper parameter:4096 / 512\n",
    "                        ## larger nfft better for frequency resolution\n",
    "                        ## higher hop length for time resolution\n",
    "        \n",
    "        h5_arr = np.array(h5_arr)\n",
    "        hf.create_dataset(\"audio\", data=log_mel_spectrogram)"
   ]
  },
  {
   "cell_type": "code",
   "execution_count": 166,
   "metadata": {},
   "outputs": [
    {
     "name": "stderr",
     "output_type": "stream",
     "text": [
      "[src/libmpg123/id3.c:process_comment():584] error: No comment text / valid description?\n",
      "[src/libmpg123/id3.c:process_comment():584] error: No comment text / valid description?\n",
      "[src/libmpg123/id3.c:process_comment():584] error: No comment text / valid description?\n",
      "[src/libmpg123/id3.c:process_comment():584] error: No comment text / valid description?\n",
      "[src/libmpg123/id3.c:process_comment():584] error: No comment text / valid description?\n",
      "[src/libmpg123/id3.c:process_comment():584] error: No comment text / valid description?\n",
      "[src/libmpg123/id3.c:process_comment():584] error: No comment text / valid description?\n",
      "[src/libmpg123/id3.c:process_comment():584] error: No comment text / valid description?\n",
      "[src/libmpg123/id3.c:process_comment():584] error: No comment text / valid description?\n",
      "[src/libmpg123/id3.c:process_comment():584] error: No comment text / valid description?\n",
      "[src/libmpg123/id3.c:process_comment():584] error: No comment text / valid description?\n",
      "[src/libmpg123/id3.c:process_extra():681] error: No extra frame text / valid description?\n",
      "[src/libmpg123/id3.c:process_comment():584] error: No comment text / valid description?\n",
      "[src/libmpg123/id3.c:process_comment():584] error: No comment text / valid description?\n",
      "[src/libmpg123/id3.c:process_comment():584] error: No comment text / valid description?\n",
      "[src/libmpg123/layer1.c:check_balloc():30] error: Illegal bit allocation value.\n",
      "[src/libmpg123/layer1.c:INT123_do_layer1():228] error: Aborting layer I decoding after step one.\n",
      "[src/libmpg123/layer1.c:check_balloc():30] error: Illegal bit allocation value.\n",
      "[src/libmpg123/layer1.c:INT123_do_layer1():228] error: Aborting layer I decoding after step one.\n",
      "Note: Illegal Audio-MPEG-Header 0xd7a7dee1 at offset 24884.\n",
      "Note: Trying to resync...\n",
      "Note: Skipped 108 bytes in input.\n",
      "[src/libmpg123/id3.c:process_comment():584] error: No comment text / valid description?\n",
      "[src/libmpg123/id3.c:process_comment():584] error: No comment text / valid description?\n",
      "[src/libmpg123/id3.c:process_comment():584] error: No comment text / valid description?\n",
      "[src/libmpg123/id3.c:process_comment():584] error: No comment text / valid description?\n",
      "[src/libmpg123/id3.c:process_comment():584] error: No comment text / valid description?\n",
      "[src/libmpg123/id3.c:process_comment():584] error: No comment text / valid description?\n",
      "[src/libmpg123/id3.c:process_comment():584] error: No comment text / valid description?\n",
      "/var/folders/kn/yybbj7h53tbblhcw3b911vxr0000gn/T/ipykernel_2981/2211148242.py:18: UserWarning: PySoundFile failed. Trying audioread instead.\n",
      "  audio, sr = librosa.load(input_file, sr=22050)\n",
      "[src/libmpg123/parse.c:skip_junk():1276] error: Giving up searching valid MPEG header after 65536 bytes of junk.\n",
      "/opt/homebrew/anaconda3/envs/CS228/lib/python3.11/site-packages/librosa/core/audio.py:184: FutureWarning: librosa.core.audio.__audioread_load\n",
      "\tDeprecated as of librosa version 0.10.0.\n",
      "\tIt will be removed in librosa version 1.0.\n",
      "  y, sr_native = __audioread_load(path, offset, duration, dtype)\n",
      "/var/folders/kn/yybbj7h53tbblhcw3b911vxr0000gn/T/ipykernel_2981/2211148242.py:18: UserWarning: PySoundFile failed. Trying audioread instead.\n",
      "  audio, sr = librosa.load(input_file, sr=22050)\n",
      "[src/libmpg123/parse.c:skip_junk():1276] error: Giving up searching valid MPEG header after 65536 bytes of junk.\n",
      "/opt/homebrew/anaconda3/envs/CS228/lib/python3.11/site-packages/librosa/core/audio.py:184: FutureWarning: librosa.core.audio.__audioread_load\n",
      "\tDeprecated as of librosa version 0.10.0.\n",
      "\tIt will be removed in librosa version 1.0.\n",
      "  y, sr_native = __audioread_load(path, offset, duration, dtype)\n"
     ]
    }
   ],
   "source": [
    "audio_to_spectrogram('iu_spec.h5')"
   ]
  },
  {
   "cell_type": "code",
   "execution_count": 168,
   "metadata": {},
   "outputs": [
    {
     "name": "stdout",
     "output_type": "stream",
     "text": [
      "<HDF5 dataset \"audio\": shape (80, 130), type \"<f4\">\n"
     ]
    }
   ],
   "source": [
    "h5 = h5py.File(\"iu_spec.h5\", 'r')\n",
    "print(h5.get(\"audio\"))"
   ]
  }
 ],
 "metadata": {
  "kernelspec": {
   "display_name": "CS228",
   "language": "python",
   "name": "python3"
  },
  "language_info": {
   "codemirror_mode": {
    "name": "ipython",
    "version": 3
   },
   "file_extension": ".py",
   "mimetype": "text/x-python",
   "name": "python",
   "nbconvert_exporter": "python",
   "pygments_lexer": "ipython3",
   "version": "3.11.2"
  },
  "orig_nbformat": 4
 },
 "nbformat": 4,
 "nbformat_minor": 2
}
