{
 "cells": [
  {
   "cell_type": "code",
   "execution_count": 1,
   "metadata": {},
   "outputs": [],
   "source": [
    "from mask_test import MaskCycleGANVCTesting"
   ]
  },
  {
   "cell_type": "code",
   "execution_count": 2,
   "metadata": {},
   "outputs": [
    {
     "name": "stderr",
     "output_type": "stream",
     "text": [
      " 20%|██        | 2/10 [00:56<03:45, 28.15s/it]\n"
     ]
    },
    {
     "ename": "KeyboardInterrupt",
     "evalue": "",
     "output_type": "error",
     "traceback": [
      "\u001b[1;31m---------------------------------------------------------------------------\u001b[0m",
      "\u001b[1;31mKeyboardInterrupt\u001b[0m                         Traceback (most recent call last)",
      "Cell \u001b[1;32mIn[2], line 2\u001b[0m\n\u001b[0;32m      1\u001b[0m test \u001b[39m=\u001b[39m MaskCycleGANVCTesting()\n\u001b[1;32m----> 2\u001b[0m test\u001b[39m.\u001b[39;49mtest()\n",
      "File \u001b[1;32md:\\code\\DefinitelyNotBrunoMars\\code\\mask_test.py:63\u001b[0m, in \u001b[0;36mMaskCycleGANVCTesting.test\u001b[1;34m(self)\u001b[0m\n\u001b[0;32m     58\u001b[0m fake_B \u001b[39m=\u001b[39m \u001b[39mself\u001b[39m\u001b[39m.\u001b[39mgenerator(real_A, torch\u001b[39m.\u001b[39mones_like(real_A))\n\u001b[0;32m     60\u001b[0m spectrogram_to_wav(fake_B[\u001b[39m0\u001b[39m]\u001b[39m.\u001b[39mdetach(\n\u001b[0;32m     61\u001b[0m )\u001b[39m.\u001b[39mcpu()\u001b[39m.\u001b[39mnumpy(), \u001b[39mself\u001b[39m\u001b[39m.\u001b[39mdataset_B_mean, \u001b[39mself\u001b[39m\u001b[39m.\u001b[39mdataset_B_std, \u001b[39mf\u001b[39m\u001b[39m'\u001b[39m\u001b[39moutputs/learned_weights/fakeB_\u001b[39m\u001b[39m{\u001b[39;00mi\u001b[39m}\u001b[39;00m\u001b[39m.wav\u001b[39m\u001b[39m'\u001b[39m, sr\u001b[39m=\u001b[39m\u001b[39m22050\u001b[39m)\n\u001b[1;32m---> 63\u001b[0m spectrogram_to_wav(real_A[\u001b[39m0\u001b[39;49m]\u001b[39m.\u001b[39;49mdetach(\n\u001b[0;32m     64\u001b[0m )\u001b[39m.\u001b[39;49mcpu()\u001b[39m.\u001b[39;49mnumpy(), \u001b[39mself\u001b[39;49m\u001b[39m.\u001b[39;49mdataset_A_mean, \u001b[39mself\u001b[39;49m\u001b[39m.\u001b[39;49mdataset_A_std, \u001b[39mf\u001b[39;49m\u001b[39m'\u001b[39;49m\u001b[39moutputs/learned_weights/realA_\u001b[39;49m\u001b[39m{\u001b[39;49;00mi\u001b[39m}\u001b[39;49;00m\u001b[39m.wav\u001b[39;49m\u001b[39m'\u001b[39;49m, sr\u001b[39m=\u001b[39;49m\u001b[39m22050\u001b[39;49m)\n",
      "File \u001b[1;32md:\\code\\DefinitelyNotBrunoMars\\code\\utils.py:17\u001b[0m, in \u001b[0;36mspectrogram_to_wav\u001b[1;34m(spectrogram, mel_mean, mel_std, output_path, sr)\u001b[0m\n\u001b[0;32m      6\u001b[0m \u001b[39m\u001b[39m\u001b[39m\"\"\"\u001b[39;00m\n\u001b[0;32m      7\u001b[0m \u001b[39mArgs:\u001b[39;00m\n\u001b[0;32m      8\u001b[0m \u001b[39m    spectrogram (torch.Tensor): spectrogram to be converted\u001b[39;00m\n\u001b[1;32m   (...)\u001b[0m\n\u001b[0;32m     14\u001b[0m \u001b[39m    torch.Tensor: wav that represents the decoded spectrogram\u001b[39;00m\n\u001b[0;32m     15\u001b[0m \u001b[39m\"\"\"\u001b[39;00m\n\u001b[0;32m     16\u001b[0m spect_converted \u001b[39m=\u001b[39m spectrogram \u001b[39m*\u001b[39m mel_std \u001b[39m+\u001b[39m mel_mean\n\u001b[1;32m---> 17\u001b[0m reconstructed_audio \u001b[39m=\u001b[39m librosa\u001b[39m.\u001b[39;49mfeature\u001b[39m.\u001b[39;49minverse\u001b[39m.\u001b[39;49mmel_to_audio(librosa\u001b[39m.\u001b[39;49mdb_to_power(spect_converted))\n\u001b[0;32m     20\u001b[0m \u001b[39m# Save the reconstructed waveform as a .wav file\u001b[39;00m\n\u001b[0;32m     21\u001b[0m \u001b[39mif\u001b[39;00m \u001b[39mnot\u001b[39;00m output_path\u001b[39m.\u001b[39mendswith(\u001b[39m\"\u001b[39m\u001b[39m.wav\u001b[39m\u001b[39m\"\u001b[39m):\n",
      "File \u001b[1;32m~\\AppData\\Local\\Packages\\PythonSoftwareFoundation.Python.3.11_qbz5n2kfra8p0\\LocalCache\\local-packages\\Python311\\site-packages\\librosa\\feature\\inverse.py:198\u001b[0m, in \u001b[0;36mmel_to_audio\u001b[1;34m(M, sr, n_fft, hop_length, win_length, window, center, pad_mode, power, n_iter, length, dtype, **kwargs)\u001b[0m\n\u001b[0;32m    129\u001b[0m \u001b[39m\u001b[39m\u001b[39m\"\"\"Invert a mel power spectrogram to audio using Griffin-Lim.\u001b[39;00m\n\u001b[0;32m    130\u001b[0m \n\u001b[0;32m    131\u001b[0m \u001b[39mThis is primarily a convenience wrapper for:\u001b[39;00m\n\u001b[1;32m   (...)\u001b[0m\n\u001b[0;32m    193\u001b[0m \u001b[39mlibrosa.feature.inverse.mel_to_stft\u001b[39;00m\n\u001b[0;32m    194\u001b[0m \u001b[39m\"\"\"\u001b[39;00m\n\u001b[0;32m    196\u001b[0m stft \u001b[39m=\u001b[39m mel_to_stft(M, sr\u001b[39m=\u001b[39msr, n_fft\u001b[39m=\u001b[39mn_fft, power\u001b[39m=\u001b[39mpower, \u001b[39m*\u001b[39m\u001b[39m*\u001b[39mkwargs)\n\u001b[1;32m--> 198\u001b[0m \u001b[39mreturn\u001b[39;00m griffinlim(\n\u001b[0;32m    199\u001b[0m     stft,\n\u001b[0;32m    200\u001b[0m     n_iter\u001b[39m=\u001b[39;49mn_iter,\n\u001b[0;32m    201\u001b[0m     hop_length\u001b[39m=\u001b[39;49mhop_length,\n\u001b[0;32m    202\u001b[0m     win_length\u001b[39m=\u001b[39;49mwin_length,\n\u001b[0;32m    203\u001b[0m     n_fft\u001b[39m=\u001b[39;49mn_fft,\n\u001b[0;32m    204\u001b[0m     window\u001b[39m=\u001b[39;49mwindow,\n\u001b[0;32m    205\u001b[0m     center\u001b[39m=\u001b[39;49mcenter,\n\u001b[0;32m    206\u001b[0m     dtype\u001b[39m=\u001b[39;49mdtype,\n\u001b[0;32m    207\u001b[0m     length\u001b[39m=\u001b[39;49mlength,\n\u001b[0;32m    208\u001b[0m     pad_mode\u001b[39m=\u001b[39;49mpad_mode,\n\u001b[0;32m    209\u001b[0m )\n",
      "File \u001b[1;32m~\\AppData\\Local\\Packages\\PythonSoftwareFoundation.Python.3.11_qbz5n2kfra8p0\\LocalCache\\local-packages\\Python311\\site-packages\\librosa\\core\\spectrum.py:2736\u001b[0m, in \u001b[0;36mgriffinlim\u001b[1;34m(S, n_iter, hop_length, win_length, n_fft, window, center, dtype, length, pad_mode, momentum, init, random_state)\u001b[0m\n\u001b[0;32m   2734\u001b[0m \u001b[39mif\u001b[39;00m tprev \u001b[39mis\u001b[39;00m \u001b[39mnot\u001b[39;00m \u001b[39mNone\u001b[39;00m:\n\u001b[0;32m   2735\u001b[0m     angles \u001b[39m-\u001b[39m\u001b[39m=\u001b[39m (momentum \u001b[39m/\u001b[39m (\u001b[39m1\u001b[39m \u001b[39m+\u001b[39m momentum)) \u001b[39m*\u001b[39m tprev\n\u001b[1;32m-> 2736\u001b[0m angles \u001b[39m/\u001b[39m\u001b[39m=\u001b[39m np\u001b[39m.\u001b[39;49mabs(angles) \u001b[39m+\u001b[39m eps\n\u001b[0;32m   2737\u001b[0m angles \u001b[39m*\u001b[39m\u001b[39m=\u001b[39m S\n\u001b[0;32m   2738\u001b[0m \u001b[39m# Store\u001b[39;00m\n",
      "\u001b[1;31mKeyboardInterrupt\u001b[0m: "
     ]
    }
   ],
   "source": [
    "test = MaskCycleGANVCTesting()\n",
    "test.test()"
   ]
  },
  {
   "cell_type": "code",
   "execution_count": null,
   "metadata": {},
   "outputs": [],
   "source": []
  }
 ],
 "metadata": {
  "kernelspec": {
   "display_name": "Python 3",
   "language": "python",
   "name": "python3"
  },
  "language_info": {
   "codemirror_mode": {
    "name": "ipython",
    "version": 3
   },
   "file_extension": ".py",
   "mimetype": "text/x-python",
   "name": "python",
   "nbconvert_exporter": "python",
   "pygments_lexer": "ipython3",
   "version": "3.11.3"
  },
  "orig_nbformat": 4
 },
 "nbformat": 4,
 "nbformat_minor": 2
}
