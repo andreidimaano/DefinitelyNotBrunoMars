{
 "cells": [
  {
   "cell_type": "code",
   "execution_count": 1,
   "metadata": {},
   "outputs": [],
   "source": [
    "from train import MaskCycleGANVCTraining\n",
    "from mask_test import MaskCycleGANVCTesting"
   ]
  },
  {
   "attachments": {},
   "cell_type": "markdown",
   "metadata": {},
   "source": [
    "### Train IU to sound like Bruno Mars\n",
    "Source: IU\n",
    "Target: Bruno Mars"
   ]
  },
  {
   "cell_type": "code",
   "execution_count": null,
   "metadata": {},
   "outputs": [],
   "source": [
    "#  a_prefix, b_prefix, train_id, load_id = None, load_model=False)\n",
    "\n",
    "cycleGAN = MaskCycleGANVCTraining(\"bruno_mars\", \"iu\", 0, load_model=False)\n",
    "loss = cycleGAN.train()\n",
    "print(cycleGAN.get_training_time())"
   ]
  },
  {
   "cell_type": "code",
   "execution_count": null,
   "metadata": {},
   "outputs": [],
   "source": [
    "#  def __init__(self, a_prefix, b_prefix, load_id):\n",
    "test = MaskCycleGANVCTesting(\"bruno_mars\", \"iu\", 0)\n",
    "test.test()"
   ]
  },
  {
   "attachments": {},
   "cell_type": "markdown",
   "metadata": {},
   "source": [
    "### Train Bruno Mars to sound like IU\n",
    "Source: Bruno Mars Target: IU"
   ]
  },
  {
   "cell_type": "code",
   "execution_count": null,
   "metadata": {},
   "outputs": [],
   "source": [
    "#  a_prefix, b_prefix, train_id, load_id = None, load_model=False)\n",
    "\n",
    "cycleGAN = MaskCycleGANVCTraining(\"iu\", \"bruno_mars\", 1, load_model=False)\n",
    "loss = cycleGAN.train()\n",
    "print(cycleGAN.get_training_time())"
   ]
  },
  {
   "cell_type": "code",
   "execution_count": null,
   "metadata": {},
   "outputs": [],
   "source": [
    "#  def __init__(self, a_prefix, b_prefix, load_id):\n",
    "test = MaskCycleGANVCTesting(\"iu\", \"bruno_mars\", 1)\n",
    "test.test()"
   ]
  }
 ],
 "metadata": {
  "kernelspec": {
   "display_name": "CS228",
   "language": "python",
   "name": "python3"
  },
  "language_info": {
   "codemirror_mode": {
    "name": "ipython",
    "version": 3
   },
   "file_extension": ".py",
   "mimetype": "text/x-python",
   "name": "python",
   "nbconvert_exporter": "python",
   "pygments_lexer": "ipython3",
   "version": "3.11.3"
  },
  "orig_nbformat": 4
 },
 "nbformat": 4,
 "nbformat_minor": 2
}
