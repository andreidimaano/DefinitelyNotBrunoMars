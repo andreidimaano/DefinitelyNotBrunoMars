{
 "cells": [
  {
   "cell_type": "code",
   "execution_count": 1,
   "metadata": {},
   "outputs": [],
   "source": [
    "from utils import wav_to_mp3\n",
    "import torch as t\n",
    "import numpy as np\n",
    "from mask_test3 import MaskCycleGANVCTesting as m1"
   ]
  },
  {
   "cell_type": "code",
   "execution_count": 2,
   "metadata": {},
   "outputs": [
    {
     "name": "stdout",
     "output_type": "stream",
     "text": [
      "Directory 'outputs/generated_audio/22' created successfully.\n"
     ]
    },
    {
     "name": "stderr",
     "output_type": "stream",
     "text": [
      "100%|██████████| 5/5 [01:56<00:00, 23.33s/it]\n"
     ]
    }
   ],
   "source": [
    "load_id = 21\n",
    "speakerA = \"bruno_mars\"\n",
    "speakerB = \"iu\"\n",
    "test = m1(speakerA, speakerB, load_id)\n",
    "test.test()\n",
    "wav_to_mp3(\"outputs/generated_audio/22/fakeB_4.wav\", \"../audiovisualizer/src/assets/iu.mp3\")"
   ]
  },
  {
   "cell_type": "code",
   "execution_count": null,
   "metadata": {},
   "outputs": [],
   "source": []
  }
 ],
 "metadata": {
  "kernelspec": {
   "display_name": "Python 3",
   "language": "python",
   "name": "python3"
  },
  "language_info": {
   "codemirror_mode": {
    "name": "ipython",
    "version": 3
   },
   "file_extension": ".py",
   "mimetype": "text/x-python",
   "name": "python",
   "nbconvert_exporter": "python",
   "pygments_lexer": "ipython3",
   "version": "3.11.3"
  },
  "orig_nbformat": 4
 },
 "nbformat": 4,
 "nbformat_minor": 2
}
