{
 "cells": [
  {
   "cell_type": "code",
   "execution_count": 1,
   "metadata": {},
   "outputs": [],
   "source": [
    "import torch as t\n",
    "import torch.nn as nn\n",
    "import matplotlib.pyplot as plt\n",
    "from torch.utils.data import Dataset"
   ]
  },
  {
   "cell_type": "code",
   "execution_count": null,
   "metadata": {},
   "outputs": [],
   "source": [
    "class PixelShuffle(nn.module):\n",
    "    def __init__(self, upscale_factor):\n",
    "        super(PixelShuffle, self).__init__()\n",
    "        self.upscale_factor = upscale_factor\n",
    "    \n",
    "    def forward(self, x):\n",
    "        return x.view(x.shape[0], x.shape[1]//2, x.shape[2]*2)"
   ]
  },
  {
   "cell_type": "code",
   "execution_count": null,
   "metadata": {},
   "outputs": [],
   "source": [
    "class GLU(nn.module):\n",
    "    def __init__(self):\n",
    "        super(GLU, self).__init__()\n",
    "    \n",
    "    def forward(self, x):\n",
    "        return x * t.sigmoid(x)"
   ]
  },
  {
   "cell_type": "code",
   "execution_count": 2,
   "metadata": {},
   "outputs": [],
   "source": [
    "class UpSample(nn.Module):\n",
    "    def __init__(self, input_channels, output_channels) -> None:\n",
    "        super(UpSample,self).__init__()\n",
    "        self.conv = nn.Conv2d(in_channels=input_channels, out_channels=output_channels, kernel_size=5, stride=1, padding=2, padding_mode='reflect')\n",
    "        self.upscale = nn.PixelShuffle(upscale_factor=2)\n",
    "        self.nonlinearity = GLU()\n",
    "        self.normFunc = nn.InstanceNorm2d(num_features=output_channels//4, affine=True)\n",
    "\n",
    "    def forward(self, x):\n",
    "        conv = self.conv(x)\n",
    "        upscale = self.upscale(conv)\n",
    "        normalize = self.normFunc(upscale)\n",
    "        finalOutput = self.nonlinearity(normalize)\n",
    "        return finalOutput"
   ]
  },
  {
   "cell_type": "code",
   "execution_count": 3,
   "metadata": {},
   "outputs": [],
   "source": [
    "class DownSample(nn.Module):\n",
    "    def __init__(self, input_channels, output_channels) -> None:\n",
    "        super(DownSample,self).__init__()\n",
    "        self.conv = nn.Conv1d(in_channels=input_channels, out_channels=output_channels, kernel_size=5, stride=2, padding=2, padding_mode='reflect')\n",
    "        self.nonlinearity = GLU()\n",
    "        self.normFunc = nn.InstanceNorm1d(num_features=output_channels, affine=True)\n",
    "    def forward(self, x):\n",
    "        conv = self.conv(x)\n",
    "        normalize = self.normFunc(conv)\n",
    "        finalOutput = self.nonlinearity(normalize)\n",
    "        return finalOutput"
   ]
  },
  {
   "cell_type": "code",
   "execution_count": null,
   "metadata": {},
   "outputs": [],
   "source": [
    "class DownSample2d(nn.module):\n",
    "    def __init__(self, input_channels, output_channels) -> None:\n",
    "        super(DownSample2d,self).__init__()\n",
    "        self.conv1 = nn.Conv2d(in_channels=input_channels, out_channels=output_channels, kernel_size=5, stride=2, padding=2, padding_mode='reflect')\n",
    "        #self.conv1NonLinear = nn.Conv2d(in_channels=input_channels, out_channels=output_channels, kernel_size=5, stride=2, padding=2, padding_mode='reflect')\n",
    "        self.normFunc = nn.InstanceNorm1d(num_features=output_channels, affine=True)\n",
    "        self.nonlinearity = GLU()\n",
    "\n",
    "    def forward(self, x):\n",
    "        conv = self.conv1(x)\n",
    "        normalize = self.normFunc(conv)\n",
    "        finalOutput = self.nonlinearity(normalize)\n",
    "        return finalOutput"
   ]
  },
  {
   "cell_type": "code",
   "execution_count": 4,
   "metadata": {},
   "outputs": [],
   "source": [
    "class ResBlock(nn.Module):\n",
    "    def __init__(self, input_channels, output_channels) -> None: #input image should be a 64x94 I THINK IM NOT SURE\n",
    "        super(ResBlock, self).__init__() #kernel should be 3, stride is 1, padding is 1\n",
    "        self.nonlinearity = nn.GLU()\n",
    "        #self.scalarGLU = nn.Conv1d(in_channels=input_channels, output_channels=output_channels, kernel_size=3, stride=1, padding=1, padding_mode='reflect')\n",
    "        self.conv1 = nn.Conv1d(in_channels=input_channels, output_channels=output_channels, kernel_size=3, stride=1, padding=1, padding_mode='reflect')\n",
    "        self.conv2 = nn.Conv1d(in_channels=output_channels, output_channels=input_channels, kernel_size=3, stride=1, padding=1, padding_mode='reflect')\n",
    "        self.normFuncScalar = nn.InstanceNorm1d(num_features=output_channels, affine=True)\n",
    "        self.normFunc = nn.InstanceNorm1d(num_features=input_channels, affine=True)\n",
    "    \n",
    "    def forward(self, x):\n",
    "        firstH = self.conv1(x)\n",
    "        normFirstH = self.normFuncScalar(firstH)\n",
    "        #gatesFirstH = self.conv1(x)\n",
    "        #normGatesH = self.normFuncScalar(gatesFirstH)\n",
    "\n",
    "        firstGLU = self.nonlinearity(firstH)\n",
    "        finalOutput = self.conv2(firstGLU)\n",
    "        return finalOutput + x \n",
    "\n",
    "         "
   ]
  },
  {
   "cell_type": "code",
   "execution_count": null,
   "metadata": {},
   "outputs": [],
   "source": [
    "class Generator(nn.Module):\n",
    "    def __init__(self, features=(80, 64), res_in_channels=256) -> None:\n",
    "        super(Generator, self).__init__()\n",
    "        time_bins, channels = features\n",
    "        self.singledimchannels = time_bins//4 * res_in_channels\n",
    "        self.conv1 = nn.Conv2d(in_channels=2, out_channels=res_in_channels//2, kernel_size=(5,15), stride=1, padding=(2,7))\n",
    "        #self.conv1GLU = nn.Conv2d(in_channels=2, out_channels=res_in_channels//2, kernel_size=(5,15), stride=1, padding=(2,7))\n",
    "        self.downsample1 = DownSample2d(input_channels=res_in_channels//2, output_channels=res_in_channels)\n",
    "        self.downsample2 = DownSample2d(input_channels=res_in_channels, output_channels=res_in_channels)\n",
    "        self.conv2to1 = nn.Conv1d(in_channels=self.singledimchannels, out_channels=res_in_channels, kernel_size=1, stride=1)\n",
    "        self.singletfan = nn.InstanceNorm1d(num_features=res_in_channels, affine=True)\n",
    "        for i in range(6):\n",
    "            self.add_module(f\"resblock{i+1}\", ResBlock(input_channels=res_in_channels, output_channels=res_in_channels*2))\n",
    "        self.conv1to2 = nn.Conv2d(in_channels=self.singledimchannels, out_channels=res_in_channels, kernel_size=1, stride=1)\n",
    "        self.doubletfan = nn.InstanceNorm1d(num_features=self.singledimchannels, affine=True)\n",
    "        self.upsample1 = UpSample(input_channels=res_in_channels, output_channels=res_in_channels*4)\n",
    "        self.upsample2 = UpSample(input_channels=res_in_channels, output_channels=res_in_channels*2)\n",
    "        self.final = nn.Conv2d(in_channels=res_in_channels//2, out_channels=1, kernel_size=(5,15), stride=1, padding=(2,7), padding_mode='reflect')\n",
    "        self.nonlinearity = GLU()\n",
    "\n",
    "    def forward(self, x, mask):\n",
    "        x = t.stack((x*mask, mask), dim=1)\n",
    "        firstConv = self.nonlinearity(self.conv1(x))\n",
    "        down1 = self.downsample1(firstConv)\n",
    "        down2 = self.downsample2(down1)\n",
    "\n",
    "        down2reshape = down2.view(down2.size(0), self.flattened_channels, 1, -1)\n",
    "        down2reshape = down2reshape.squeeze(2)\n",
    "\n",
    "        flattenLayer = self.conv2to1(flattenLayer)\n",
    "        flattenLayer = self.singletfan(flattenLayer)\n",
    "        resBlockTime = flattenLayer\n",
    "        for i in range(6):\n",
    "            resBlockTime = self.__getattr__(f\"resblock{i+1}\")(resBlockTime)\n",
    "        \n",
    "        convUpTime = self.conv1to2(resBlockTime)\n",
    "        convUpTime = self.doubletfan(convUpTime)\n",
    "\n",
    "        finalOutput = self.final(convUpTime)\n",
    "        finalOutput = finalOutput.squeeze(1)\n",
    "        return finalOutput\n",
    "\n"
   ]
  },
  {
   "cell_type": "code",
   "execution_count": null,
   "metadata": {},
   "outputs": [],
   "source": [
    "class Discriminator(nn.Module):\n",
    "    def __init__(self, width, height) -> None:\n",
    "        super(Discriminator, self).__init__()\n",
    "        self.nonlinearity = nn.GLU(dim=1)\n",
    "        self.conv1 = nn.Sequential(nn.ReflectionPad2d(1), nn.Conv2d(in_channels=1, out_channels=128, kernel_size=3))\n",
    "        self.downsample1 = DownSample(input_channels=64, output_channels=256)\n",
    "        self.downsample2 = DownSample(input_channels=128, output_channels=512)\n",
    "        self.downsample3 = DownSample(input_channels=256, output_channels=1024)\n",
    "        self.conv2 = nn.Sequential(nn.ReflectionPad2d((0,0,2,2)), nn.Conv2d(in_channels=512, out_channels=1024, kernel_size=(1,5)))\n",
    "        self.conv3 = nn.Sequential(nn.ReflectionPad2d((0,0,1,1)), nn.Conv2d(in_channels=512, out_channels=1, kernel_size=(1,3)))\n",
    "        self.fc = nn.Linear(((width+7)//8) * ((height+7)//8), 1)\n",
    "\n",
    "    def forward(self, x):\n",
    "        firstConv = self.conv1(x)\n",
    "        firstNonlinearity = self.nonlinearity(firstConv)\n",
    "        downs1 = self.downsample1(firstNonlinearity)\n",
    "        downs2 = self.downsample2(downs1)\n",
    "        downs3 = self.downsample3(downs2)\n",
    "\n",
    "        secondConv = self.conv2(downs3)\n",
    "        normFunc = nn.InstanceNorm2d(secondConv.shape[1])\n",
    "        firstNorm = normFunc(secondConv)\n",
    "        secondNonlinearity = self.nonlinearity(firstNorm)\n",
    "\n",
    "        thirdConv = self.conv3(secondNonlinearity)\n",
    "        thirdConv = thirdConv.view(thirdConv.shape[0], -1)\n",
    "        finalOutput = self.fc(thirdConv)\n",
    "        return nn.Sigmoid()(finalOutput)\n"
   ]
  }
 ],
 "metadata": {
  "kernelspec": {
   "display_name": "Python 3",
   "language": "python",
   "name": "python3"
  },
  "language_info": {
   "codemirror_mode": {
    "name": "ipython",
    "version": 3
   },
   "file_extension": ".py",
   "mimetype": "text/x-python",
   "name": "python",
   "nbconvert_exporter": "python",
   "pygments_lexer": "ipython3",
   "version": "3.7.16"
  },
  "orig_nbformat": 4
 },
 "nbformat": 4,
 "nbformat_minor": 2
}
