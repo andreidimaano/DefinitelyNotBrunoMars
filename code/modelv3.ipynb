{
 "cells": [
  {
   "cell_type": "code",
   "execution_count": 1,
   "metadata": {},
   "outputs": [],
   "source": [
    "import torch as t\n",
    "import torch.nn as nn\n",
    "import matplotlib.pyplot as plt\n",
    "from torch.utils.data import Dataset\n",
    "import numpy as np"
   ]
  },
  {
   "cell_type": "code",
   "execution_count": 2,
   "metadata": {},
   "outputs": [],
   "source": [
    "class GLU(nn.Module):\n",
    "    def __init__(self):\n",
    "        super(GLU, self).__init__()\n",
    "    \n",
    "    def forward(self, x):\n",
    "        return x * t.sigmoid(x)"
   ]
  },
  {
   "cell_type": "code",
   "execution_count": 3,
   "metadata": {},
   "outputs": [],
   "source": [
    "class UpSample(nn.Module):\n",
    "    def __init__(self, input_channels, output_channels) -> None:\n",
    "        super(UpSample,self).__init__()\n",
    "        self.conv = nn.Conv2d(in_channels=input_channels, out_channels=output_channels, kernel_size=5, stride=1, padding=2, padding_mode='reflect')\n",
    "        self.upscale = nn.PixelShuffle(upscale_factor=2)\n",
    "        self.nonlinearity = GLU()\n",
    "        self.normFunc = nn.InstanceNorm2d(num_features=output_channels//4, affine=True)\n",
    "\n",
    "    def forward(self, x):\n",
    "        conv = self.conv(x)\n",
    "        upscale = self.upscale(conv)\n",
    "        normalize = self.normFunc(upscale)\n",
    "        finalOutput = self.nonlinearity(normalize)\n",
    "        return finalOutput"
   ]
  },
  {
   "cell_type": "code",
   "execution_count": 4,
   "metadata": {},
   "outputs": [],
   "source": [
    "class DownSampleD(nn.Module):\n",
    "    def __init__(self, input_channels, output_channels) -> None:\n",
    "        super(DownSampleD,self).__init__()\n",
    "        self.conv = nn.Conv2d(in_channels=input_channels, out_channels=output_channels, kernel_size=3, stride=2, padding=1, padding_mode='reflect')\n",
    "        self.nonlinearity = GLU()\n",
    "        self.normFunc = nn.InstanceNorm2d(num_features=output_channels, affine=True)\n",
    "    def forward(self, x):\n",
    "        conv = self.conv(x)\n",
    "        normalize = self.normFunc(conv)\n",
    "        finalOutput = self.nonlinearity(normalize)\n",
    "        return finalOutput"
   ]
  },
  {
   "cell_type": "code",
   "execution_count": 5,
   "metadata": {},
   "outputs": [],
   "source": [
    "class DownSampleG(nn.Module):\n",
    "    def __init__(self, input_channels, output_channels) -> None:\n",
    "        super(DownSampleG,self).__init__()\n",
    "        self.conv1 = nn.Conv2d(in_channels=input_channels, out_channels=output_channels, kernel_size=5, stride=2, padding=2, padding_mode='reflect')\n",
    "        #self.conv1NonLinear = nn.Conv2d(in_channels=input_channels, out_channels=output_channels, kernel_size=5, stride=2, padding=2, padding_mode='reflect')\n",
    "        self.normFunc = nn.InstanceNorm2d(num_features=output_channels, affine=True)\n",
    "        self.nonlinearity = GLU()\n",
    "\n",
    "    def forward(self, x):\n",
    "        conv = self.conv1(x)\n",
    "        normalize = self.normFunc(conv)\n",
    "        finalOutput = self.nonlinearity(normalize)\n",
    "        return finalOutput"
   ]
  },
  {
   "cell_type": "code",
   "execution_count": 6,
   "metadata": {},
   "outputs": [],
   "source": [
    "class ResBlock(nn.Module):\n",
    "    def __init__(self, input_channels, output_channels) -> None: #input image should be a 64x94 I THINK IM NOT SURE\n",
    "        super(ResBlock, self).__init__() #kernel should be 3, stride is 1, padding is 1\n",
    "        self.nonlinearity = GLU()\n",
    "        #self.scalarGLU = nn.Conv1d(in_channels=input_channels, output_channels=output_channels, kernel_size=3, stride=1, padding=1, padding_mode='reflect')\n",
    "        self.conv1 = nn.Conv1d(in_channels=input_channels, out_channels=output_channels, kernel_size=3, stride=1, padding=1, padding_mode='reflect')\n",
    "        self.conv2 = nn.Conv1d(in_channels=output_channels, out_channels=input_channels, kernel_size=3, stride=1, padding=1, padding_mode='reflect')\n",
    "        self.normFuncScalar = nn.InstanceNorm1d(num_features=output_channels, affine=True)\n",
    "        self.normFunc = nn.InstanceNorm1d(num_features=input_channels, affine=True)\n",
    "    \n",
    "    def forward(self, x):\n",
    "        firstH = self.conv1(x)\n",
    "        normFirstH = self.normFuncScalar(firstH)\n",
    "        #gatesFirstH = self.conv1(x)\n",
    "        #normGatesH = self.normFuncScalar(gatesFirstH)\n",
    "        firstGLU = self.nonlinearity(firstH)\n",
    "        finalOutput = self.conv2(firstGLU)\n",
    "        return finalOutput + x \n",
    "\n",
    "         "
   ]
  },
  {
   "cell_type": "code",
   "execution_count": 7,
   "metadata": {},
   "outputs": [],
   "source": [
    "class Generator(nn.Module):\n",
    "    def __init__(self, features=(80, 64), res_in_channels=256) -> None:\n",
    "        super(Generator, self).__init__()\n",
    "        time_bins, channels = features\n",
    "        self.singledimchannels = time_bins//4 * res_in_channels\n",
    "        self.conv1 = nn.Conv2d(in_channels=2, out_channels=res_in_channels//2, kernel_size=(5,15), stride=1, padding=(2,7))\n",
    "        #self.conv1GLU = nn.Conv2d(in_channels=2, out_channels=res_in_channels//2, kernel_size=(5,15), stride=1, padding=(2,7))\n",
    "        self.downsample1 = DownSampleG(input_channels=res_in_channels//2, output_channels=res_in_channels)\n",
    "        self.downsample2 = DownSampleG(input_channels=res_in_channels, output_channels=res_in_channels)\n",
    "        self.conv2to1 = nn.Conv1d(in_channels=self.singledimchannels, out_channels=res_in_channels, kernel_size=1, stride=1)\n",
    "        self.singletfan = nn.InstanceNorm1d(num_features=res_in_channels, affine=True)\n",
    "        for i in range(6):\n",
    "            self.add_module(f\"resblock{i+1}\", ResBlock(input_channels=res_in_channels, output_channels=res_in_channels*2))\n",
    "        self.conv1to2 = nn.Conv1d(in_channels=res_in_channels, out_channels=self.singledimchannels, kernel_size=1, stride=1)\n",
    "        self.doubletfan = nn.InstanceNorm1d(num_features=self.singledimchannels, affine=True)\n",
    "        self.upsample1 = UpSample(input_channels=res_in_channels, output_channels=res_in_channels*4)\n",
    "        self.upsample2 = UpSample(input_channels=res_in_channels, output_channels=res_in_channels*2)\n",
    "        self.final = nn.Conv2d(in_channels=res_in_channels//2, out_channels=1, kernel_size=(5,15), stride=1, padding=(2,7), padding_mode='reflect')\n",
    "        self.nonlinearity = GLU()\n",
    "\n",
    "    def forward(self, x, mask):\n",
    "        x = t.stack((x*mask, mask), dim=1)\n",
    "        firstConv = self.nonlinearity(self.conv1(x))\n",
    "        down1 = self.downsample1(firstConv)\n",
    "        down2 = self.downsample2(down1)\n",
    "\n",
    "        down2reshape = down2.view(down2.size(0), self.singledimchannels, 1, -1)\n",
    "        down2reshape = down2reshape.squeeze(2)\n",
    "\n",
    "        flattenLayer = self.conv2to1(down2reshape)\n",
    "        flattenLayer = self.singletfan(flattenLayer)\n",
    "        resBlockTime = flattenLayer\n",
    "        for i in range(6):\n",
    "            resBlockTime = self.__getattr__(f\"resblock{i+1}\")(resBlockTime)\n",
    "        convUpTime = self.conv1to2(resBlockTime)\n",
    "        convUpTime = self.doubletfan(convUpTime)\n",
    "        convUpReshape = convUpTime.unsqueeze(2)\n",
    "        convUpReshape = convUpReshape.view(convUpReshape.size(0), 256, 20, -1)\n",
    "\n",
    "        upsample1 = self.upsample1(convUpReshape)\n",
    "        upsample2 = self.upsample2(upsample1)\n",
    "\n",
    "        finalOutput = self.final(upsample2)\n",
    "        finalOutput = finalOutput.squeeze(1)\n",
    "        return finalOutput\n",
    "\n"
   ]
  },
  {
   "cell_type": "code",
   "execution_count": 8,
   "metadata": {},
   "outputs": [],
   "source": [
    "class Discriminator(nn.Module):\n",
    "    def __init__(self, features=(80, 64), res_in_channels=256) -> None:\n",
    "        super(Discriminator, self).__init__()\n",
    "        self.nonlinearity = GLU()\n",
    "        self.conv1 = nn.Conv2d(in_channels=1, out_channels=res_in_channels//2, kernel_size=3, stride=1, padding=1, padding_mode='reflect')\n",
    "        self.downsample1 = DownSampleD(input_channels=res_in_channels//2, output_channels=res_in_channels)\n",
    "        self.downsample2 = DownSampleD(input_channels=res_in_channels, output_channels=res_in_channels*2)\n",
    "        self.downsample3 = DownSampleD(input_channels=res_in_channels*2, output_channels=res_in_channels*4)\n",
    "        self.final = nn.Conv2d(in_channels=res_in_channels*4, out_channels=1, kernel_size=(1,3), stride=1, padding=(0,1), padding_mode='reflect')\n",
    "\n",
    "\n",
    "    def forward(self, x):\n",
    "        x = x.unsqueeze(1)\n",
    "        firstConv = self.conv1(x) #REMEMBER TO DO NONLINEARITY\n",
    "        firstNonlinearity = self.nonlinearity(firstConv)\n",
    "        downs1 = self.downsample1(firstNonlinearity)\n",
    "        downs2 = self.downsample2(downs1)\n",
    "        downs3 = self.downsample3(downs2)\n",
    "\n",
    "        finalOutput = self.final(downs3)\n",
    "        return t.sigmoid(finalOutput)\n"
   ]
  },
  {
   "cell_type": "code",
   "execution_count": 9,
   "metadata": {},
   "outputs": [
    {
     "name": "stdout",
     "output_type": "stream",
     "text": [
      "Generator input:  torch.Size([2, 80, 64])\n",
      "torch.Size([2, 1024, 20, 16])\n",
      "torch.Size([2, 256, 40, 32])\n",
      "torch.Size([2, 512, 40, 32])\n",
      "torch.Size([2, 128, 80, 64])\n",
      "Generator output shape:  torch.Size([2, 80, 64])\n",
      "Discriminator output shape  torch.Size([2, 1, 10, 8])\n"
     ]
    }
   ],
   "source": [
    "if __name__ == '__main__':\n",
    "    # Non exhaustive test for MaskCycleGAN-VC models\n",
    "\n",
    "    # Generator Dimensionality Testing\n",
    "    np.random.seed(0)\n",
    "\n",
    "    residual_in_channels = 256\n",
    "    # input = np.random.randn(2, 80, 64)\n",
    "    input = np.random.randn(2, 80, 64)\n",
    "    input = t.from_numpy(input).float()\n",
    "    print(\"Generator input: \", input.shape)\n",
    "    mask = t.ones_like(input)\n",
    "    generator = Generator(input.shape[1:], residual_in_channels)\n",
    "    output = generator(input, mask)\n",
    "    print(\"Generator output shape: \", output.shape)\n",
    "\n",
    "    # Discriminator Dimensionality Testing\n",
    "    discriminator = Discriminator(input.shape[1:], residual_in_channels)\n",
    "    output = discriminator(output)\n",
    "    print(\"Discriminator output shape \", output.shape)"
   ]
  },
  {
   "cell_type": "code",
   "execution_count": null,
   "metadata": {},
   "outputs": [],
   "source": []
  }
 ],
 "metadata": {
  "kernelspec": {
   "display_name": "Python 3",
   "language": "python",
   "name": "python3"
  },
  "language_info": {
   "codemirror_mode": {
    "name": "ipython",
    "version": 3
   },
   "file_extension": ".py",
   "mimetype": "text/x-python",
   "name": "python",
   "nbconvert_exporter": "python",
   "pygments_lexer": "ipython3",
   "version": "3.7.16"
  },
  "orig_nbformat": 4
 },
 "nbformat": 4,
 "nbformat_minor": 2
}
