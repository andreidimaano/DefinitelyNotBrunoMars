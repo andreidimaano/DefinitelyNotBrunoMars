{
 "cells": [
  {
   "cell_type": "code",
   "execution_count": 16,
   "metadata": {},
   "outputs": [],
   "source": [
    "import torch as t\n",
    "import torch.nn as nn\n",
    "import matplotlib.pyplot as plt\n",
    "from torch.utils.data import Dataset\n",
    "import numpy as np"
   ]
  },
  {
   "cell_type": "code",
   "execution_count": 17,
   "metadata": {},
   "outputs": [],
   "source": [
    "class PixelShuffle(nn.Module):\n",
    "    def __init__(self, upscale_factor):\n",
    "        super(PixelShuffle, self).__init__()\n",
    "        self.upscale_factor = upscale_factor\n",
    "    \n",
    "    def forward(self, x):\n",
    "        return x.view(x.shape[0], x.shape[1]//2, x.shape[2]*2)"
   ]
  },
  {
   "cell_type": "code",
   "execution_count": 18,
   "metadata": {},
   "outputs": [],
   "source": [
    "class GLU(nn.Module):\n",
    "    def __init__(self):\n",
    "        super(GLU, self).__init__()\n",
    "    \n",
    "    def forward(self, x):\n",
    "        return x * t.sigmoid(x)"
   ]
  },
  {
   "cell_type": "code",
   "execution_count": 19,
   "metadata": {},
   "outputs": [],
   "source": [
    "class UpSample(nn.Module):\n",
    "    def __init__(self, input_channels, output_channels) -> None:\n",
    "        super(UpSample,self).__init__()\n",
    "        self.conv = nn.Conv2d(in_channels=input_channels, out_channels=output_channels, kernel_size=5, stride=1, padding=2, padding_mode='reflect')\n",
    "        self.upscale = nn.PixelShuffle(upscale_factor=2)\n",
    "        self.nonlinearity = GLU()\n",
    "        self.normFunc = nn.InstanceNorm2d(num_features=output_channels//4, affine=True)\n",
    "\n",
    "    def forward(self, x):\n",
    "        conv = self.conv(x)\n",
    "        upscale = self.upscale(conv)\n",
    "        normalize = self.normFunc(upscale)\n",
    "        finalOutput = self.nonlinearity(normalize)\n",
    "        return finalOutput"
   ]
  },
  {
   "cell_type": "code",
   "execution_count": 20,
   "metadata": {},
   "outputs": [],
   "source": [
    "class DownSampleD(nn.Module):\n",
    "    def __init__(self, input_channels, output_channels) -> None:\n",
    "        super(DownSampleD,self).__init__()\n",
    "        self.conv = nn.Conv2d(in_channels=input_channels, out_channels=output_channels, kernel_size=3, stride=2, padding=1, padding_mode='reflect')\n",
    "        self.nonlinearity = GLU()\n",
    "        self.normFunc = nn.InstanceNorm2d(num_features=output_channels, affine=True)\n",
    "    def forward(self, x):\n",
    "        conv = self.conv(x)\n",
    "        normalize = self.normFunc(conv)\n",
    "        finalOutput = self.nonlinearity(normalize)\n",
    "        return finalOutput"
   ]
  },
  {
   "cell_type": "code",
   "execution_count": 49,
   "metadata": {},
   "outputs": [],
   "source": [
    "class DownSampleG(nn.Module):\n",
    "    def __init__(self, input_channels, output_channels) -> None:\n",
    "        super(DownSampleG,self).__init__()\n",
    "        self.conv1 = nn.Conv2d(in_channels=input_channels, out_channels=output_channels, kernel_size=5, stride=2, padding=2, padding_mode='reflect')\n",
    "        #self.conv1NonLinear = nn.Conv2d(in_channels=input_channels, out_channels=output_channels, kernel_size=5, stride=2, padding=2, padding_mode='reflect')\n",
    "        self.normFunc = nn.InstanceNorm2d(num_features=output_channels, affine=True)\n",
    "        self.nonlinearity = GLU()\n",
    "\n",
    "    def forward(self, x):\n",
    "        conv = self.conv1(x)\n",
    "        normalize = self.normFunc(conv)\n",
    "        finalOutput = self.nonlinearity(normalize)\n",
    "        return finalOutput"
   ]
  },
  {
   "cell_type": "code",
   "execution_count": 50,
   "metadata": {},
   "outputs": [],
   "source": [
    "class ResBlock(nn.Module):\n",
    "    def __init__(self, input_channels, output_channels) -> None: #input image should be a 64x94 I THINK IM NOT SURE\n",
    "        super(ResBlock, self).__init__() #kernel should be 3, stride is 1, padding is 1\n",
    "        self.nonlinearity = nn.GLU()\n",
    "        #self.scalarGLU = nn.Conv1d(in_channels=input_channels, output_channels=output_channels, kernel_size=3, stride=1, padding=1, padding_mode='reflect')\n",
    "        self.conv1 = nn.Conv1d(in_channels=input_channels, out_channels=output_channels, kernel_size=3, stride=1, padding=1, padding_mode='reflect')\n",
    "        self.conv2 = nn.Conv1d(in_channels=output_channels, out_channels=input_channels, kernel_size=3, stride=1, padding=1, padding_mode='reflect')\n",
    "        self.normFuncScalar = nn.InstanceNorm1d(num_features=output_channels, affine=True)\n",
    "        self.normFunc = nn.InstanceNorm1d(num_features=input_channels, affine=True)\n",
    "    \n",
    "    def forward(self, x):\n",
    "        firstH = self.conv1(x)\n",
    "        normFirstH = self.normFuncScalar(firstH)\n",
    "        #gatesFirstH = self.conv1(x)\n",
    "        #normGatesH = self.normFuncScalar(gatesFirstH)\n",
    "\n",
    "        firstGLU = self.nonlinearity(firstH)\n",
    "        finalOutput = self.conv2(firstGLU)\n",
    "        return finalOutput + x \n",
    "\n",
    "         "
   ]
  },
  {
   "cell_type": "code",
   "execution_count": 51,
   "metadata": {},
   "outputs": [],
   "source": [
    "class Generator(nn.Module):\n",
    "    def __init__(self, features=(80, 64), res_in_channels=256) -> None:\n",
    "        super(Generator, self).__init__()\n",
    "        time_bins, channels = features\n",
    "        self.singledimchannels = time_bins//4 * res_in_channels\n",
    "        self.conv1 = nn.Conv2d(in_channels=2, out_channels=res_in_channels//2, kernel_size=(5,15), stride=1, padding=(2,7))\n",
    "        #self.conv1GLU = nn.Conv2d(in_channels=2, out_channels=res_in_channels//2, kernel_size=(5,15), stride=1, padding=(2,7))\n",
    "        self.downsample1 = DownSampleG(input_channels=res_in_channels//2, output_channels=res_in_channels)\n",
    "        self.downsample2 = DownSampleG(input_channels=res_in_channels, output_channels=res_in_channels)\n",
    "        self.conv2to1 = nn.Conv1d(in_channels=self.singledimchannels, out_channels=res_in_channels, kernel_size=1, stride=1)\n",
    "        self.singletfan = nn.InstanceNorm1d(num_features=res_in_channels, affine=True)\n",
    "        for i in range(6):\n",
    "            self.add_module(f\"resblock{i+1}\", ResBlock(input_channels=res_in_channels, output_channels=res_in_channels*2))\n",
    "        self.conv1to2 = nn.Conv2d(in_channels=self.singledimchannels, out_channels=res_in_channels, kernel_size=1, stride=1)\n",
    "        self.doubletfan = nn.InstanceNorm1d(num_features=self.singledimchannels, affine=True)\n",
    "        self.upsample1 = UpSample(input_channels=res_in_channels, output_channels=res_in_channels*4)\n",
    "        self.upsample2 = UpSample(input_channels=res_in_channels, output_channels=res_in_channels*2)\n",
    "        self.final = nn.Conv2d(in_channels=res_in_channels//2, out_channels=1, kernel_size=(5,15), stride=1, padding=(2,7), padding_mode='reflect')\n",
    "        self.nonlinearity = GLU()\n",
    "\n",
    "    def forward(self, x, mask):\n",
    "        x = t.stack((x*mask, mask), dim=1)\n",
    "        firstConv = self.nonlinearity(self.conv1(x))\n",
    "        down1 = self.downsample1(firstConv)\n",
    "        down2 = self.downsample2(down1)\n",
    "\n",
    "        down2reshape = down2.view(down2.size(0), self.singledimchannels, 1, -1)\n",
    "        down2reshape = down2reshape.squeeze(2)\n",
    "\n",
    "        flattenLayer = self.conv2to1(down2reshape)\n",
    "        flattenLayer = self.singletfan(flattenLayer)\n",
    "        resBlockTime = flattenLayer\n",
    "        for i in range(6):\n",
    "            resBlockTime = self.__getattr__(f\"resblock{i+1}\")(resBlockTime)\n",
    "        \n",
    "        convUpTime = self.conv1to2(resBlockTime)\n",
    "        convUpTime = self.doubletfan(convUpTime)\n",
    "\n",
    "        finalOutput = self.final(convUpTime)\n",
    "        finalOutput = finalOutput.squeeze(1)\n",
    "        return finalOutput\n",
    "\n"
   ]
  },
  {
   "cell_type": "code",
   "execution_count": 52,
   "metadata": {},
   "outputs": [],
   "source": [
    "class Discriminator(nn.Module):\n",
    "    def __init__(self, features=(80, 64), res_in_channels=256) -> None:\n",
    "        super(Discriminator, self).__init__()\n",
    "        self.nonlinearity = GLU()\n",
    "        self.conv1 = nn.Conv2d(in_channels=1, out_channels=res_in_channels//2, kernel_size=3, stride=1, padding=1, padding_mode='reflect')\n",
    "        self.downsample1 = DownSampleD(input_channels=res_in_channels//2, output_channels=res_in_channels)\n",
    "        self.downsample2 = DownSampleD(input_channels=res_in_channels, output_channels=res_in_channels*2)\n",
    "        self.downsample3 = DownSampleD(input_channels=res_in_channels*2, output_channels=res_in_channels*4)\n",
    "        self.final = nn.Conv2d(in_channels=res_in_channels*4, out_channels=1, kernel_size=(1,3), stride=1, padding=(0,1), padding_mode='reflect')\n",
    "\n",
    "\n",
    "    def forward(self, x):\n",
    "        x = x.unsqueeze(1)\n",
    "        firstConv = self.conv1(x) #REMEMBER TO DO NONLINEARITY\n",
    "        firstNonlinearity = self.nonlinearity(firstConv)\n",
    "        downs1 = self.downsample1(firstNonlinearity)\n",
    "        downs2 = self.downsample2(downs1)\n",
    "        downs3 = self.downsample3(downs2)\n",
    "\n",
    "        finalOutput = self.final(downs3)\n",
    "        return t.sigmoid()(finalOutput)\n"
   ]
  },
  {
   "cell_type": "code",
   "execution_count": 53,
   "metadata": {},
   "outputs": [
    {
     "name": "stdout",
     "output_type": "stream",
     "text": [
      "Generator input:  torch.Size([2, 80, 64])\n"
     ]
    },
    {
     "ename": "UnboundLocalError",
     "evalue": "local variable 'flattenLayer' referenced before assignment",
     "output_type": "error",
     "traceback": [
      "\u001b[0;31m---------------------------------------------------------------------------\u001b[0m",
      "\u001b[0;31mUnboundLocalError\u001b[0m                         Traceback (most recent call last)",
      "\u001b[0;32m/var/folders/yy/2mfx1zs54f11361kfsx3why80000gn/T/ipykernel_19269/488985430.py\u001b[0m in \u001b[0;36m<module>\u001b[0;34m\u001b[0m\n\u001b[1;32m     12\u001b[0m     \u001b[0mmask\u001b[0m \u001b[0;34m=\u001b[0m \u001b[0mt\u001b[0m\u001b[0;34m.\u001b[0m\u001b[0mones_like\u001b[0m\u001b[0;34m(\u001b[0m\u001b[0minput\u001b[0m\u001b[0;34m)\u001b[0m\u001b[0;34m\u001b[0m\u001b[0;34m\u001b[0m\u001b[0m\n\u001b[1;32m     13\u001b[0m     \u001b[0mgenerator\u001b[0m \u001b[0;34m=\u001b[0m \u001b[0mGenerator\u001b[0m\u001b[0;34m(\u001b[0m\u001b[0minput\u001b[0m\u001b[0;34m.\u001b[0m\u001b[0mshape\u001b[0m\u001b[0;34m[\u001b[0m\u001b[0;36m1\u001b[0m\u001b[0;34m:\u001b[0m\u001b[0;34m]\u001b[0m\u001b[0;34m,\u001b[0m \u001b[0mresidual_in_channels\u001b[0m\u001b[0;34m)\u001b[0m\u001b[0;34m\u001b[0m\u001b[0;34m\u001b[0m\u001b[0m\n\u001b[0;32m---> 14\u001b[0;31m     \u001b[0moutput\u001b[0m \u001b[0;34m=\u001b[0m \u001b[0mgenerator\u001b[0m\u001b[0;34m(\u001b[0m\u001b[0minput\u001b[0m\u001b[0;34m,\u001b[0m \u001b[0mmask\u001b[0m\u001b[0;34m)\u001b[0m\u001b[0;34m\u001b[0m\u001b[0;34m\u001b[0m\u001b[0m\n\u001b[0m\u001b[1;32m     15\u001b[0m     \u001b[0mprint\u001b[0m\u001b[0;34m(\u001b[0m\u001b[0;34m\"Generator output shape: \"\u001b[0m\u001b[0;34m,\u001b[0m \u001b[0moutput\u001b[0m\u001b[0;34m.\u001b[0m\u001b[0mshape\u001b[0m\u001b[0;34m)\u001b[0m\u001b[0;34m\u001b[0m\u001b[0;34m\u001b[0m\u001b[0m\n\u001b[1;32m     16\u001b[0m \u001b[0;34m\u001b[0m\u001b[0m\n",
      "\u001b[0;32m~/opt/anaconda3/lib/python3.7/site-packages/torch/nn/modules/module.py\u001b[0m in \u001b[0;36m_call_impl\u001b[0;34m(self, *input, **kwargs)\u001b[0m\n\u001b[1;32m   1192\u001b[0m         if not (self._backward_hooks or self._forward_hooks or self._forward_pre_hooks or _global_backward_hooks\n\u001b[1;32m   1193\u001b[0m                 or _global_forward_hooks or _global_forward_pre_hooks):\n\u001b[0;32m-> 1194\u001b[0;31m             \u001b[0;32mreturn\u001b[0m \u001b[0mforward_call\u001b[0m\u001b[0;34m(\u001b[0m\u001b[0;34m*\u001b[0m\u001b[0minput\u001b[0m\u001b[0;34m,\u001b[0m \u001b[0;34m**\u001b[0m\u001b[0mkwargs\u001b[0m\u001b[0;34m)\u001b[0m\u001b[0;34m\u001b[0m\u001b[0;34m\u001b[0m\u001b[0m\n\u001b[0m\u001b[1;32m   1195\u001b[0m         \u001b[0;31m# Do not call functions when jit is used\u001b[0m\u001b[0;34m\u001b[0m\u001b[0;34m\u001b[0m\u001b[0;34m\u001b[0m\u001b[0m\n\u001b[1;32m   1196\u001b[0m         \u001b[0mfull_backward_hooks\u001b[0m\u001b[0;34m,\u001b[0m \u001b[0mnon_full_backward_hooks\u001b[0m \u001b[0;34m=\u001b[0m \u001b[0;34m[\u001b[0m\u001b[0;34m]\u001b[0m\u001b[0;34m,\u001b[0m \u001b[0;34m[\u001b[0m\u001b[0;34m]\u001b[0m\u001b[0;34m\u001b[0m\u001b[0;34m\u001b[0m\u001b[0m\n",
      "\u001b[0;32m/var/folders/yy/2mfx1zs54f11361kfsx3why80000gn/T/ipykernel_19269/6317117.py\u001b[0m in \u001b[0;36mforward\u001b[0;34m(self, x, mask)\u001b[0m\n\u001b[1;32m     28\u001b[0m         \u001b[0mdown2reshape\u001b[0m \u001b[0;34m=\u001b[0m \u001b[0mdown2reshape\u001b[0m\u001b[0;34m.\u001b[0m\u001b[0msqueeze\u001b[0m\u001b[0;34m(\u001b[0m\u001b[0;36m2\u001b[0m\u001b[0;34m)\u001b[0m\u001b[0;34m\u001b[0m\u001b[0;34m\u001b[0m\u001b[0m\n\u001b[1;32m     29\u001b[0m \u001b[0;34m\u001b[0m\u001b[0m\n\u001b[0;32m---> 30\u001b[0;31m         \u001b[0mflattenLayer\u001b[0m \u001b[0;34m=\u001b[0m \u001b[0mself\u001b[0m\u001b[0;34m.\u001b[0m\u001b[0mconv2to1\u001b[0m\u001b[0;34m(\u001b[0m\u001b[0mflattenLayer\u001b[0m\u001b[0;34m)\u001b[0m\u001b[0;34m\u001b[0m\u001b[0;34m\u001b[0m\u001b[0m\n\u001b[0m\u001b[1;32m     31\u001b[0m         \u001b[0mflattenLayer\u001b[0m \u001b[0;34m=\u001b[0m \u001b[0mself\u001b[0m\u001b[0;34m.\u001b[0m\u001b[0msingletfan\u001b[0m\u001b[0;34m(\u001b[0m\u001b[0mflattenLayer\u001b[0m\u001b[0;34m)\u001b[0m\u001b[0;34m\u001b[0m\u001b[0;34m\u001b[0m\u001b[0m\n\u001b[1;32m     32\u001b[0m         \u001b[0mresBlockTime\u001b[0m \u001b[0;34m=\u001b[0m \u001b[0mflattenLayer\u001b[0m\u001b[0;34m\u001b[0m\u001b[0;34m\u001b[0m\u001b[0m\n",
      "\u001b[0;31mUnboundLocalError\u001b[0m: local variable 'flattenLayer' referenced before assignment"
     ]
    }
   ],
   "source": [
    "if __name__ == '__main__':\n",
    "    # Non exhaustive test for MaskCycleGAN-VC models\n",
    "\n",
    "    # Generator Dimensionality Testing\n",
    "    np.random.seed(0)\n",
    "\n",
    "    residual_in_channels = 256\n",
    "    # input = np.random.randn(2, 80, 64)\n",
    "    input = np.random.randn(2, 80, 64)\n",
    "    input = t.from_numpy(input).float()\n",
    "    print(\"Generator input: \", input.shape)\n",
    "    mask = t.ones_like(input)\n",
    "    generator = Generator(input.shape[1:], residual_in_channels)\n",
    "    output = generator(input, mask)\n",
    "    print(\"Generator output shape: \", output.shape)\n",
    "\n",
    "    # Discriminator Dimensionality Testing\n",
    "    discriminator = Discriminator(input.shape[1:], residual_in_channels)\n",
    "    output = discriminator(output)\n",
    "    print(\"Discriminator output shape \", output.shape)"
   ]
  },
  {
   "cell_type": "code",
   "execution_count": null,
   "metadata": {},
   "outputs": [],
   "source": []
  }
 ],
 "metadata": {
  "kernelspec": {
   "display_name": "Python 3",
   "language": "python",
   "name": "python3"
  },
  "language_info": {
   "codemirror_mode": {
    "name": "ipython",
    "version": 3
   },
   "file_extension": ".py",
   "mimetype": "text/x-python",
   "name": "python",
   "nbconvert_exporter": "python",
   "pygments_lexer": "ipython3",
   "version": "3.7.16"
  },
  "orig_nbformat": 4
 },
 "nbformat": 4,
 "nbformat_minor": 2
}
