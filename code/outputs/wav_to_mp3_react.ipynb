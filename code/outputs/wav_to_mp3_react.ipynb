{
 "cells": [
  {
   "cell_type": "code",
   "execution_count": 61,
   "metadata": {},
   "outputs": [],
   "source": [
    "from utils import wav_to_mp3, spectrogram_to_wav\n",
    "import torch as t\n",
    "import numpy as np"
   ]
  },
  {
   "cell_type": "code",
   "execution_count": 62,
   "metadata": {},
   "outputs": [],
   "source": [
    "class ConstructMP3():\n",
    "    def __init__(self, spectrogram, output_path_wav, output_path_mp3) -> None: \n",
    "        self.spectrogram = spectrogram.squeeze().cpu().numpy() #So it looks like the spectogram has to be 3d\n",
    "        self.wav_path = output_path_wav\n",
    "        self.final_output = output_path_mp3 \n",
    "        self.mean = np.mean(self.spectrogram, axis=0)\n",
    "        self.std = np.std(self.spectrogram, axis=0)\n",
    "        print(self.spectrogram.shape)\n",
    "    \n",
    "    def makeWav(self):\n",
    "        spectrogram_to_wav(spectrogram=self.spectrogram, mel_mean=self.mean, mel_std=self.std, output_path=self.wav_path)\n",
    "\n",
    "    def makeMP3(self):\n",
    "        wav_to_mp3(wav_path=self.wav_path, output_path=self.final_output)"
   ]
  },
  {
   "cell_type": "code",
   "execution_count": 63,
   "metadata": {},
   "outputs": [],
   "source": [
    "mel = t.randn(1, 80, 234)"
   ]
  },
  {
   "cell_type": "code",
   "execution_count": 64,
   "metadata": {},
   "outputs": [
    {
     "name": "stdout",
     "output_type": "stream",
     "text": [
      "(80, 234)\n"
     ]
    }
   ],
   "source": [
    "testing = ConstructMP3(mel, \"thisdir.wav\", \"finalfile.mp3\")"
   ]
  },
  {
   "cell_type": "code",
   "execution_count": 65,
   "metadata": {},
   "outputs": [],
   "source": [
    "testing.makeWav()"
   ]
  },
  {
   "cell_type": "code",
   "execution_count": 66,
   "metadata": {},
   "outputs": [],
   "source": [
    "testing.makeMP3()"
   ]
  },
  {
   "cell_type": "code",
   "execution_count": null,
   "metadata": {},
   "outputs": [],
   "source": []
  }
 ],
 "metadata": {
  "kernelspec": {
   "display_name": "Python 3",
   "language": "python",
   "name": "python3"
  },
  "language_info": {
   "codemirror_mode": {
    "name": "ipython",
    "version": 3
   },
   "file_extension": ".py",
   "mimetype": "text/x-python",
   "name": "python",
   "nbconvert_exporter": "python",
   "pygments_lexer": "ipython3",
   "version": "3.7.16"
  },
  "orig_nbformat": 4
 },
 "nbformat": 4,
 "nbformat_minor": 2
}
