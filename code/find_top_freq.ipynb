{
  "nbformat": 4,
  "nbformat_minor": 0,
  "metadata": {
    "colab": {
      "provenance": []
    },
    "kernelspec": {
      "name": "python3",
      "display_name": "Python 3"
    },
    "language_info": {
      "name": "python"
    }
  },
  "cells": [
    {
      "cell_type": "code",
      "execution_count": null,
      "metadata": {
        "colab": {
          "base_uri": "https://localhost:8080/"
        },
        "id": "6uaJjgAgavT-",
        "outputId": "6ebf0afa-aa3f-429a-cef8-8bf5849a6c2c"
      },
      "outputs": [
        {
          "output_type": "stream",
          "name": "stdout",
          "text": [
            "Mounted at /content/gdrive\n"
          ]
        }
      ],
      "source": [
        "# google collab notebook\n",
        "from google.colab import drive\n",
        "drive.mount('/content/gdrive')"
      ]
    },
    {
      "cell_type": "code",
      "source": [
        "!ls \"/content/gdrive/My Drive/DLproject/IU - MUSIC/\"\n"
      ],
      "metadata": {
        "colab": {
          "base_uri": "https://localhost:8080/"
        },
        "id": "AVoOvp3xa742",
        "outputId": "2629718f-751d-47f5-965f-eda8922c1310"
      },
      "execution_count": null,
      "outputs": [
        {
          "output_type": "stream",
          "name": "stdout",
          "text": [
            "'[2008] Lost and Found'\t\t       '[2015] Chat-shire'\n",
            "'[2009] Growing Up'\t\t       '[2015] Smash Hits'\n",
            "'[2009] IU...IM'\t\t       '[2017] A Flower Bookmark 2'\n",
            "'[2010] Real'\t\t\t       '[2017] Palette'\n",
            "'[2011] I□U'\t\t\t       '[2018] Smash Hits 2'\n",
            "'[2011] Last Fantasy'\t\t       '[2019] Love Poem'\n",
            "'[2011] Real+'\t\t\t       '[2021] Lilac'\n",
            "'[2012] Good Day (Japanese Version)'   '[2021] Pieces'\n",
            "'[2012] Spring of a Twenty Year Old'    Covers\n",
            "'[2012] You and I (Japanese Version)'  'Live Band Acoustic'\n",
            "'[2013] Modern Times - Epilogue'       'OSTs Unreleased Songs'\n",
            "'[2013] Monday Afternoon'\t       'Singles Feat'\n",
            "'[2014] A Flower Bookmark'\n"
          ]
        }
      ]
    },
    {
      "cell_type": "code",
      "source": [
        "%cd /content/gdrive/My Drive/DLproject"
      ],
      "metadata": {
        "colab": {
          "base_uri": "https://localhost:8080/"
        },
        "id": "Aww6bCGpbKCJ",
        "outputId": "de2382c1-a586-4e34-e7fe-ebf81348583c"
      },
      "execution_count": null,
      "outputs": [
        {
          "output_type": "stream",
          "name": "stdout",
          "text": [
            "/content/gdrive/My Drive/DLproject\n"
          ]
        }
      ]
    },
    {
      "cell_type": "code",
      "source": [
        "import pathlib\n",
        "desktop = pathlib.Path(\"/content/gdrive/My Drive/DLproject/IU - MUSIC/\")\n",
        "flac_songs = list(desktop.rglob(\"*.flac\"))\n",
        "mp3_songs = list(desktop.rglob(\"*.mp3\"))\n",
        "aac_songs = list(desktop.rglob(\"*.aac\"))\n",
        "# for s in mp3_songs:\n",
        "#   print(s)\n",
        "print(type(str(mp3_songs[0])), str(mp3_songs[0]))"
      ],
      "metadata": {
        "colab": {
          "base_uri": "https://localhost:8080/"
        },
        "id": "C015gShVclQa",
        "outputId": "3df6d480-c9a6-42f9-bafc-ea140853d7c3"
      },
      "execution_count": null,
      "outputs": [
        {
          "output_type": "stream",
          "name": "stdout",
          "text": [
            "<class 'str'> /content/gdrive/My Drive/DLproject/IU - MUSIC/OSTs Unreleased Songs/[2011] Alicia [OST Alicia].mp3\n"
          ]
        }
      ]
    },
    {
      "cell_type": "code",
      "source": [
        "import librosa\n",
        "import pathlib\n",
        "import numpy as np\n",
        "from collections import Counter\n",
        "import pandas as pd \n",
        "desktop = pathlib.Path(\"/content/gdrive/My Drive/DLproject/IU - MUSIC/\")\n",
        "flac_songs = list(desktop.rglob(\"*.flac\"))\n",
        "mp3_songs = list(desktop.rglob(\"*.mp3\"))\n",
        "aac_songs = list(desktop.rglob(\"*.aac\"))\n",
        "\n",
        "\n",
        "def get_freq(file):\n",
        "  # Load audio file\n",
        "  print(file, end = \" ... \")\n",
        "  audio_path = str(file)\n",
        "  y, sr = librosa.load(audio_path, sr=None)\n",
        "\n",
        "  # Compute the Short-Time Fourier Transform (STFT)\n",
        "  hop_length = 512\n",
        "  stft = librosa.stft(y, hop_length=hop_length)\n",
        "\n",
        "  # Convert the STFT to the power spectrogram\n",
        "  power_spec = np.abs(stft)**2\n",
        "\n",
        "  idx = np.argmax(power_spec, axis=0)\n",
        "  max = np.amax(idx)\n",
        "\n",
        "  # Compute the frequencies corresponding to each bin in the power spectrogram\n",
        "  # frequencies = librosa.fft_frequencies(sr=sr, n_fft=stft.shape[0])\n",
        "  frequencies = librosa.fft_frequencies(sr=sr, n_fft=max*2)\n",
        "\n",
        "  # Get the most common frequencies\n",
        "  num_common_freqs = 100  # Change this to the desired number of most common frequencies\n",
        "  # most_common_freqs = Counter(np.argmax(power_spec, axis=0)).most_common(num_common_freqs)\n",
        "  # freq_list = Counter(dict(most_common_freqs))\n",
        "  most_common_freqs = Counter(idx)\n",
        "  freq_list = Counter()\n",
        "  # Print the most common frequencies\n",
        "  for freq_idx, count in list(most_common_freqs.items()):\n",
        "      freq = frequencies[freq_idx]\n",
        "      #print(f\"Frequency: {freq:.2f} Hz, Count: {count}\")\n",
        "      freq_list[freq] = count\n",
        "  print(\"done\")\n",
        "  # print(freq_list)\n",
        "  return freq_list\n",
        "\n",
        "# get list of frequencies in the 1 aac file\n",
        "total = get_freq(aac_songs[0])\n",
        "# print(\"total\", total)\n",
        "# freqs = get_freq(flac_songs[0])\n",
        "# print(\"freqs\", freqs)\n",
        "# total2 = total + freqs\n",
        "# print(\"sum\", total2)\n",
        "# total = total + freqs\n",
        "\n",
        "# get list of frequencies in each flac file and add them to total counter\n",
        "index = 0;\n",
        "for flac in flac_songs:\n",
        "  print(index, end = \" : \")\n",
        "  freqs = get_freq(flac)\n",
        "  total = total + freqs\n",
        "  index = index + 1\n",
        "\n",
        "# get list of frequencies in each mp3 file and add them to total counter\n",
        "index = 0;\n",
        "for mp3 in mp3_songs:\n",
        "  print(index, end = \" : \")\n",
        "  freqs = get_freq(mp3)\n",
        "  total = total + freqs\n",
        "  index = index + 1\n",
        "\n",
        "# # of the frequencies stored in counter, get the top 100 and store them in a list\n",
        "# top_freq_count = total.most_common(100)\n",
        "# top_freq = []\n",
        "# for freq, count in top_freq_count:\n",
        "#   top_freq.append(count)\n",
        "# print(top_freq)\n",
        "# csv_data = pd.DataFrame(top_freq)\n",
        "# csv_data.to_csv('filename.csv', index=False)\n"
      ],
      "metadata": {
        "colab": {
          "base_uri": "https://localhost:8080/"
        },
        "id": "YsbPcGypxbWe",
        "outputId": "7727cf13-10cb-4396-f4b8-1eb73dafa024"
      },
      "execution_count": null,
      "outputs": [
        {
          "output_type": "stream",
          "name": "stdout",
          "text": [
            "/content/gdrive/My Drive/DLproject/IU - MUSIC/Covers/Dear Moon.aac ... "
          ]
        },
        {
          "output_type": "stream",
          "name": "stderr",
          "text": [
            "<ipython-input-4-1bb9337c0c03>:16: UserWarning: PySoundFile failed. Trying audioread instead.\n",
            "  y, sr = librosa.load(audio_path, sr=None)\n",
            "/usr/local/lib/python3.10/dist-packages/librosa/core/audio.py:184: FutureWarning: librosa.core.audio.__audioread_load\n",
            "\tDeprecated as of librosa version 0.10.0.\n",
            "\tIt will be removed in librosa version 1.0.\n",
            "  y, sr_native = __audioread_load(path, offset, duration, dtype)\n"
          ]
        },
        {
          "output_type": "stream",
          "name": "stdout",
          "text": [
            "done\n",
            "0 : /content/gdrive/My Drive/DLproject/IU - MUSIC/[2021] Lilac/2. Flu.flac ... done\n",
            "1 : /content/gdrive/My Drive/DLproject/IU - MUSIC/[2021] Lilac/3. Coin.flac ... done\n",
            "2 : /content/gdrive/My Drive/DLproject/IU - MUSIC/[2021] Lilac/10. Epilogue.flac ... done\n",
            "3 : /content/gdrive/My Drive/DLproject/IU - MUSIC/[2021] Lilac/6. Troll (Feat. DEAN).flac ... done\n",
            "4 : /content/gdrive/My Drive/DLproject/IU - MUSIC/[2021] Lilac/7. Empty Cup.flac ... done\n",
            "5 : /content/gdrive/My Drive/DLproject/IU - MUSIC/[2021] Lilac/8. My sea.flac ... done\n",
            "6 : /content/gdrive/My Drive/DLproject/IU - MUSIC/[2021] Lilac/9. Ah puh.flac ... done\n",
            "7 : /content/gdrive/My Drive/DLproject/IU - MUSIC/[2021] Lilac/4. Hi spring Bye.flac ... done\n",
            "8 : /content/gdrive/My Drive/DLproject/IU - MUSIC/[2021] Lilac/5. Celebrity.flac ... done\n",
            "9 : /content/gdrive/My Drive/DLproject/IU - MUSIC/[2021] Lilac/1. LILAC.flac ... done\n",
            "10 : /content/gdrive/My Drive/DLproject/IU - MUSIC/[2015] Chat-shire/1. Shoes (새 신발).flac ... done\n",
            "11 : /content/gdrive/My Drive/DLproject/IU - MUSIC/[2015] Chat-shire/2. Zeze.flac ... done\n",
            "12 : /content/gdrive/My Drive/DLproject/IU - MUSIC/[2015] Chat-shire/3. Twenty-three (스물셋).flac ... done\n",
            "13 : /content/gdrive/My Drive/DLproject/IU - MUSIC/[2015] Chat-shire/4. The Shower (푸르던).flac ... done\n",
            "14 : /content/gdrive/My Drive/DLproject/IU - MUSIC/[2015] Chat-shire/5. Red Queen [feat ZionT].flac ... done\n",
            "15 : /content/gdrive/My Drive/DLproject/IU - MUSIC/[2015] Chat-shire/6. Knees (무릎).flac ... done\n",
            "16 : /content/gdrive/My Drive/DLproject/IU - MUSIC/[2015] Chat-shire/7. Glasses (안경) .flac ... done\n",
            "17 : /content/gdrive/My Drive/DLproject/IU - MUSIC/[2009] Growing Up/1. Looking At You (바라보기) [Rap feat. AMEN of ICON].flac ... done\n",
            "18 : /content/gdrive/My Drive/DLproject/IU - MUSIC/[2009] Growing Up/2. Boo.flac ... done\n",
            "19 : /content/gdrive/My Drive/DLproject/IU - MUSIC/[2009] Growing Up/3. Pitiful (가여워).flac ... done\n",
            "20 : /content/gdrive/My Drive/DLproject/IU - MUSIC/[2009] Growing Up/4. A Dreamer [Rap feat. Bizniz].flac ... done\n",
            "21 : /content/gdrive/My Drive/DLproject/IU - MUSIC/[2009] Growing Up/5. Every Sweet Day.flac ... done\n",
            "22 : /content/gdrive/My Drive/DLproject/IU - MUSIC/[2009] Growing Up/6. A Lost Child (미아).flac ... done\n",
            "23 : /content/gdrive/My Drive/DLproject/IU - MUSIC/[2009] Growing Up/7. Four Without Me (나 말고 넷).flac ... done\n",
            "24 : /content/gdrive/My Drive/DLproject/IU - MUSIC/[2009] Growing Up/8. Hey (있잖아) [Rap feat. MARIO].flac ... done\n",
            "25 : /content/gdrive/My Drive/DLproject/IU - MUSIC/[2009] Growing Up/9. Graduation Day (졸업하는 날).flac ... done\n",
            "26 : /content/gdrive/My Drive/DLproject/IU - MUSIC/[2009] Growing Up/10. Feel So Good.flac ... done\n",
            "27 : /content/gdrive/My Drive/DLproject/IU - MUSIC/[2009] Growing Up/11. Ugly Duckling (미운 오리).flac ... done\n",
            "28 : /content/gdrive/My Drive/DLproject/IU - MUSIC/[2009] Growing Up/12. Face to Face (After Looking At You) (마주보기 (바라보기 그 후)) [Rap feat. AMEN of ICON].flac ... done\n",
            "29 : /content/gdrive/My Drive/DLproject/IU - MUSIC/[2009] Growing Up/13. A Lost Child (미아 (Acoustic ver.)).flac ... done\n",
            "30 : /content/gdrive/My Drive/DLproject/IU - MUSIC/[2009] Growing Up/14. Hey (있잖아 (Rock ver.)).flac ... done\n",
            "31 : /content/gdrive/My Drive/DLproject/IU - MUSIC/[2009] Growing Up/15. Boo (inst.).flac ... done\n",
            "32 : /content/gdrive/My Drive/DLproject/IU - MUSIC/[2009] Growing Up/16. Pitiful (가여워 (inst.)).flac ... done\n",
            "33 : /content/gdrive/My Drive/DLproject/IU - MUSIC/[2009] IU...IM/1. Love Attack.flac ... done\n",
            "34 : /content/gdrive/My Drive/DLproject/IU - MUSIC/[2009] IU...IM/2. Taking A Train (기차를 타고).flac ... done\n",
            "35 : /content/gdrive/My Drive/DLproject/IU - MUSIC/[2009] IU...IM/3. Marshmallow (마쉬멜로우).flac ... done\n",
            "36 : /content/gdrive/My Drive/DLproject/IU - MUSIC/[2009] IU...IM/4. Teardrops in the morning (아침 눈물).flac ... done\n",
            "37 : /content/gdrive/My Drive/DLproject/IU - MUSIC/[2009] IU...IM/5. Heartbeating Date (두근 두근 데이트).flac ... done\n",
            "38 : /content/gdrive/My Drive/DLproject/IU - MUSIC/[2009] IU...IM/6. Taking A Train (기차를 타고 (Inst)).flac ... done\n",
            "39 : /content/gdrive/My Drive/DLproject/IU - MUSIC/[2009] IU...IM/7. Teardrops in the morning (아침 눈물 (Inst)).flac ... done\n",
            "40 : /content/gdrive/My Drive/DLproject/IU - MUSIC/[2011] Last Fantasy/12. 4AM.flac ... done\n",
            "41 : /content/gdrive/My Drive/DLproject/IU - MUSIC/[2011] Last Fantasy/1. Secret (비밀).flac ... done\n",
            "42 : /content/gdrive/My Drive/DLproject/IU - MUSIC/[2011] Last Fantasy/2. Sleeping Prince (잠자는 숲 속의 왕자 [feat. Yoon Sang 윤상]).flac ... done\n",
            "43 : /content/gdrive/My Drive/DLproject/IU - MUSIC/[2011] Last Fantasy/3. A Child Searching For Stars (별을 찾는 아이 [feat. Kim Kwang-Jin 김광진]).flac ... done\n",
            "44 : /content/gdrive/My Drive/DLproject/IU - MUSIC/[2011] Last Fantasy/4. You and I (너랑 나).flac ... done\n",
            "45 : /content/gdrive/My Drive/DLproject/IU - MUSIC/[2011] Last Fantasy/5. Wallpaper Patterns (벽지무늬).flac ... done\n",
            "46 : /content/gdrive/My Drive/DLproject/IU - MUSIC/[2011] Last Fantasy/6. Uncle (삼촌 [feat. Lee Juck 이적]).flac ... done\n",
            "47 : /content/gdrive/My Drive/DLproject/IU - MUSIC/[2011] Last Fantasy/7. Wisdom Tooth (사랑니).flac ... done\n",
            "48 : /content/gdrive/My Drive/DLproject/IU - MUSIC/[2011] Last Fantasy/8. Everything's Alright [feat. Kim Hyeon Cheol 김현철].flac ... done\n",
            "49 : /content/gdrive/My Drive/DLproject/IU - MUSIC/[2011] Last Fantasy/9. Last Fantasy.flac ... done\n",
            "50 : /content/gdrive/My Drive/DLproject/IU - MUSIC/[2011] Last Fantasy/10. Teacher [feat. Ra.D].flac ... done\n",
            "51 : /content/gdrive/My Drive/DLproject/IU - MUSIC/[2011] Last Fantasy/11. A Stray Puppy (길 잃은 강아지).flac ... done\n",
            "52 : /content/gdrive/My Drive/DLproject/IU - MUSIC/[2011] Last Fantasy/13. L'amant (라망).flac ... done\n",
            "53 : /content/gdrive/My Drive/DLproject/IU - MUSIC/[2008] Lost and Found/1. Ugly Duckling (미운오리).flac ... done\n",
            "54 : /content/gdrive/My Drive/DLproject/IU - MUSIC/[2008] Lost and Found/2. A Lost Child (미아).flac ... done\n",
            "55 : /content/gdrive/My Drive/DLproject/IU - MUSIC/[2008] Lost and Found/3. Hey (있잖아 [Feat Mario 마리오]).flac ... done\n",
            "56 : /content/gdrive/My Drive/DLproject/IU - MUSIC/[2008] Lost and Found/4. Feel So Good.flac ... done\n",
            "57 : /content/gdrive/My Drive/DLproject/IU - MUSIC/[2008] Lost and Found/5. Every Sweet Day.flac ... done\n",
            "58 : /content/gdrive/My Drive/DLproject/IU - MUSIC/[2008] Lost and Found/6. A Lost Child (미아) [Instrumental].flac ... done\n",
            "59 : /content/gdrive/My Drive/DLproject/IU - MUSIC/[2019] Love Poem/1. unlucky.flac ... done\n",
            "60 : /content/gdrive/My Drive/DLproject/IU - MUSIC/[2019] Love Poem/2. The Visitor (그 사람).flac ... done\n",
            "61 : /content/gdrive/My Drive/DLproject/IU - MUSIC/[2019] Love Poem/3. Blueming.flac ... done\n",
            "62 : /content/gdrive/My Drive/DLproject/IU - MUSIC/[2019] Love Poem/4. above the time (시간의 바깥).flac ... done\n",
            "63 : /content/gdrive/My Drive/DLproject/IU - MUSIC/[2019] Love Poem/5. Lullaby (자장가).flac ... done\n",
            "64 : /content/gdrive/My Drive/DLproject/IU - MUSIC/[2019] Love Poem/6. Love poem.flac ... done\n",
            "65 : /content/gdrive/My Drive/DLproject/IU - MUSIC/[2013] Modern Times - Epilogue/1. Friday (금요일에 만나요 [Feat 장이정 Of HISTORY]).flac ... done\n",
            "66 : /content/gdrive/My Drive/DLproject/IU - MUSIC/[2013] Modern Times - Epilogue/2. Pastel Crayon (크레파스 (OST 'Bel Ami')).flac ... done\n",
            "67 : /content/gdrive/My Drive/DLproject/IU - MUSIC/[2013] Modern Times - Epilogue/3. Love of B (을의 연애 [with Park Ju Won 박주원]).flac ... done\n",
            "68 : /content/gdrive/My Drive/DLproject/IU - MUSIC/[2013] Modern Times - Epilogue/4. Everybody Has Secrets (누구나 비밀은 있다 [feat Gain 가인]).flac ... done\n",
            "69 : /content/gdrive/My Drive/DLproject/IU - MUSIC/[2013] Modern Times - Epilogue/6. The Red Shoes (분홍신).flac ... done\n",
            "70 : /content/gdrive/My Drive/DLproject/IU - MUSIC/[2013] Modern Times - Epilogue/5. Between the Lips (입술 사이(50cm)).flac ... done\n",
            "71 : /content/gdrive/My Drive/DLproject/IU - MUSIC/[2013] Modern Times - Epilogue/7. Modern Times.flac ... done\n",
            "72 : /content/gdrive/My Drive/DLproject/IU - MUSIC/[2013] Modern Times - Epilogue/8. Bad Day (싫은 날).flac ... done\n",
            "73 : /content/gdrive/My Drive/DLproject/IU - MUSIC/[2013] Modern Times - Epilogue/9. Obliviate.flac ... done\n",
            "74 : /content/gdrive/My Drive/DLproject/IU - MUSIC/[2013] Modern Times - Epilogue/10. Walk with Me, Girl (아이야 나랑 걷자 [feat Choi Baek Ho최백호]).flac ... done\n",
            "75 : /content/gdrive/My Drive/DLproject/IU - MUSIC/[2013] Modern Times - Epilogue/11. Havana.flac ... done\n",
            "76 : /content/gdrive/My Drive/DLproject/IU - MUSIC/[2013] Modern Times - Epilogue/12. A Gloomy Clock (우울시계 [feat Jonghyun 종현]).flac ... done\n",
            "77 : /content/gdrive/My Drive/DLproject/IU - MUSIC/[2013] Modern Times - Epilogue/13. Daydream (한낮의 꿈 [feat Yang Hee Eun 양희은]).flac ... done\n",
            "78 : /content/gdrive/My Drive/DLproject/IU - MUSIC/[2013] Modern Times - Epilogue/14. Wait (기다려).flac ... done\n",
            "79 : /content/gdrive/My Drive/DLproject/IU - MUSIC/[2013] Modern Times - Epilogue/15. Voice Mail (Korean Ver).flac ... done\n",
            "80 : /content/gdrive/My Drive/DLproject/IU - MUSIC/[2013] Monday Afternoon/2. Follow The Moon.flac ... done\n",
            "81 : /content/gdrive/My Drive/DLproject/IU - MUSIC/[2013] Monday Afternoon/1. Monday Afternoon.flac ... done\n",
            "82 : /content/gdrive/My Drive/DLproject/IU - MUSIC/[2017] Palette/1. This Right Now (이 지금).flac ... done\n",
            "83 : /content/gdrive/My Drive/DLproject/IU - MUSIC/[2017] Palette/2. Palette (팔레트 [Feat G-DRAGON]).flac ... done\n",
            "84 : /content/gdrive/My Drive/DLproject/IU - MUSIC/[2017] Palette/3. Ending Scene (이런 엔딩).flac ... done\n",
            "85 : /content/gdrive/My Drive/DLproject/IU - MUSIC/[2017] Palette/4. Can't Love You Anymore (사랑이 잘 [With Oh Hyuk 오혁]).flac ... done\n",
            "86 : /content/gdrive/My Drive/DLproject/IU - MUSIC/[2017] Palette/5. Jam Jam (잼잼).flac ... done\n",
            "87 : /content/gdrive/My Drive/DLproject/IU - MUSIC/[2017] Palette/6. Black Out.flac ... done\n",
            "88 : /content/gdrive/My Drive/DLproject/IU - MUSIC/[2017] Palette/7. Full Stop (마침표).flac ... done\n",
            "89 : /content/gdrive/My Drive/DLproject/IU - MUSIC/[2017] Palette/9. Love Alone (그렇게 사랑은).flac ... done\n",
            "90 : /content/gdrive/My Drive/DLproject/IU - MUSIC/[2017] Palette/10. Dear Name (이름에게).flac ... done\n",
            "91 : /content/gdrive/My Drive/DLproject/IU - MUSIC/[2017] Palette/8. Through the Night (밤편지).flac ... done\n",
            "92 : /content/gdrive/My Drive/DLproject/IU - MUSIC/[2010] Real/1. Not Like This (이게 아닌데).flac ... done\n",
            "93 : /content/gdrive/My Drive/DLproject/IU - MUSIC/[2010] Real/2. What I'm Doing Slow (느리게 하는 일).flac ... done\n",
            "94 : /content/gdrive/My Drive/DLproject/IU - MUSIC/[2010] Real/3. Good Day (좋은 날).flac ... done\n",
            "95 : /content/gdrive/My Drive/DLproject/IU - MUSIC/[2010] Real/4. The Night of the First Breakup (첫 이별 그날 밤).flac ... done\n",
            "96 : /content/gdrive/My Drive/DLproject/IU - MUSIC/[2010] Real/5. Alone in the Room (혼자 있는 방).flac ... done\n",
            "97 : /content/gdrive/My Drive/DLproject/IU - MUSIC/[2010] Real/6. Merry Christmas in Advance (미리 메리 크리스마스 [Feat Thunder 천둥]).flac ... done\n",
            "98 : /content/gdrive/My Drive/DLproject/IU - MUSIC/[2014] A Flower Bookmark/1. My Old Story (나의 옛날이야기).flac ... done\n",
            "99 : /content/gdrive/My Drive/DLproject/IU - MUSIC/[2014] A Flower Bookmark/2. Flower (꽃).flac ... done\n",
            "100 : /content/gdrive/My Drive/DLproject/IU - MUSIC/[2014] A Flower Bookmark/3. Perriot Smiles at Us (삐에로는 우릴 보고 웃지).flac ... done\n",
            "101 : /content/gdrive/My Drive/DLproject/IU - MUSIC/[2014] A Flower Bookmark/4. When Love Passes By (사랑이 지나가면).flac ... done\n",
            "102 : /content/gdrive/My Drive/DLproject/IU - MUSIC/[2014] A Flower Bookmark/5. The Meaning of You (너의 의미 [Feat Kim Chang Wan 김창완]).flac ... done\n",
            "103 : /content/gdrive/My Drive/DLproject/IU - MUSIC/[2014] A Flower Bookmark/6. Dreams in Summer Night (여름밤의 꿈).flac ... done\n",
            "104 : /content/gdrive/My Drive/DLproject/IU - MUSIC/[2014] A Flower Bookmark/7. Boom Ladi Dadi (꿍따리 샤바라 [Feat Clon 클론]).flac ... done\n",
            "105 : /content/gdrive/My Drive/DLproject/IU - MUSIC/[2017] A Flower Bookmark 2/1. Autumn Morning (가을 아침).flac ... done\n",
            "106 : /content/gdrive/My Drive/DLproject/IU - MUSIC/[2017] A Flower Bookmark 2/2. Secret Garden (비밀의 화원) .flac ... done\n",
            "107 : /content/gdrive/My Drive/DLproject/IU - MUSIC/[2017] A Flower Bookmark 2/3. Sleepless Rainy Night (잠 못 드는 밤 비는 내리고).flac ... done\n",
            "108 : /content/gdrive/My Drive/DLproject/IU - MUSIC/[2017] A Flower Bookmark 2/4. Last Night Story (어젯밤 이야기).flac ... done\n",
            "109 : /content/gdrive/My Drive/DLproject/IU - MUSIC/[2017] A Flower Bookmark 2/5. By the Stream (개여울) .flac ... done\n",
            "110 : /content/gdrive/My Drive/DLproject/IU - MUSIC/[2017] A Flower Bookmark 2/6. Everyday With You (매일 그대와).flac ... done\n",
            "111 : /content/gdrive/My Drive/DLproject/IU - MUSIC/OSTs Unreleased Songs/[2016] My Dear Friend (Thank You For Being You) (친구야 친구 (너다워 고마워) [OST Scarlet Heart Ryeo]).flac ... done\n",
            "112 : /content/gdrive/My Drive/DLproject/IU - MUSIC/OSTs Unreleased Songs/[2015] Heart (마음 [OST The Producers]).flac ... done\n",
            "113 : /content/gdrive/My Drive/DLproject/IU - MUSIC/OSTs Unreleased Songs/[2020] Give You My Heart (마음을 드려요 [OST Crash Landing On You]).flac ... done\n",
            "114 : /content/gdrive/My Drive/DLproject/IU - MUSIC/OSTs Unreleased Songs/[2017] [Unreleased] With the Heart to Forget You (잊어야 한다는 마음으로).flac ... done\n",
            "115 : /content/gdrive/My Drive/DLproject/IU - MUSIC/OSTs Unreleased Songs/[2020] Into the I-LAND [OST I-LAND Part.1 Signal Song].flac ... done\n",
            "116 : /content/gdrive/My Drive/DLproject/IU - MUSIC/OSTs Unreleased Songs/[2011] Hold My Hand (Inst.) (내 손을 잡아 [OST The Greatest Love]).flac ... done\n",
            "117 : /content/gdrive/My Drive/DLproject/IU - MUSIC/Singles Feat/Singles/[2018] BBIBBI (삐삐).flac ... done\n",
            "118 : /content/gdrive/My Drive/DLproject/IU - MUSIC/Singles Feat/Singles/[2020] Eight [Prod.&Feat. SUGA of BTS].flac ... done\n",
            "119 : /content/gdrive/My Drive/DLproject/IU - MUSIC/Singles Feat/Singles/[2021] strawberry moon.flac ... done\n",
            "120 : /content/gdrive/My Drive/DLproject/IU - MUSIC/Singles Feat/As Featured Artist/[2014] Sogyeokdong by Seo Taiji (소격동).flac ... done\n",
            "121 : /content/gdrive/My Drive/DLproject/IU - MUSIC/Singles Feat/As Featured Artist/[2014] Not Spring, Love, or Cherry Blossoms by High4 [feat IU].flac ... done\n",
            "122 : /content/gdrive/My Drive/DLproject/IU - MUSIC/Singles Feat/As Featured Artist/[2021] Mother Nature H2O by Kang Seungwon [Feat. IU].flac ... done\n",
            "123 : /content/gdrive/My Drive/DLproject/IU - MUSIC/Singles Feat/As Featured Artist/[2022] GANADARA by Jay Park [feat IU].flac ... done\n",
            "124 : /content/gdrive/My Drive/DLproject/IU - MUSIC/Singles Feat/As Featured Artist/[2021] Nakka by AKMU [with IU].flac ... done\n",
            "125 : /content/gdrive/My Drive/DLproject/IU - MUSIC/Singles Feat/As Featured Artist/[2023] People Pt.2 by Agust D (Feat. IU).flac ... done\n",
            "126 : /content/gdrive/My Drive/DLproject/IU - MUSIC/Singles Feat/As Featured Artist/[2020] Small Room by Sweet Sorrow Inst. (Feat. IU).flac ... done\n",
            "127 : /content/gdrive/My Drive/DLproject/IU - MUSIC/Singles Feat/As Featured Artist/[2020] Small Room by Sweet Sorrow (Feat. IU).flac ... done\n",
            "128 : /content/gdrive/My Drive/DLproject/IU - MUSIC/[2012] Spring of a Twenty Year Old/1. Peach (복숭아).flac ... done\n",
            "129 : /content/gdrive/My Drive/DLproject/IU - MUSIC/[2012] Spring of a Twenty Year Old/3. Don't Like Her (그 애 참 싫다).flac ... done\n",
            "130 : /content/gdrive/My Drive/DLproject/IU - MUSIC/[2012] Spring of a Twenty Year Old/2. Every End of the Day (하루 끝).flac ... done\n",
            "131 : /content/gdrive/My Drive/DLproject/IU - MUSIC/[2011] I□U/2. Nagging (잔소리 [With 2AM Seulong 슬옹]).flac ... done\n",
            "132 : /content/gdrive/My Drive/DLproject/IU - MUSIC/[2011] I□U/3. Rain Drop.flac ... done\n",
            "133 : /content/gdrive/My Drive/DLproject/IU - MUSIC/[2011] I□U/4. Lost Child.flac ... done\n",
            "134 : /content/gdrive/My Drive/DLproject/IU - MUSIC/[2011] I□U/6. Only I Didn't Know (나만 몰랐던 이야기).flac ... done\n",
            "135 : /content/gdrive/My Drive/DLproject/IU - MUSIC/[2011] I□U/1. Good Day (좋은 날).flac ... done\n",
            "136 : /content/gdrive/My Drive/DLproject/IU - MUSIC/[2011] I□U/5. Last Fantasy.flac ... done\n",
            "137 : /content/gdrive/My Drive/DLproject/IU - MUSIC/[2011] Real+/1. Only I Didn't Know (나만 몰랐던 이야기).flac ... done\n",
            "138 : /content/gdrive/My Drive/DLproject/IU - MUSIC/[2011] Real+/2. Cruel Fairytale (잔혹동화).flac ... done\n",
            "139 : /content/gdrive/My Drive/DLproject/IU - MUSIC/[2011] Real+/3. Only I Didn't Know (나만 몰랐던 이야기 [with Pianist Kim Kwang Nim 김광민]).flac ... done\n",
            "140 : /content/gdrive/My Drive/DLproject/IU - MUSIC/[2012] You and I (Japanese Version)/3. You & I (FPM Technorchestra Mix).flac ... done\n",
            "141 : /content/gdrive/My Drive/DLproject/IU - MUSIC/[2012] You and I (Japanese Version)/1. You & I (Japanese Version).flac ... done\n",
            "142 : /content/gdrive/My Drive/DLproject/IU - MUSIC/[2012] You and I (Japanese Version)/2. Shounen Jidai.flac ... done\n",
            "143 : /content/gdrive/My Drive/DLproject/IU - MUSIC/[2015] Smash Hits/1. Lost Child (미아).flac ... done\n",
            "144 : /content/gdrive/My Drive/DLproject/IU - MUSIC/[2015] Smash Hits/2. Good Day (좋은 날).flac ... done\n",
            "145 : /content/gdrive/My Drive/DLproject/IU - MUSIC/[2015] Smash Hits/16. Twenty Three (스물셋).flac ... done\n",
            "146 : /content/gdrive/My Drive/DLproject/IU - MUSIC/[2015] Smash Hits/15. The Shower (푸르던).flac ... done\n",
            "147 : /content/gdrive/My Drive/DLproject/IU - MUSIC/[2015] Smash Hits/14. Shoes (새 신발).flac ... done\n",
            "148 : /content/gdrive/My Drive/DLproject/IU - MUSIC/[2015] Smash Hits/13. Heart (마음).flac ... done\n",
            "149 : /content/gdrive/My Drive/DLproject/IU - MUSIC/[2015] Smash Hits/12. My Old Story (나의 옛날이야기).flac ... done\n",
            "150 : /content/gdrive/My Drive/DLproject/IU - MUSIC/[2015] Smash Hits/11. Voice Mail (Korean Ver.).flac ... done\n",
            "151 : /content/gdrive/My Drive/DLproject/IU - MUSIC/[2015] Smash Hits/10. Friday feat. Jang Ji Yeong (금요일에 만나요).flac ... done\n",
            "152 : /content/gdrive/My Drive/DLproject/IU - MUSIC/[2015] Smash Hits/9. Secret (비밀).flac ... done\n",
            "153 : /content/gdrive/My Drive/DLproject/IU - MUSIC/[2015] Smash Hits/8. Peach (복숭아).flac ... done\n",
            "154 : /content/gdrive/My Drive/DLproject/IU - MUSIC/[2015] Smash Hits/7. Every End of the Day (하루 끝).flac ... done\n",
            "155 : /content/gdrive/My Drive/DLproject/IU - MUSIC/[2015] Smash Hits/6. You & I (너랑 나).flac ... done\n",
            "156 : /content/gdrive/My Drive/DLproject/IU - MUSIC/[2015] Smash Hits/5. The Night of the First Breakup (첫 이별 그날 밤).flac ... done\n",
            "157 : /content/gdrive/My Drive/DLproject/IU - MUSIC/[2015] Smash Hits/4. Only I Didn't Know (나만 몰랐던 이야기).flac ... done\n",
            "158 : /content/gdrive/My Drive/DLproject/IU - MUSIC/[2015] Smash Hits/3. Rain Drop.flac ... done\n",
            "159 : /content/gdrive/My Drive/DLproject/IU - MUSIC/[2018] Smash Hits 2/CD 1/3. Ending Scene (이런 엔딩).flac ... done\n",
            "160 : /content/gdrive/My Drive/DLproject/IU - MUSIC/[2018] Smash Hits 2/CD 1/1. Palette (팔레트 [Feat G-DRAGON]).flac ... done\n",
            "161 : /content/gdrive/My Drive/DLproject/IU - MUSIC/[2018] Smash Hits 2/CD 1/2. Red Queen [feat ZionT].flac ... done\n",
            "162 : /content/gdrive/My Drive/DLproject/IU - MUSIC/[2018] Smash Hits 2/CD 1/4. This Right Now (이 지금).flac ... done\n",
            "163 : /content/gdrive/My Drive/DLproject/IU - MUSIC/[2018] Smash Hits 2/CD 1/5. Zeze.flac ... done\n",
            "164 : /content/gdrive/My Drive/DLproject/IU - MUSIC/[2018] Smash Hits 2/CD 1/6. Can't Love You Anymore (사랑이 잘 [With Oh Hyuk 오혁]).flac ... done\n",
            "165 : /content/gdrive/My Drive/DLproject/IU - MUSIC/[2018] Smash Hits 2/CD 1/7. Through the Night (밤편지).flac ... done\n",
            "166 : /content/gdrive/My Drive/DLproject/IU - MUSIC/[2018] Smash Hits 2/CD 1/8. Dear Name (이름에게).flac ... done\n",
            "167 : /content/gdrive/My Drive/DLproject/IU - MUSIC/[2018] Smash Hits 2/CD 1/9. Knees (무릎).flac ... done\n",
            "168 : /content/gdrive/My Drive/DLproject/IU - MUSIC/[2018] Smash Hits 2/CD 1/10. Autumn Morning (가을 아침).flac ... done\n",
            "169 : /content/gdrive/My Drive/DLproject/IU - MUSIC/[2018] Smash Hits 2/CD 1/11. Sleepless Rainy Night (잠 못 드는 밤 비는 내리고).flac ... done\n",
            "170 : /content/gdrive/My Drive/DLproject/IU - MUSIC/[2018] Smash Hits 2/CD 1/12. Last Night Story (어젯밤 이야기).flac ... done\n",
            "171 : /content/gdrive/My Drive/DLproject/IU - MUSIC/[2018] Smash Hits 2/CD 2/9. Obliviate.flac ... done\n",
            "172 : /content/gdrive/My Drive/DLproject/IU - MUSIC/[2018] Smash Hits 2/CD 2/1. Boo.flac ... done\n",
            "173 : /content/gdrive/My Drive/DLproject/IU - MUSIC/[2018] Smash Hits 2/CD 2/8. When Love Passes By (사랑이 지나가면).flac ... done\n",
            "174 : /content/gdrive/My Drive/DLproject/IU - MUSIC/[2018] Smash Hits 2/CD 2/5. Ugly Duckling (미운 오리).flac ... done\n",
            "175 : /content/gdrive/My Drive/DLproject/IU - MUSIC/[2018] Smash Hits 2/CD 2/12. Hey (있잖아 (Rock ver.)).flac ... done\n",
            "176 : /content/gdrive/My Drive/DLproject/IU - MUSIC/[2018] Smash Hits 2/CD 2/2. Marshmallow (마쉬멜로우).flac ... done\n",
            "177 : /content/gdrive/My Drive/DLproject/IU - MUSIC/[2018] Smash Hits 2/CD 2/3. Nagging (잔소리 [With 2AM Seulong 슬옹]).flac ... done\n",
            "178 : /content/gdrive/My Drive/DLproject/IU - MUSIC/[2018] Smash Hits 2/CD 2/4. Taking A Train (기차를 타고).flac ... done\n",
            "179 : /content/gdrive/My Drive/DLproject/IU - MUSIC/[2018] Smash Hits 2/CD 2/6. Between the Lips (입술 사이(50cm)).flac ... done\n",
            "180 : /content/gdrive/My Drive/DLproject/IU - MUSIC/[2018] Smash Hits 2/CD 2/7. What I'm Doing Slow (느리게 하는 일).flac ... done\n",
            "181 : /content/gdrive/My Drive/DLproject/IU - MUSIC/[2018] Smash Hits 2/CD 2/10. Merry Christmas in Advance (미리 메리 크리스마스 [Feat Thunder 천둥]).flac ... done\n",
            "182 : /content/gdrive/My Drive/DLproject/IU - MUSIC/[2018] Smash Hits 2/CD 2/11. Bad Day (싫은 날).flac ... done\n",
            "183 : /content/gdrive/My Drive/DLproject/IU - MUSIC/Live Band Acoustic/[2020] 091820 KBS Sketchbook Special/1. Autumn Morning.flac ... done\n",
            "184 : /content/gdrive/My Drive/DLproject/IU - MUSIC/Live Band Acoustic/[2020] 091820 KBS Sketchbook Special/2. Friday.flac ... done\n",
            "185 : /content/gdrive/My Drive/DLproject/IU - MUSIC/Live Band Acoustic/[2020] 091820 KBS Sketchbook Special/3. Marshmallow.flac ... done\n",
            "186 : /content/gdrive/My Drive/DLproject/IU - MUSIC/Live Band Acoustic/[2020] 091820 KBS Sketchbook Special/4. Unlucky.flac ... done\n",
            "187 : /content/gdrive/My Drive/DLproject/IU - MUSIC/Live Band Acoustic/[2020] 091820 KBS Sketchbook Special/5. BBIBBI.flac ... done\n",
            "188 : /content/gdrive/My Drive/DLproject/IU - MUSIC/Live Band Acoustic/[2020] 091820 KBS Sketchbook Special/6. Eight.flac ... done\n",
            "189 : /content/gdrive/My Drive/DLproject/IU - MUSIC/Live Band Acoustic/[2020] 091820 KBS Sketchbook Special/7. Blueming.flac ... done\n",
            "190 : /content/gdrive/My Drive/DLproject/IU - MUSIC/Live Band Acoustic/[2020] 091820 KBS Sketchbook Special/8. Meaning of You.flac ... done\n",
            "191 : /content/gdrive/My Drive/DLproject/IU - MUSIC/Live Band Acoustic/[2020] 091820 KBS Sketchbook Special/9. Heart.flac ... done\n",
            "192 : /content/gdrive/My Drive/DLproject/IU - MUSIC/Live Band Acoustic/[2020] 091820 KBS Sketchbook Special/10. Unreleased Song.flac ... done\n",
            "193 : /content/gdrive/My Drive/DLproject/IU - MUSIC/Live Band Acoustic/[2020] 091820 KBS Sketchbook Special/11. Knees.flac ... done\n",
            "194 : /content/gdrive/My Drive/DLproject/IU - MUSIC/Live Band Acoustic/[2020] 091820 KBS Sketchbook Special/12. Through the Night.flac ... done\n",
            "195 : /content/gdrive/My Drive/DLproject/IU - MUSIC/Live Band Acoustic/[2020] 091820 KBS Sketchbook Special/13. Above the Time.flac ... done\n",
            "196 : /content/gdrive/My Drive/DLproject/IU - MUSIC/Live Band Acoustic/[2020] 091820 KBS Sketchbook Special/14. You & I.flac ... done\n",
            "197 : /content/gdrive/My Drive/DLproject/IU - MUSIC/Live Band Acoustic/[2020] 091820 KBS Sketchbook Special/15. Love Poem.flac ... done\n",
            "198 : /content/gdrive/My Drive/DLproject/IU - MUSIC/Live Band Acoustic/[2020] 091820 KBS Sketchbook Special/16. Good Day.flac ... done\n",
            "199 : /content/gdrive/My Drive/DLproject/IU - MUSIC/Live Band Acoustic/2019 IU CONCERT LOVE POEM FLACS/01 Intro.flac ... done\n",
            "200 : /content/gdrive/My Drive/DLproject/IU - MUSIC/Live Band Acoustic/2019 IU CONCERT LOVE POEM FLACS/02 unlucky.flac ... done\n",
            "201 : /content/gdrive/My Drive/DLproject/IU - MUSIC/Live Band Acoustic/2019 IU CONCERT LOVE POEM FLACS/15 Knees.flac ... done\n",
            "202 : /content/gdrive/My Drive/DLproject/IU - MUSIC/Live Band Acoustic/2019 IU CONCERT LOVE POEM FLACS/19 Through the Night.flac ... done\n",
            "203 : /content/gdrive/My Drive/DLproject/IU - MUSIC/Live Band Acoustic/2019 IU CONCERT LOVE POEM FLACS/06 Secret Garden.flac ... done\n",
            "204 : /content/gdrive/My Drive/DLproject/IU - MUSIC/Live Band Acoustic/2019 IU CONCERT LOVE POEM FLACS/08 Red Queen.flac ... done\n",
            "205 : /content/gdrive/My Drive/DLproject/IU - MUSIC/Live Band Acoustic/2019 IU CONCERT LOVE POEM FLACS/07 The Visitor.flac ... done\n",
            "206 : /content/gdrive/My Drive/DLproject/IU - MUSIC/Live Band Acoustic/2019 IU CONCERT LOVE POEM FLACS/09 Jam Jam.flac ... done\n",
            "207 : /content/gdrive/My Drive/DLproject/IU - MUSIC/Live Band Acoustic/2019 IU CONCERT LOVE POEM FLACS/22 Above the Time.flac ... done\n",
            "208 : /content/gdrive/My Drive/DLproject/IU - MUSIC/Live Band Acoustic/2019 IU CONCERT LOVE POEM FLACS/23 You and I.flac ... done\n",
            "209 : /content/gdrive/My Drive/DLproject/IU - MUSIC/Live Band Acoustic/2019 IU CONCERT LOVE POEM FLACS/25 Love Poem.flac ... done\n",
            "210 : /content/gdrive/My Drive/DLproject/IU - MUSIC/Live Band Acoustic/2019 IU CONCERT LOVE POEM FLACS/26 Ending Credits.flac ... done\n",
            "211 : /content/gdrive/My Drive/DLproject/IU - MUSIC/Live Band Acoustic/2019 IU CONCERT LOVE POEM FLACS/13 Blueming.flac ... done\n",
            "212 : /content/gdrive/My Drive/DLproject/IU - MUSIC/Live Band Acoustic/2019 IU CONCERT LOVE POEM FLACS/20 Sogyeokdong.flac ... done\n",
            "213 : /content/gdrive/My Drive/DLproject/IU - MUSIC/Live Band Acoustic/2019 IU CONCERT LOVE POEM FLACS/03 Palette.flac ... done\n",
            "214 : /content/gdrive/My Drive/DLproject/IU - MUSIC/Live Band Acoustic/2019 IU CONCERT LOVE POEM FLACS/04 Autumn Morning.flac ... done\n",
            "215 : /content/gdrive/My Drive/DLproject/IU - MUSIC/Live Band Acoustic/2019 IU CONCERT LOVE POEM FLACS/05 Friday.flac ... done\n",
            "216 : /content/gdrive/My Drive/DLproject/IU - MUSIC/Live Band Acoustic/2019 IU CONCERT LOVE POEM FLACS/10 Twenty-Three.flac ... done\n",
            "217 : /content/gdrive/My Drive/DLproject/IU - MUSIC/Live Band Acoustic/2019 IU CONCERT LOVE POEM FLACS/11 BBIBBI.flac ... done\n",
            "218 : /content/gdrive/My Drive/DLproject/IU - MUSIC/Live Band Acoustic/2019 IU CONCERT LOVE POEM FLACS/12 Hold My Hand.flac ... done\n",
            "219 : /content/gdrive/My Drive/DLproject/IU - MUSIC/Live Band Acoustic/2019 IU CONCERT LOVE POEM FLACS/14 Meaning of You.flac ... done\n",
            "220 : /content/gdrive/My Drive/DLproject/IU - MUSIC/Live Band Acoustic/2019 IU CONCERT LOVE POEM FLACS/16 Bad Day.flac ... done\n",
            "221 : /content/gdrive/My Drive/DLproject/IU - MUSIC/Live Band Acoustic/2019 IU CONCERT LOVE POEM FLACS/17 Child Searching for a Star.flac ... done\n",
            "222 : /content/gdrive/My Drive/DLproject/IU - MUSIC/Live Band Acoustic/2019 IU CONCERT LOVE POEM FLACS/18 Lullaby.flac ... done\n",
            "223 : /content/gdrive/My Drive/DLproject/IU - MUSIC/Live Band Acoustic/2019 IU CONCERT LOVE POEM FLACS/21 The Red Shoes.flac ... done\n",
            "224 : /content/gdrive/My Drive/DLproject/IU - MUSIC/Live Band Acoustic/2019 IU CONCERT LOVE POEM FLACS/24 Good Day.flac ... done\n",
            "225 : /content/gdrive/My Drive/DLproject/IU - MUSIC/[2021] Pieces/4. You.flac ... done\n",
            "226 : /content/gdrive/My Drive/DLproject/IU - MUSIC/[2021] Pieces/5. Love Letter.flac ... done\n",
            "227 : /content/gdrive/My Drive/DLproject/IU - MUSIC/[2021] Pieces/2. Next Stop.flac ... done\n",
            "228 : /content/gdrive/My Drive/DLproject/IU - MUSIC/[2021] Pieces/3. Winter Sleep.flac ... done\n",
            "229 : /content/gdrive/My Drive/DLproject/IU - MUSIC/[2021] Pieces/1. Drama.flac ... done\n",
            "0 : /content/gdrive/My Drive/DLproject/IU - MUSIC/OSTs Unreleased Songs/[2011] Alicia [OST Alicia].mp3 ... done\n",
            "1 : /content/gdrive/My Drive/DLproject/IU - MUSIC/OSTs Unreleased Songs/[2011] Alicia (Inst) [OST Alicia].mp3 ... done\n",
            "2 : /content/gdrive/My Drive/DLproject/IU - MUSIC/OSTs Unreleased Songs/[2010] Because I'm A Woman (Piano Version) [OST Road No. 1].mp3 ... done\n",
            "3 : /content/gdrive/My Drive/DLproject/IU - MUSIC/OSTs Unreleased Songs/[2010] Because I'm A Woman [OST Road No. 1].mp3 ... done\n",
            "4 : /content/gdrive/My Drive/DLproject/IU - MUSIC/OSTs Unreleased Songs/[2011] Hold My Hand (Inst.) (내 손을 잡아 [OST The Greatest Love]).mp3 ... done\n",
            "5 : /content/gdrive/My Drive/DLproject/IU - MUSIC/OSTs Unreleased Songs/[2010] Fifth Finger (다섯째 손가락 [OST 19-Nineteen]).mp3 ... done\n",
            "6 : /content/gdrive/My Drive/DLproject/IU - MUSIC/OSTs Unreleased Songs/[2012] Atreia [OST Aion].mp3 ... done\n",
            "7 : /content/gdrive/My Drive/DLproject/IU - MUSIC/OSTs Unreleased Songs/[2011] Someday [OST Dream High].mp3 ... done\n",
            "8 : /content/gdrive/My Drive/DLproject/IU - MUSIC/OSTs Unreleased Songs/[2011] Dream High (드림하이) [OST Dream High].mp3 ... done\n",
            "9 : /content/gdrive/My Drive/DLproject/IU - MUSIC/Singles Feat/As Featured Artist/[2017] Cat by Sunwoo Jung-a (Inst.) (고양이 [Feat. IU]).mp3 ... done\n",
            "10 : /content/gdrive/My Drive/DLproject/IU - MUSIC/Singles Feat/As Featured Artist/[2017] Cat by Sunwoo Jung-a (고양이 [Feat. IU]).mp3 ... done\n",
            "11 : /content/gdrive/My Drive/DLproject/IU - MUSIC/Singles Feat/As Featured Artist/[2015] Leon by Park Myung Soo [feat IU as Eu God-G isn't EU].mp3 ... done\n",
            "12 : /content/gdrive/My Drive/DLproject/IU - MUSIC/Singles Feat/As Featured Artist/[2014] Summer Love by Ulala Session [feat IU].mp3 ... done\n",
            "13 : /content/gdrive/My Drive/DLproject/IU - MUSIC/[2012] Good Day (Japanese Version)/1. Good Day (Japanese Version).mp3 ... done\n",
            "14 : /content/gdrive/My Drive/DLproject/IU - MUSIC/[2012] Good Day (Japanese Version)/2. Rain Drop (Japanese Version).mp3 ... done\n",
            "15 : /content/gdrive/My Drive/DLproject/IU - MUSIC/[2012] Good Day (Japanese Version)/3. Good Day (Japanese Version) [Instrumental].mp3 ... done\n",
            "16 : /content/gdrive/My Drive/DLproject/IU - MUSIC/[2012] Good Day (Japanese Version)/4. Rain Drop (Japanese Version) [Instrumental].mp3 ... done\n",
            "17 : /content/gdrive/My Drive/DLproject/IU - MUSIC/Covers/우린 봄이 오기 전에 (Before Our Spring).mp3 ... done\n",
            "18 : /content/gdrive/My Drive/DLproject/IU - MUSIC/Covers/십이월 이십오일의 고백.mp3 ... done\n",
            "19 : /content/gdrive/My Drive/DLproject/IU - MUSIC/Covers/가을 밤에 든 생각.mp3 ... done\n",
            "20 : /content/gdrive/My Drive/DLproject/IU - MUSIC/Covers/주저하는 연인들을 위해.mp3 ... done\n",
            "21 : /content/gdrive/My Drive/DLproject/IU - MUSIC/Covers/Life Goes On.mp3 ... done\n",
            "22 : /content/gdrive/My Drive/DLproject/IU - MUSIC/Covers/Santa Tell Me.mp3 ... done\n",
            "23 : /content/gdrive/My Drive/DLproject/IU - MUSIC/Covers/희재.mp3 ... done\n",
            "24 : /content/gdrive/My Drive/DLproject/IU - MUSIC/Covers/도망가자.mp3 ... done\n",
            "25 : /content/gdrive/My Drive/DLproject/IU - MUSIC/Covers/How Far I'll Go.mp3 ... done\n",
            "26 : /content/gdrive/My Drive/DLproject/IU - MUSIC/Covers/IU (아이유) – 12월 24일 (D.ear Cover).mp3 ... done\n",
            "27 : /content/gdrive/My Drive/DLproject/IU - MUSIC/Covers/IU - Silent Night, Holy Night .mp3 ... done\n",
            "28 : /content/gdrive/My Drive/DLproject/IU - MUSIC/Covers/PSY feat. IU - What Would Have Been (SBS Fantastic Duo S2E9).mp3 ... done\n",
            "29 : /content/gdrive/My Drive/DLproject/IU - MUSIC/Live Band Acoustic/[2020] Eight [Prod.&Feat. SUGA of BTS] [Acoustic].mp3 ... done\n",
            "30 : /content/gdrive/My Drive/DLproject/IU - MUSIC/Live Band Acoustic/[IU] Palette (팔레트) Acoustic Ver. (Feat. UAENA).mp3 ... done\n",
            "31 : /content/gdrive/My Drive/DLproject/IU - MUSIC/Live Band Acoustic/Celebrity [Acoustic] (Famous Singer Episode).mp3 ... done\n",
            "32 : /content/gdrive/My Drive/DLproject/IU - MUSIC/Live Band Acoustic/[Picnic Live Season2 EP.105] IU - Full Stop.mp3 ... done\n",
            "33 : /content/gdrive/My Drive/DLproject/IU - MUSIC/Live Band Acoustic/[Picnic Live Season2 EP.105] IU - Naui Yetnal Iyagi  My old story.mp3 ... done\n",
            "34 : /content/gdrive/My Drive/DLproject/IU - MUSIC/Live Band Acoustic/[IU 12th ANNIVERSARY] 아이유 - 보이스 메일 (IU - Voice Mail).mp3 ... done\n",
            "35 : /content/gdrive/My Drive/DLproject/IU - MUSIC/Live Band Acoustic/[Picnic Live Season2 EP.105] 아이유 - 금요일에 만나요(IU - Friday).mp3 ... done\n",
            "36 : /content/gdrive/My Drive/DLproject/IU - MUSIC/Live Band Acoustic/[Picnic Live Season2 EP.104] 아이유 - 밤편지 (IU - Through the Night).mp3 ... done\n",
            "37 : /content/gdrive/My Drive/DLproject/IU - MUSIC/Live Band Acoustic/[Picnic Live Season2 EP.104] 아이유 - 이런 엔딩 (IU -  Ending Scene).mp3 ... done\n",
            "38 : /content/gdrive/My Drive/DLproject/IU - MUSIC/Live Band Acoustic/[Picnic Live Season2 EP.105] 아이유 - 이름에게 (IU - Dear Name).mp3 ... done\n",
            "39 : /content/gdrive/My Drive/DLproject/IU - MUSIC/Live Band Acoustic/[Picnic Live Season2 EP.104] 아이유 - 이지금(IU - dlwlrma).mp3 ... done\n",
            "40 : /content/gdrive/My Drive/DLproject/IU - MUSIC/Live Band Acoustic/[Picnic Live Season2 EP.104] 아이유 - 팔레트(IU -  Palette).mp3 ... done\n",
            "41 : /content/gdrive/My Drive/DLproject/IU - MUSIC/Live Band Acoustic/IU(아이유) - Lilac(라일락(Acoustic Ver.)).mp3 ... done\n",
            "42 : /content/gdrive/My Drive/DLproject/IU - MUSIC/Live Band Acoustic/IU(아이유) - Coin(Band Ver.).mp3 ... done\n",
            "43 : /content/gdrive/My Drive/DLproject/IU - MUSIC/Live Band Acoustic/아이유 - Hi Spring Bye 봄 안녕 봄 (Band Ver.).mp3 ... done\n",
            "44 : /content/gdrive/My Drive/DLproject/IU - MUSIC/Live Band Acoustic/[MMA 2021] Lilac Performance.mp3 ... done\n",
            "45 : /content/gdrive/My Drive/DLproject/IU - MUSIC/Live Band Acoustic/[MMA 2021] Strawberry Moon Performance.mp3 ... done\n",
            "46 : /content/gdrive/My Drive/DLproject/IU - MUSIC/Live Band Acoustic/[MMA 2021] Celebrity Performance.mp3 ... done\n",
            "47 : /content/gdrive/My Drive/DLproject/IU - MUSIC/Live Band Acoustic/IU - 'Next Stop' Pre-release Live Clip.mp3 ... "
          ]
        },
        {
          "output_type": "stream",
          "name": "stderr",
          "text": [
            "<ipython-input-4-1bb9337c0c03>:16: UserWarning: PySoundFile failed. Trying audioread instead.\n",
            "  y, sr = librosa.load(audio_path, sr=None)\n",
            "/usr/local/lib/python3.10/dist-packages/librosa/core/audio.py:184: FutureWarning: librosa.core.audio.__audioread_load\n",
            "\tDeprecated as of librosa version 0.10.0.\n",
            "\tIt will be removed in librosa version 1.0.\n",
            "  y, sr_native = __audioread_load(path, offset, duration, dtype)\n"
          ]
        },
        {
          "output_type": "stream",
          "name": "stdout",
          "text": [
            "done\n",
            "48 : /content/gdrive/My Drive/DLproject/IU - MUSIC/Live Band Acoustic/[GDA 2022] LILAC band vers.mp3 ... done\n",
            "49 : /content/gdrive/My Drive/DLproject/IU - MUSIC/Live Band Acoustic/[GDA 2022] Celebrity band vers.mp3 ... done\n",
            "50 : /content/gdrive/My Drive/DLproject/IU - MUSIC/Live Band Acoustic/IU's Palette Music/IU Palette 1 - IU Love of B 을의 연애.mp3 ... done\n",
            "51 : /content/gdrive/My Drive/DLproject/IU - MUSIC/Live Band Acoustic/IU's Palette Music/IU Palette 1 - Jukjae Letter 잘 지내.mp3 ... done\n",
            "52 : /content/gdrive/My Drive/DLproject/IU - MUSIC/Live Band Acoustic/IU's Palette Music/IU Palette 2 - IU Palette 팔레트 with Loco.mp3 ... done\n",
            "53 : /content/gdrive/My Drive/DLproject/IU - MUSIC/Live Band Acoustic/IU's Palette Music/IU Palette 3 - Lee Seung Gi Love 사랑.mp3 ... done\n",
            "54 : /content/gdrive/My Drive/DLproject/IU - MUSIC/Live Band Acoustic/IU's Palette Music/IU Palette 3 - IU Give You My Heart 마음을 드려요 with Lee Seung Gi.mp3 ... done\n",
            "55 : /content/gdrive/My Drive/DLproject/IU - MUSIC/Live Band Acoustic/IU's Palette Music/IU Palette 4 - ITZY Surf.mp3 ... done\n",
            "56 : /content/gdrive/My Drive/DLproject/IU - MUSIC/Live Band Acoustic/IU's Palette Music/IU Palette 5 - Shinee Sherlock.mp3 ... done\n",
            "57 : /content/gdrive/My Drive/DLproject/IU - MUSIC/Live Band Acoustic/IU's Palette Music/IU Palette 6 - IU Love Poem with Byun Yohan.mp3 ... done\n",
            "58 : /content/gdrive/My Drive/DLproject/IU - MUSIC/Live Band Acoustic/IU's Palette Music/IU Palette 7 - IU Ah Puh 어푸.mp3 ... done\n",
            "59 : /content/gdrive/My Drive/DLproject/IU - MUSIC/Live Band Acoustic/IU's Palette Music/IU Palette 7 - IU Coin.mp3 ... done\n",
            "60 : /content/gdrive/My Drive/DLproject/IU - MUSIC/Live Band Acoustic/IU's Palette Music/IU Palette 7 - IU Epilogue 에필로그.mp3 ... done\n",
            "61 : /content/gdrive/My Drive/DLproject/IU - MUSIC/Live Band Acoustic/IU's Palette Music/IU Palette 7 - IU Every End of the Day 스무 살의 봄.mp3 ... done\n",
            "62 : /content/gdrive/My Drive/DLproject/IU - MUSIC/Live Band Acoustic/IU's Palette Music/IU Palette 2 - Loco Cant Sleep 잠이 들어야.mp3 ... done\n",
            "63 : /content/gdrive/My Drive/DLproject/IU - MUSIC/Live Band Acoustic/IU's Palette Music/IU Palette 8 - IU By the Stream 개여울.mp3 ... done\n",
            "64 : /content/gdrive/My Drive/DLproject/IU - MUSIC/Live Band Acoustic/IU's Palette Music/IU Palette 8 - IU Full Stop 마침표.mp3 ... done\n",
            "65 : /content/gdrive/My Drive/DLproject/IU - MUSIC/Live Band Acoustic/IU's Palette Music/IU Palette 8 - IU Hi Spring Bye 봄 안녕 봄.mp3 ... done\n",
            "66 : /content/gdrive/My Drive/DLproject/IU - MUSIC/Live Band Acoustic/IU's Palette Music/IU Palette 9 - AKMU Farewell 작별 인사.mp3 ... done\n",
            "67 : /content/gdrive/My Drive/DLproject/IU - MUSIC/Live Band Acoustic/IU's Palette Music/IU Palette 9 - AKMU NAKKA 낙하.mp3 ... done\n",
            "68 : /content/gdrive/My Drive/DLproject/IU - MUSIC/Live Band Acoustic/IU's Palette Music/IU Palette 10 - 2AM What Should I Do.mp3 ... done\n",
            "69 : /content/gdrive/My Drive/DLproject/IU - MUSIC/Live Band Acoustic/IU's Palette Music/IU Palette 11 - Jay Park Yacht.mp3 ... done\n",
            "70 : /content/gdrive/My Drive/DLproject/IU - MUSIC/Live Band Acoustic/IU's Palette Music/IU Palette 11 - Jay Park feat IU GANADARA.mp3 ... done\n",
            "71 : /content/gdrive/My Drive/DLproject/IU - MUSIC/Live Band Acoustic/IU's Palette Music/IU Palette 12 - Darl+ing Cover (By. SEVENTEEN).mp3 ... done\n",
            "72 : /content/gdrive/My Drive/DLproject/IU - MUSIC/Live Band Acoustic/IU's Palette Music/IU Palette 13 - Flying deep in the night (cover) ft Jooyoung, Song Kang Ho, Kang Dong Won.mp3 ... done\n",
            "73 : /content/gdrive/My Drive/DLproject/IU - MUSIC/Live Band Acoustic/IU's Palette Music/IU Palette 13 - Secret Garden ft Jooyoung .mp3 ... done\n",
            "74 : /content/gdrive/My Drive/DLproject/IU - MUSIC/Live Band Acoustic/IU's Palette Music/IU Palette 14 - J-Hope Equal Sign with IU.mp3 ... "
          ]
        },
        {
          "output_type": "stream",
          "name": "stderr",
          "text": [
            "<ipython-input-4-1bb9337c0c03>:16: UserWarning: PySoundFile failed. Trying audioread instead.\n",
            "  y, sr = librosa.load(audio_path, sr=None)\n",
            "/usr/local/lib/python3.10/dist-packages/librosa/core/audio.py:184: FutureWarning: librosa.core.audio.__audioread_load\n",
            "\tDeprecated as of librosa version 0.10.0.\n",
            "\tIt will be removed in librosa version 1.0.\n",
            "  y, sr_native = __audioread_load(path, offset, duration, dtype)\n"
          ]
        },
        {
          "output_type": "stream",
          "name": "stdout",
          "text": [
            "done\n",
            "75 : /content/gdrive/My Drive/DLproject/IU - MUSIC/Live Band Acoustic/IU's Palette Music/IU Palette 14 - IU Pierrot Laughs At Us 연애 with J-Hope.mp3 ... "
          ]
        },
        {
          "output_type": "stream",
          "name": "stderr",
          "text": [
            "/usr/local/lib/python3.10/dist-packages/librosa/core/spectrum.py:256: UserWarning: n_fft=2048 is too large for input signal of length=768\n",
            "  warnings.warn(\n",
            "/usr/local/lib/python3.10/dist-packages/numpy/fft/helper.py:218: RuntimeWarning: divide by zero encountered in double_scalars\n",
            "  val = 1.0/(n*d)\n",
            "/usr/local/lib/python3.10/dist-packages/numpy/fft/helper.py:221: RuntimeWarning: invalid value encountered in multiply\n",
            "  return results * val\n"
          ]
        },
        {
          "output_type": "stream",
          "name": "stdout",
          "text": [
            "done\n",
            "76 : /content/gdrive/My Drive/DLproject/IU - MUSIC/Live Band Acoustic/IU's Palette Music/IU Palette 15 - Crush Fall with IU.mp3 ... done\n",
            "77 : /content/gdrive/My Drive/DLproject/IU - MUSIC/Live Band Acoustic/IU's Palette Music/IU Palette 16 - KARA Mamma Mia 맘마미아.mp3 ... done\n",
            "78 : /content/gdrive/My Drive/DLproject/IU - MUSIC/Live Band Acoustic/IU's Palette Music/IU Palette 17 - G.O.D 0%.mp3 ... done\n",
            "79 : /content/gdrive/My Drive/DLproject/IU - MUSIC/Live Band Acoustic/IU's Palette Music/IU Palette 17 - G.O.D An Ordinary Day.mp3 ... done\n",
            "80 : /content/gdrive/My Drive/DLproject/IU - MUSIC/Live Band Acoustic/IU's Palette Music/IU Palette 18 - IU You 너.mp3 ... done\n",
            "81 : /content/gdrive/My Drive/DLproject/IU - MUSIC/Live Band Acoustic/IU's Palette Music/IU Palette 18 - IU Drama with Yoo Inna.mp3 ... done\n",
            "82 : /content/gdrive/My Drive/DLproject/IU - MUSIC/Live Band Acoustic/IU's Palette Music/IU Palette 19 - Suga People pt.2 with IU.mp3 ... done\n",
            "83 : /content/gdrive/My Drive/DLproject/IU - MUSIC/Live Band Acoustic/IU's Palette Music/IU Palette 19 - IU Eight with Suga.mp3 ... done\n",
            "84 : /content/gdrive/My Drive/DLproject/IU - MUSIC/Live Band Acoustic/IU's Palette Music/IU Palette 20 - IU Love Poem with Park Seo Joon.mp3 ... done\n",
            "85 : /content/gdrive/My Drive/DLproject/IU - MUSIC/Live Band Acoustic/IU's Palette Music/IU Palette 20 - IU Knees with Jung Seung-kil.mp3 ... done\n",
            "86 : /content/gdrive/My Drive/DLproject/IU - MUSIC/Live Band Acoustic/IU's Palette Music/IU Palette 20 - IU A Dreamer with Heo Joon-seok.mp3 ... done\n",
            "87 : /content/gdrive/My Drive/DLproject/IU - MUSIC/Live Band Acoustic/IU's Palette Music/IU Palette 18 - Yoo Inna 넌 그날 with IU.mp3 ... done\n"
          ]
        }
      ]
    },
    {
      "cell_type": "code",
      "source": [
        "top_freq_count = total.most_common(100)\n",
        "top_freq = []\n",
        "top_counts = []\n",
        "for freq, count in top_freq_count:\n",
        "  top_freq.append(freq)\n",
        "  top_counts.append(count)\n",
        "print(top_freq)\n",
        "print(top_counts)\n",
        "csv_data = pd.DataFrame(top_freq)\n",
        "csv_data.to_csv('top_freq.csv', index=False)"
      ],
      "metadata": {
        "colab": {
          "base_uri": "https://localhost:8080/"
        },
        "id": "FBJt6J4CzRUJ",
        "outputId": "fcddcb98-957f-44fe-ce37-0e9ef4503a8c"
      },
      "execution_count": null,
      "outputs": [
        {
          "output_type": "stream",
          "name": "stdout",
          "text": [
            "[64.599609375, 86.1328125, 43.06640625, 107.666015625, 233.57664233576645, 0.0, 116.78832116788323, 700.7299270072994, 583.9416058394161, 817.5182481751826, 934.3065693430658, 129.19921875, 322.998046875, 279.931640625, 215.33203125, 236.865234375, 301.46484375, 387.59765625, 366.064453125, 150.732421875, 172.265625, 1051.094890510949, 193.798828125, 409.130859375, 258.3984375, 350.3649635036497, 344.53125, 467.1532846715329, 495.263671875, 235.29411764705887, 430.6640625, 428.5714285714286, 440.36697247706417, 1165.9919028340082, 313.72549019607845, 156.86274509803923, 444.44444444444446, 971.65991902834, 406.77966101694915, 705.8823529411766, 679.8866855524079, 46.875, 559.86328125, 888.8888888888889, 153.5181236673774, 1054.9450549450548, 990.52734375, 417.3913043478261, 94.86166007905139, 882.861328125, 111.11111111111111, 271.95467422096317, 667.529296875, 473.73046875, 626.0869565217392, 93.75, 103.00429184549357, 203.38983050847457, 1669.5652173913045, 588.2352941176472, 1460.8695652173915, 1043.4782608695652, 834.7826086956522, 2452.554744525548, 1167.8832116788321, 516.796875, 214.2857142857143, 438.3561643835617, 581.396484375, 452.197265625, 1868.6131386861316, 204.6908315565032, 1284.6715328467155, 1635.0364963503653, 610.1694915254237, 527.4725274725274, 296.2962962962963, 951.8413597733711, 235.98820058997052, 643.43163538874, 115.52346570397113, 1071.4285714285716, 1249.0706319702604, 892.193308550186, 732.12890625, 1360.3238866396762, 582.9959514170041, 388.66396761133603, 543.9093484419263, 281.25, 117.07317073170732, 104.57516339869281, 925.927734375, 879.1208791208792, 206.00858369098714, 257.372654155496, 330.12379642365886, 148.14814814814815, 2218.978102189781, 519.85559566787]\n",
            "[122660, 89104, 84618, 77505, 60543, 59272, 51096, 46203, 45286, 43598, 39976, 39035, 38702, 37369, 37359, 36452, 34867, 34686, 34537, 33714, 31830, 29404, 28863, 28798, 28181, 27642, 27240, 24656, 23583, 23364, 21480, 21280, 18956, 18018, 17703, 17395, 17171, 16521, 16491, 16479, 16176, 15936, 15860, 15757, 15710, 15517, 15505, 15372, 14779, 14514, 14295, 14120, 14070, 13873, 13705, 13566, 13466, 13211, 13079, 13026, 12964, 12915, 12784, 12666, 12562, 12508, 12425, 12206, 12132, 12003, 11805, 11662, 11567, 11312, 11036, 11006, 10822, 10626, 10376, 10304, 10273, 10199, 10058, 10045, 10027, 9752, 9635, 9615, 9370, 9368, 9304, 9254, 9237, 9214, 9026, 9011, 8989, 8938, 8887, 8874]\n"
          ]
        }
      ]
    },
    {
      "cell_type": "code",
      "source": [],
      "metadata": {
        "id": "u5IxAr3Z3IeN"
      },
      "execution_count": null,
      "outputs": []
    }
  ]
}